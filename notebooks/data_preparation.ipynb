{
 "cells": [
  {
   "cell_type": "markdown",
   "metadata": {},
   "source": [
    "## DATA PREPARATION"
   ]
  },
  {
   "cell_type": "markdown",
   "metadata": {},
   "source": [
    "### Libraries import and Spotify API authentication"
   ]
  },
  {
   "cell_type": "code",
   "execution_count": 7,
   "metadata": {},
   "outputs": [],
   "source": [
    "# Import libraries\n",
    "import numpy as np\n",
    "import pandas as pd\n",
    "import spotipy\n",
    "import spotipy.util as util"
   ]
  },
  {
   "cell_type": "code",
   "execution_count": 8,
   "metadata": {},
   "outputs": [],
   "source": [
    "# Authentication details\n",
    "my_username = \"oso41\"\n",
    "chosen_scope = \"user-library-read\"\n",
    "my_client_id = \"\"\n",
    "my_client_secret = \"\""
   ]
  },
  {
   "cell_type": "code",
   "execution_count": 9,
   "metadata": {},
   "outputs": [],
   "source": [
    "# Token creation\n",
    "# Prompts a webpage where the user needs to authenticate. Then it redirect to a website, the url of which needs to be pasted\n",
    "# below in order to validate the authorization\n",
    "\n",
    "token = util.prompt_for_user_token(username=my_username,\n",
    "                                   scope=chosen_scope,\n",
    "                                   client_id=my_client_id,\n",
    "                                   client_secret=my_client_secret,\n",
    "                                   redirect_uri=\"http://127.0.0.1/\")"
   ]
  },
  {
   "cell_type": "code",
   "execution_count": 10,
   "metadata": {},
   "outputs": [],
   "source": [
    "# Create spotipy object\n",
    "sp = spotipy.Spotify(auth=token)"
   ]
  },
  {
   "cell_type": "markdown",
   "metadata": {},
   "source": [
    "### Functions to retrieve track features from a playlist"
   ]
  },
  {
   "cell_type": "code",
   "execution_count": 17,
   "metadata": {},
   "outputs": [],
   "source": [
    "def get_tracks(playlist_id, playlist_length):\n",
    "    '''Gets the main information for all tracks in a playlist\n",
    "    \n",
    "    Input:\n",
    "    --------------\n",
    "    pl_id (str): playlist id retrieved manually from spotify\n",
    "    pl_length (int): number of tracks in the playlist\n",
    "    \n",
    "    Returns:\n",
    "    --------------\n",
    "    df (df): dataframe with tracks information (artist_name, track_name, track_id and popularity)\n",
    "    '''\n",
    "        \n",
    "    artist_name = []\n",
    "    track_name = []\n",
    "    popularity = []\n",
    "    track_id = []\n",
    "    \n",
    "    for i in range(0,playlist_length,100):\n",
    "        results = sp.user_playlist_tracks(my_username,playlist_id=playlist_id,limit=100, offset=i)\n",
    "        for i, t in enumerate(results['items']):\n",
    "            artist_name.append(t['track']['artists'][0]['name'])\n",
    "            track_name.append(t['track']['name'])\n",
    "            track_id.append(t['track']['id'])\n",
    "            popularity.append(t['track']['popularity'])\n",
    "    \n",
    "    df = pd.DataFrame([artist_name,track_name,track_id,popularity]).transpose()\n",
    "    df.columns = ['artist_name','track_name','track_id','popularity']\n",
    "    \n",
    "    return df"
   ]
  },
  {
   "cell_type": "code",
   "execution_count": 18,
   "metadata": {},
   "outputs": [],
   "source": [
    "def clean_tracks_df(df, like):\n",
    "    '''Cleans dataframe and assigns new column with 1 if songs were liked or 0 if they were disliked\n",
    "    \n",
    "    Input:\n",
    "    --------------\n",
    "    df (df): dataframe with tracks information\n",
    "    like (int): 1 if songs were liked or 0 if they were disliked\n",
    "    \n",
    "    Returns:\n",
    "    --------------\n",
    "    df (df): cleaned dataframe\n",
    "    '''\n",
    "    \n",
    "    # Some songs appear twice (this is not avoided with unique uri), so they are deleted making sure \n",
    "    # that the combination of 'artist_name' and 'track_name' just appears once\n",
    "    df = df.drop_duplicates(subset=['artist_name','track_name'])\n",
    "    df = df.dropna()\n",
    "    df['like'] = like\n",
    "\n",
    "    return df"
   ]
  },
  {
   "cell_type": "code",
   "execution_count": 24,
   "metadata": {},
   "outputs": [],
   "source": [
    "def get_features(df):\n",
    "    '''Gets the features for all tracks in a dataframe\n",
    "    \n",
    "    Input:\n",
    "    --------------\n",
    "    df (df): dataframe with tracks information\n",
    "    \n",
    "    Returns:\n",
    "    --------------\n",
    "    df (df): dataframe with features for each track\n",
    "    '''\n",
    "    \n",
    "    # Create empty list to store songs features\n",
    "    rows = []\n",
    "\n",
    "    # Retrieve audio features for every track\n",
    "    for i in range(0,len(df['track_id']),50):\n",
    "        feature_results = sp.audio_features(df['track_id'][i:i+50])\n",
    "        for features in feature_results:\n",
    "            rows.append(features)\n",
    "    \n",
    "    df = pd.DataFrame.from_dict(rows,orient='columns')\n",
    "    \n",
    "    return df  "
   ]
  },
  {
   "cell_type": "code",
   "execution_count": 25,
   "metadata": {},
   "outputs": [],
   "source": [
    "def clean_features_df(df):\n",
    "    '''Cleans dataframe containig tracks features\n",
    "    \n",
    "    Input:\n",
    "    --------------\n",
    "    df (df): dataframe with tracks features\n",
    "    \n",
    "    Returns:\n",
    "    --------------\n",
    "    df (df): cleaned dataframe\n",
    "    '''\n",
    "    \n",
    "    # Drop columns containing useless information\n",
    "    df = df.drop(['analysis_url','track_href','type','uri'],axis=1)\n",
    "    # Change 'id' name to 'track_id' in order to match with previous dataframe (prepare for merging)\n",
    "    df = df.rename(columns={'id':'track_id'})\n",
    "\n",
    "    return df"
   ]
  },
  {
   "cell_type": "code",
   "execution_count": 32,
   "metadata": {},
   "outputs": [],
   "source": [
    "def merge(df1,df2):\n",
    "    '''Merges two dataframes with tracks information and tracks features\n",
    "    \n",
    "    Input:\n",
    "    --------------\n",
    "    df1 (df): dataframe with tracks information\n",
    "    df2 (df): dataframe with features for each track\n",
    "    \n",
    "    Returns:\n",
    "    --------------\n",
    "    df (df): dataframe with tracks information and features for each track\n",
    "    '''\n",
    "    \n",
    "    df = pd.merge(df1,df2,on='track_id',how='inner')\n",
    "    \n",
    "    return df"
   ]
  },
  {
   "cell_type": "markdown",
   "metadata": {},
   "source": [
    "### Creation of good tracks dataframe"
   ]
  },
  {
   "cell_type": "code",
   "execution_count": 42,
   "metadata": {},
   "outputs": [],
   "source": [
    "good_tracks = get_tracks('113sBEwMtYziAis9d3CmzJ',7000)"
   ]
  },
  {
   "cell_type": "code",
   "execution_count": 22,
   "metadata": {},
   "outputs": [],
   "source": [
    "good_tracks_cl = clean_tracks_df(good_tracks,1)"
   ]
  },
  {
   "cell_type": "code",
   "execution_count": 23,
   "metadata": {
    "scrolled": true
   },
   "outputs": [
    {
     "data": {
      "text/html": [
       "<div>\n",
       "<style scoped>\n",
       "    .dataframe tbody tr th:only-of-type {\n",
       "        vertical-align: middle;\n",
       "    }\n",
       "\n",
       "    .dataframe tbody tr th {\n",
       "        vertical-align: top;\n",
       "    }\n",
       "\n",
       "    .dataframe thead th {\n",
       "        text-align: right;\n",
       "    }\n",
       "</style>\n",
       "<table border=\"1\" class=\"dataframe\">\n",
       "  <thead>\n",
       "    <tr style=\"text-align: right;\">\n",
       "      <th></th>\n",
       "      <th>artist_name</th>\n",
       "      <th>track_name</th>\n",
       "      <th>track_id</th>\n",
       "      <th>popularity</th>\n",
       "      <th>like</th>\n",
       "    </tr>\n",
       "  </thead>\n",
       "  <tbody>\n",
       "    <tr>\n",
       "      <th>0</th>\n",
       "      <td>Kyle Landry</td>\n",
       "      <td>Howl's Moving Castle Theme</td>\n",
       "      <td>3JTjiMAPVMfwjzPiG5R3hK</td>\n",
       "      <td>53</td>\n",
       "      <td>1</td>\n",
       "    </tr>\n",
       "    <tr>\n",
       "      <th>1</th>\n",
       "      <td>Kyle Landry</td>\n",
       "      <td>Shigatsu - Otouto Mitai Na Sonzai Piano</td>\n",
       "      <td>5tr1bCo0XRU3ZciXahlTKm</td>\n",
       "      <td>46</td>\n",
       "      <td>1</td>\n",
       "    </tr>\n",
       "    <tr>\n",
       "      <th>2</th>\n",
       "      <td>Kyle Landry</td>\n",
       "      <td>Passion (From \"Kingdom Hearts II\") [Piano Solo]</td>\n",
       "      <td>2xFBrGSZ4mSURd8p5IU4ed</td>\n",
       "      <td>46</td>\n",
       "      <td>1</td>\n",
       "    </tr>\n",
       "    <tr>\n",
       "      <th>3</th>\n",
       "      <td>Kyle Landry</td>\n",
       "      <td>Dango Daikazoku</td>\n",
       "      <td>7c6mInVLlpnaYD55R72FDX</td>\n",
       "      <td>44</td>\n",
       "      <td>1</td>\n",
       "    </tr>\n",
       "    <tr>\n",
       "      <th>4</th>\n",
       "      <td>Kyle Landry</td>\n",
       "      <td>Interstellar - First Step</td>\n",
       "      <td>0kznmyiS92b9v1rkn9WDqV</td>\n",
       "      <td>40</td>\n",
       "      <td>1</td>\n",
       "    </tr>\n",
       "  </tbody>\n",
       "</table>\n",
       "</div>"
      ],
      "text/plain": [
       "   artist_name                                       track_name  \\\n",
       "0  Kyle Landry                       Howl's Moving Castle Theme   \n",
       "1  Kyle Landry          Shigatsu - Otouto Mitai Na Sonzai Piano   \n",
       "2  Kyle Landry  Passion (From \"Kingdom Hearts II\") [Piano Solo]   \n",
       "3  Kyle Landry                                  Dango Daikazoku   \n",
       "4  Kyle Landry                        Interstellar - First Step   \n",
       "\n",
       "                 track_id popularity  like  \n",
       "0  3JTjiMAPVMfwjzPiG5R3hK         53     1  \n",
       "1  5tr1bCo0XRU3ZciXahlTKm         46     1  \n",
       "2  2xFBrGSZ4mSURd8p5IU4ed         46     1  \n",
       "3  7c6mInVLlpnaYD55R72FDX         44     1  \n",
       "4  0kznmyiS92b9v1rkn9WDqV         40     1  "
      ]
     },
     "execution_count": 23,
     "metadata": {},
     "output_type": "execute_result"
    }
   ],
   "source": [
    "good_tracks_cl.head()"
   ]
  },
  {
   "cell_type": "code",
   "execution_count": 27,
   "metadata": {},
   "outputs": [],
   "source": [
    "good_features = get_features(good_tracks_cl)"
   ]
  },
  {
   "cell_type": "code",
   "execution_count": 29,
   "metadata": {},
   "outputs": [],
   "source": [
    "good_features_cl = clean_features_df(good_features)"
   ]
  },
  {
   "cell_type": "code",
   "execution_count": 30,
   "metadata": {
    "scrolled": false
   },
   "outputs": [
    {
     "data": {
      "text/html": [
       "<div>\n",
       "<style scoped>\n",
       "    .dataframe tbody tr th:only-of-type {\n",
       "        vertical-align: middle;\n",
       "    }\n",
       "\n",
       "    .dataframe tbody tr th {\n",
       "        vertical-align: top;\n",
       "    }\n",
       "\n",
       "    .dataframe thead th {\n",
       "        text-align: right;\n",
       "    }\n",
       "</style>\n",
       "<table border=\"1\" class=\"dataframe\">\n",
       "  <thead>\n",
       "    <tr style=\"text-align: right;\">\n",
       "      <th></th>\n",
       "      <th>acousticness</th>\n",
       "      <th>danceability</th>\n",
       "      <th>duration_ms</th>\n",
       "      <th>energy</th>\n",
       "      <th>track_id</th>\n",
       "      <th>instrumentalness</th>\n",
       "      <th>key</th>\n",
       "      <th>liveness</th>\n",
       "      <th>loudness</th>\n",
       "      <th>mode</th>\n",
       "      <th>speechiness</th>\n",
       "      <th>tempo</th>\n",
       "      <th>time_signature</th>\n",
       "      <th>valence</th>\n",
       "    </tr>\n",
       "  </thead>\n",
       "  <tbody>\n",
       "    <tr>\n",
       "      <th>0</th>\n",
       "      <td>0.940</td>\n",
       "      <td>0.322</td>\n",
       "      <td>350348</td>\n",
       "      <td>0.1440</td>\n",
       "      <td>3JTjiMAPVMfwjzPiG5R3hK</td>\n",
       "      <td>0.917</td>\n",
       "      <td>7</td>\n",
       "      <td>0.0744</td>\n",
       "      <td>-17.448</td>\n",
       "      <td>0</td>\n",
       "      <td>0.0384</td>\n",
       "      <td>142.818</td>\n",
       "      <td>3</td>\n",
       "      <td>0.0471</td>\n",
       "    </tr>\n",
       "    <tr>\n",
       "      <th>1</th>\n",
       "      <td>0.967</td>\n",
       "      <td>0.368</td>\n",
       "      <td>302336</td>\n",
       "      <td>0.1240</td>\n",
       "      <td>5tr1bCo0XRU3ZciXahlTKm</td>\n",
       "      <td>0.803</td>\n",
       "      <td>3</td>\n",
       "      <td>0.1820</td>\n",
       "      <td>-21.851</td>\n",
       "      <td>1</td>\n",
       "      <td>0.0513</td>\n",
       "      <td>138.910</td>\n",
       "      <td>4</td>\n",
       "      <td>0.1040</td>\n",
       "    </tr>\n",
       "    <tr>\n",
       "      <th>2</th>\n",
       "      <td>0.964</td>\n",
       "      <td>0.406</td>\n",
       "      <td>274656</td>\n",
       "      <td>0.1300</td>\n",
       "      <td>2xFBrGSZ4mSURd8p5IU4ed</td>\n",
       "      <td>0.870</td>\n",
       "      <td>1</td>\n",
       "      <td>0.0964</td>\n",
       "      <td>-20.320</td>\n",
       "      <td>0</td>\n",
       "      <td>0.0515</td>\n",
       "      <td>116.005</td>\n",
       "      <td>4</td>\n",
       "      <td>0.0975</td>\n",
       "    </tr>\n",
       "    <tr>\n",
       "      <th>3</th>\n",
       "      <td>0.976</td>\n",
       "      <td>0.384</td>\n",
       "      <td>310974</td>\n",
       "      <td>0.0400</td>\n",
       "      <td>7c6mInVLlpnaYD55R72FDX</td>\n",
       "      <td>0.896</td>\n",
       "      <td>8</td>\n",
       "      <td>0.0943</td>\n",
       "      <td>-23.524</td>\n",
       "      <td>1</td>\n",
       "      <td>0.0357</td>\n",
       "      <td>95.854</td>\n",
       "      <td>4</td>\n",
       "      <td>0.1000</td>\n",
       "    </tr>\n",
       "    <tr>\n",
       "      <th>4</th>\n",
       "      <td>0.961</td>\n",
       "      <td>0.232</td>\n",
       "      <td>508622</td>\n",
       "      <td>0.0651</td>\n",
       "      <td>0kznmyiS92b9v1rkn9WDqV</td>\n",
       "      <td>0.930</td>\n",
       "      <td>9</td>\n",
       "      <td>0.0607</td>\n",
       "      <td>-21.866</td>\n",
       "      <td>0</td>\n",
       "      <td>0.0387</td>\n",
       "      <td>74.750</td>\n",
       "      <td>3</td>\n",
       "      <td>0.0372</td>\n",
       "    </tr>\n",
       "  </tbody>\n",
       "</table>\n",
       "</div>"
      ],
      "text/plain": [
       "   acousticness  danceability  duration_ms  energy                track_id  \\\n",
       "0         0.940         0.322       350348  0.1440  3JTjiMAPVMfwjzPiG5R3hK   \n",
       "1         0.967         0.368       302336  0.1240  5tr1bCo0XRU3ZciXahlTKm   \n",
       "2         0.964         0.406       274656  0.1300  2xFBrGSZ4mSURd8p5IU4ed   \n",
       "3         0.976         0.384       310974  0.0400  7c6mInVLlpnaYD55R72FDX   \n",
       "4         0.961         0.232       508622  0.0651  0kznmyiS92b9v1rkn9WDqV   \n",
       "\n",
       "   instrumentalness  key  liveness  loudness  mode  speechiness    tempo  \\\n",
       "0             0.917    7    0.0744   -17.448     0       0.0384  142.818   \n",
       "1             0.803    3    0.1820   -21.851     1       0.0513  138.910   \n",
       "2             0.870    1    0.0964   -20.320     0       0.0515  116.005   \n",
       "3             0.896    8    0.0943   -23.524     1       0.0357   95.854   \n",
       "4             0.930    9    0.0607   -21.866     0       0.0387   74.750   \n",
       "\n",
       "   time_signature  valence  \n",
       "0               3   0.0471  \n",
       "1               4   0.1040  \n",
       "2               4   0.0975  \n",
       "3               4   0.1000  \n",
       "4               3   0.0372  "
      ]
     },
     "execution_count": 30,
     "metadata": {},
     "output_type": "execute_result"
    }
   ],
   "source": [
    "good_features_cl.head()"
   ]
  },
  {
   "cell_type": "code",
   "execution_count": 33,
   "metadata": {},
   "outputs": [],
   "source": [
    "good_df = merge(good_tracks_cl,good_features_cl)"
   ]
  },
  {
   "cell_type": "code",
   "execution_count": 34,
   "metadata": {},
   "outputs": [
    {
     "data": {
      "text/html": [
       "<div>\n",
       "<style scoped>\n",
       "    .dataframe tbody tr th:only-of-type {\n",
       "        vertical-align: middle;\n",
       "    }\n",
       "\n",
       "    .dataframe tbody tr th {\n",
       "        vertical-align: top;\n",
       "    }\n",
       "\n",
       "    .dataframe thead th {\n",
       "        text-align: right;\n",
       "    }\n",
       "</style>\n",
       "<table border=\"1\" class=\"dataframe\">\n",
       "  <thead>\n",
       "    <tr style=\"text-align: right;\">\n",
       "      <th></th>\n",
       "      <th>artist_name</th>\n",
       "      <th>track_name</th>\n",
       "      <th>track_id</th>\n",
       "      <th>popularity</th>\n",
       "      <th>like</th>\n",
       "      <th>acousticness</th>\n",
       "      <th>danceability</th>\n",
       "      <th>duration_ms</th>\n",
       "      <th>energy</th>\n",
       "      <th>instrumentalness</th>\n",
       "      <th>key</th>\n",
       "      <th>liveness</th>\n",
       "      <th>loudness</th>\n",
       "      <th>mode</th>\n",
       "      <th>speechiness</th>\n",
       "      <th>tempo</th>\n",
       "      <th>time_signature</th>\n",
       "      <th>valence</th>\n",
       "    </tr>\n",
       "  </thead>\n",
       "  <tbody>\n",
       "    <tr>\n",
       "      <th>0</th>\n",
       "      <td>Kyle Landry</td>\n",
       "      <td>Howl's Moving Castle Theme</td>\n",
       "      <td>3JTjiMAPVMfwjzPiG5R3hK</td>\n",
       "      <td>53</td>\n",
       "      <td>1</td>\n",
       "      <td>0.940</td>\n",
       "      <td>0.322</td>\n",
       "      <td>350348</td>\n",
       "      <td>0.1440</td>\n",
       "      <td>0.917</td>\n",
       "      <td>7</td>\n",
       "      <td>0.0744</td>\n",
       "      <td>-17.448</td>\n",
       "      <td>0</td>\n",
       "      <td>0.0384</td>\n",
       "      <td>142.818</td>\n",
       "      <td>3</td>\n",
       "      <td>0.0471</td>\n",
       "    </tr>\n",
       "    <tr>\n",
       "      <th>1</th>\n",
       "      <td>Kyle Landry</td>\n",
       "      <td>Shigatsu - Otouto Mitai Na Sonzai Piano</td>\n",
       "      <td>5tr1bCo0XRU3ZciXahlTKm</td>\n",
       "      <td>46</td>\n",
       "      <td>1</td>\n",
       "      <td>0.967</td>\n",
       "      <td>0.368</td>\n",
       "      <td>302336</td>\n",
       "      <td>0.1240</td>\n",
       "      <td>0.803</td>\n",
       "      <td>3</td>\n",
       "      <td>0.1820</td>\n",
       "      <td>-21.851</td>\n",
       "      <td>1</td>\n",
       "      <td>0.0513</td>\n",
       "      <td>138.910</td>\n",
       "      <td>4</td>\n",
       "      <td>0.1040</td>\n",
       "    </tr>\n",
       "    <tr>\n",
       "      <th>2</th>\n",
       "      <td>Kyle Landry</td>\n",
       "      <td>Passion (From \"Kingdom Hearts II\") [Piano Solo]</td>\n",
       "      <td>2xFBrGSZ4mSURd8p5IU4ed</td>\n",
       "      <td>46</td>\n",
       "      <td>1</td>\n",
       "      <td>0.964</td>\n",
       "      <td>0.406</td>\n",
       "      <td>274656</td>\n",
       "      <td>0.1300</td>\n",
       "      <td>0.870</td>\n",
       "      <td>1</td>\n",
       "      <td>0.0964</td>\n",
       "      <td>-20.320</td>\n",
       "      <td>0</td>\n",
       "      <td>0.0515</td>\n",
       "      <td>116.005</td>\n",
       "      <td>4</td>\n",
       "      <td>0.0975</td>\n",
       "    </tr>\n",
       "    <tr>\n",
       "      <th>3</th>\n",
       "      <td>Kyle Landry</td>\n",
       "      <td>Dango Daikazoku</td>\n",
       "      <td>7c6mInVLlpnaYD55R72FDX</td>\n",
       "      <td>44</td>\n",
       "      <td>1</td>\n",
       "      <td>0.976</td>\n",
       "      <td>0.384</td>\n",
       "      <td>310974</td>\n",
       "      <td>0.0400</td>\n",
       "      <td>0.896</td>\n",
       "      <td>8</td>\n",
       "      <td>0.0943</td>\n",
       "      <td>-23.524</td>\n",
       "      <td>1</td>\n",
       "      <td>0.0357</td>\n",
       "      <td>95.854</td>\n",
       "      <td>4</td>\n",
       "      <td>0.1000</td>\n",
       "    </tr>\n",
       "    <tr>\n",
       "      <th>4</th>\n",
       "      <td>Kyle Landry</td>\n",
       "      <td>Interstellar - First Step</td>\n",
       "      <td>0kznmyiS92b9v1rkn9WDqV</td>\n",
       "      <td>40</td>\n",
       "      <td>1</td>\n",
       "      <td>0.961</td>\n",
       "      <td>0.232</td>\n",
       "      <td>508622</td>\n",
       "      <td>0.0651</td>\n",
       "      <td>0.930</td>\n",
       "      <td>9</td>\n",
       "      <td>0.0607</td>\n",
       "      <td>-21.866</td>\n",
       "      <td>0</td>\n",
       "      <td>0.0387</td>\n",
       "      <td>74.750</td>\n",
       "      <td>3</td>\n",
       "      <td>0.0372</td>\n",
       "    </tr>\n",
       "  </tbody>\n",
       "</table>\n",
       "</div>"
      ],
      "text/plain": [
       "   artist_name                                       track_name  \\\n",
       "0  Kyle Landry                       Howl's Moving Castle Theme   \n",
       "1  Kyle Landry          Shigatsu - Otouto Mitai Na Sonzai Piano   \n",
       "2  Kyle Landry  Passion (From \"Kingdom Hearts II\") [Piano Solo]   \n",
       "3  Kyle Landry                                  Dango Daikazoku   \n",
       "4  Kyle Landry                        Interstellar - First Step   \n",
       "\n",
       "                 track_id popularity  like  acousticness  danceability  \\\n",
       "0  3JTjiMAPVMfwjzPiG5R3hK         53     1         0.940         0.322   \n",
       "1  5tr1bCo0XRU3ZciXahlTKm         46     1         0.967         0.368   \n",
       "2  2xFBrGSZ4mSURd8p5IU4ed         46     1         0.964         0.406   \n",
       "3  7c6mInVLlpnaYD55R72FDX         44     1         0.976         0.384   \n",
       "4  0kznmyiS92b9v1rkn9WDqV         40     1         0.961         0.232   \n",
       "\n",
       "   duration_ms  energy  instrumentalness  key  liveness  loudness  mode  \\\n",
       "0       350348  0.1440             0.917    7    0.0744   -17.448     0   \n",
       "1       302336  0.1240             0.803    3    0.1820   -21.851     1   \n",
       "2       274656  0.1300             0.870    1    0.0964   -20.320     0   \n",
       "3       310974  0.0400             0.896    8    0.0943   -23.524     1   \n",
       "4       508622  0.0651             0.930    9    0.0607   -21.866     0   \n",
       "\n",
       "   speechiness    tempo  time_signature  valence  \n",
       "0       0.0384  142.818               3   0.0471  \n",
       "1       0.0513  138.910               4   0.1040  \n",
       "2       0.0515  116.005               4   0.0975  \n",
       "3       0.0357   95.854               4   0.1000  \n",
       "4       0.0387   74.750               3   0.0372  "
      ]
     },
     "execution_count": 34,
     "metadata": {},
     "output_type": "execute_result"
    }
   ],
   "source": [
    "good_df.head()"
   ]
  },
  {
   "cell_type": "markdown",
   "metadata": {},
   "source": [
    "### Creation of bad tracks dataframe"
   ]
  },
  {
   "cell_type": "code",
   "execution_count": 35,
   "metadata": {},
   "outputs": [],
   "source": [
    "bad_tracks = get_tracks('2POKTRd37hqKGQS7hvV9Qo',3300)"
   ]
  },
  {
   "cell_type": "code",
   "execution_count": 36,
   "metadata": {},
   "outputs": [],
   "source": [
    "bad_tracks_cl = clean_tracks_df(bad_tracks,0)"
   ]
  },
  {
   "cell_type": "code",
   "execution_count": 37,
   "metadata": {},
   "outputs": [
    {
     "data": {
      "text/html": [
       "<div>\n",
       "<style scoped>\n",
       "    .dataframe tbody tr th:only-of-type {\n",
       "        vertical-align: middle;\n",
       "    }\n",
       "\n",
       "    .dataframe tbody tr th {\n",
       "        vertical-align: top;\n",
       "    }\n",
       "\n",
       "    .dataframe thead th {\n",
       "        text-align: right;\n",
       "    }\n",
       "</style>\n",
       "<table border=\"1\" class=\"dataframe\">\n",
       "  <thead>\n",
       "    <tr style=\"text-align: right;\">\n",
       "      <th></th>\n",
       "      <th>artist_name</th>\n",
       "      <th>track_name</th>\n",
       "      <th>track_id</th>\n",
       "      <th>popularity</th>\n",
       "      <th>like</th>\n",
       "    </tr>\n",
       "  </thead>\n",
       "  <tbody>\n",
       "    <tr>\n",
       "      <th>0</th>\n",
       "      <td>Rkomi</td>\n",
       "      <td>Mon Cheri (feat. Sfera Ebbasta)</td>\n",
       "      <td>66UkKyxN5YbJl9z7YamQOR</td>\n",
       "      <td>76</td>\n",
       "      <td>0</td>\n",
       "    </tr>\n",
       "    <tr>\n",
       "      <th>1</th>\n",
       "      <td>Priestess</td>\n",
       "      <td>Chef (feat. Madman)</td>\n",
       "      <td>4QSLqqTFzsXR8MWfJeI3zq</td>\n",
       "      <td>59</td>\n",
       "      <td>0</td>\n",
       "    </tr>\n",
       "    <tr>\n",
       "      <th>2</th>\n",
       "      <td>Capo Plaza</td>\n",
       "      <td>Billets (feat. Ninho)</td>\n",
       "      <td>2aD5ESGyEhXnXdoOsZvsR0</td>\n",
       "      <td>73</td>\n",
       "      <td>0</td>\n",
       "    </tr>\n",
       "    <tr>\n",
       "      <th>3</th>\n",
       "      <td>Sfera Ebbasta</td>\n",
       "      <td>Mademoiselle</td>\n",
       "      <td>2aPnpV1hT7l3eP10uSGK6c</td>\n",
       "      <td>80</td>\n",
       "      <td>0</td>\n",
       "    </tr>\n",
       "    <tr>\n",
       "      <th>4</th>\n",
       "      <td>MamboLosco</td>\n",
       "      <td>BINGO</td>\n",
       "      <td>2fXOb3Dr8di7hbcKFbYNPt</td>\n",
       "      <td>68</td>\n",
       "      <td>0</td>\n",
       "    </tr>\n",
       "  </tbody>\n",
       "</table>\n",
       "</div>"
      ],
      "text/plain": [
       "     artist_name                       track_name                track_id  \\\n",
       "0          Rkomi  Mon Cheri (feat. Sfera Ebbasta)  66UkKyxN5YbJl9z7YamQOR   \n",
       "1      Priestess              Chef (feat. Madman)  4QSLqqTFzsXR8MWfJeI3zq   \n",
       "2     Capo Plaza            Billets (feat. Ninho)  2aD5ESGyEhXnXdoOsZvsR0   \n",
       "3  Sfera Ebbasta                     Mademoiselle  2aPnpV1hT7l3eP10uSGK6c   \n",
       "4     MamboLosco                            BINGO  2fXOb3Dr8di7hbcKFbYNPt   \n",
       "\n",
       "  popularity  like  \n",
       "0         76     0  \n",
       "1         59     0  \n",
       "2         73     0  \n",
       "3         80     0  \n",
       "4         68     0  "
      ]
     },
     "execution_count": 37,
     "metadata": {},
     "output_type": "execute_result"
    }
   ],
   "source": [
    "bad_tracks_cl.head()"
   ]
  },
  {
   "cell_type": "code",
   "execution_count": 38,
   "metadata": {},
   "outputs": [],
   "source": [
    "bad_features = get_features(bad_tracks_cl)"
   ]
  },
  {
   "cell_type": "code",
   "execution_count": 39,
   "metadata": {},
   "outputs": [],
   "source": [
    "bad_features_cl = clean_features_df(bad_features)"
   ]
  },
  {
   "cell_type": "code",
   "execution_count": 40,
   "metadata": {
    "scrolled": true
   },
   "outputs": [
    {
     "data": {
      "text/html": [
       "<div>\n",
       "<style scoped>\n",
       "    .dataframe tbody tr th:only-of-type {\n",
       "        vertical-align: middle;\n",
       "    }\n",
       "\n",
       "    .dataframe tbody tr th {\n",
       "        vertical-align: top;\n",
       "    }\n",
       "\n",
       "    .dataframe thead th {\n",
       "        text-align: right;\n",
       "    }\n",
       "</style>\n",
       "<table border=\"1\" class=\"dataframe\">\n",
       "  <thead>\n",
       "    <tr style=\"text-align: right;\">\n",
       "      <th></th>\n",
       "      <th>acousticness</th>\n",
       "      <th>danceability</th>\n",
       "      <th>duration_ms</th>\n",
       "      <th>energy</th>\n",
       "      <th>track_id</th>\n",
       "      <th>instrumentalness</th>\n",
       "      <th>key</th>\n",
       "      <th>liveness</th>\n",
       "      <th>loudness</th>\n",
       "      <th>mode</th>\n",
       "      <th>speechiness</th>\n",
       "      <th>tempo</th>\n",
       "      <th>time_signature</th>\n",
       "      <th>valence</th>\n",
       "    </tr>\n",
       "  </thead>\n",
       "  <tbody>\n",
       "    <tr>\n",
       "      <th>0</th>\n",
       "      <td>0.3160</td>\n",
       "      <td>0.887</td>\n",
       "      <td>181867</td>\n",
       "      <td>0.667</td>\n",
       "      <td>66UkKyxN5YbJl9z7YamQOR</td>\n",
       "      <td>0.0</td>\n",
       "      <td>6</td>\n",
       "      <td>0.1190</td>\n",
       "      <td>-5.681</td>\n",
       "      <td>0</td>\n",
       "      <td>0.0484</td>\n",
       "      <td>130.032</td>\n",
       "      <td>4</td>\n",
       "      <td>0.493</td>\n",
       "    </tr>\n",
       "    <tr>\n",
       "      <th>1</th>\n",
       "      <td>0.2770</td>\n",
       "      <td>0.944</td>\n",
       "      <td>176239</td>\n",
       "      <td>0.661</td>\n",
       "      <td>4QSLqqTFzsXR8MWfJeI3zq</td>\n",
       "      <td>0.0</td>\n",
       "      <td>4</td>\n",
       "      <td>0.2840</td>\n",
       "      <td>-5.643</td>\n",
       "      <td>0</td>\n",
       "      <td>0.0556</td>\n",
       "      <td>133.114</td>\n",
       "      <td>4</td>\n",
       "      <td>0.963</td>\n",
       "    </tr>\n",
       "    <tr>\n",
       "      <th>2</th>\n",
       "      <td>0.2980</td>\n",
       "      <td>0.732</td>\n",
       "      <td>198537</td>\n",
       "      <td>0.791</td>\n",
       "      <td>2aD5ESGyEhXnXdoOsZvsR0</td>\n",
       "      <td>0.0</td>\n",
       "      <td>1</td>\n",
       "      <td>0.1750</td>\n",
       "      <td>-5.642</td>\n",
       "      <td>1</td>\n",
       "      <td>0.1910</td>\n",
       "      <td>123.101</td>\n",
       "      <td>4</td>\n",
       "      <td>0.609</td>\n",
       "    </tr>\n",
       "    <tr>\n",
       "      <th>3</th>\n",
       "      <td>0.0671</td>\n",
       "      <td>0.794</td>\n",
       "      <td>189344</td>\n",
       "      <td>0.702</td>\n",
       "      <td>2aPnpV1hT7l3eP10uSGK6c</td>\n",
       "      <td>0.0</td>\n",
       "      <td>6</td>\n",
       "      <td>0.1550</td>\n",
       "      <td>-5.656</td>\n",
       "      <td>0</td>\n",
       "      <td>0.0346</td>\n",
       "      <td>121.938</td>\n",
       "      <td>4</td>\n",
       "      <td>0.535</td>\n",
       "    </tr>\n",
       "    <tr>\n",
       "      <th>4</th>\n",
       "      <td>0.1580</td>\n",
       "      <td>0.796</td>\n",
       "      <td>150444</td>\n",
       "      <td>0.643</td>\n",
       "      <td>2fXOb3Dr8di7hbcKFbYNPt</td>\n",
       "      <td>0.0</td>\n",
       "      <td>2</td>\n",
       "      <td>0.0561</td>\n",
       "      <td>-5.235</td>\n",
       "      <td>0</td>\n",
       "      <td>0.0354</td>\n",
       "      <td>128.057</td>\n",
       "      <td>4</td>\n",
       "      <td>0.609</td>\n",
       "    </tr>\n",
       "  </tbody>\n",
       "</table>\n",
       "</div>"
      ],
      "text/plain": [
       "   acousticness  danceability  duration_ms  energy                track_id  \\\n",
       "0        0.3160         0.887       181867   0.667  66UkKyxN5YbJl9z7YamQOR   \n",
       "1        0.2770         0.944       176239   0.661  4QSLqqTFzsXR8MWfJeI3zq   \n",
       "2        0.2980         0.732       198537   0.791  2aD5ESGyEhXnXdoOsZvsR0   \n",
       "3        0.0671         0.794       189344   0.702  2aPnpV1hT7l3eP10uSGK6c   \n",
       "4        0.1580         0.796       150444   0.643  2fXOb3Dr8di7hbcKFbYNPt   \n",
       "\n",
       "   instrumentalness  key  liveness  loudness  mode  speechiness    tempo  \\\n",
       "0               0.0    6    0.1190    -5.681     0       0.0484  130.032   \n",
       "1               0.0    4    0.2840    -5.643     0       0.0556  133.114   \n",
       "2               0.0    1    0.1750    -5.642     1       0.1910  123.101   \n",
       "3               0.0    6    0.1550    -5.656     0       0.0346  121.938   \n",
       "4               0.0    2    0.0561    -5.235     0       0.0354  128.057   \n",
       "\n",
       "   time_signature  valence  \n",
       "0               4    0.493  \n",
       "1               4    0.963  \n",
       "2               4    0.609  \n",
       "3               4    0.535  \n",
       "4               4    0.609  "
      ]
     },
     "execution_count": 40,
     "metadata": {},
     "output_type": "execute_result"
    }
   ],
   "source": [
    "bad_features_cl.head()"
   ]
  },
  {
   "cell_type": "code",
   "execution_count": 41,
   "metadata": {},
   "outputs": [],
   "source": [
    "bad_df = merge(bad_tracks_cl,bad_features_cl)"
   ]
  },
  {
   "cell_type": "markdown",
   "metadata": {},
   "source": [
    "### Combine both dataframes"
   ]
  },
  {
   "cell_type": "code",
   "execution_count": 43,
   "metadata": {},
   "outputs": [],
   "source": [
    "# MERGE GOOD AND BAD TRACKS\n",
    "\n",
    "df_all = pd.concat([good_df,bad_df],axis=0,ignore_index=True)"
   ]
  },
  {
   "cell_type": "code",
   "execution_count": 47,
   "metadata": {},
   "outputs": [
    {
     "data": {
      "text/plain": [
       "(9950, 18)"
      ]
     },
     "execution_count": 47,
     "metadata": {},
     "output_type": "execute_result"
    }
   ],
   "source": [
    "df_all.shape"
   ]
  },
  {
   "cell_type": "code",
   "execution_count": 46,
   "metadata": {},
   "outputs": [
    {
     "data": {
      "text/plain": [
       "9945"
      ]
     },
     "execution_count": 46,
     "metadata": {},
     "output_type": "execute_result"
    }
   ],
   "source": [
    "# There are five songs that I both liked and disliked\n",
    "df_all['track_id'].nunique()"
   ]
  },
  {
   "cell_type": "code",
   "execution_count": 48,
   "metadata": {},
   "outputs": [],
   "source": [
    "# Remove these songs\n",
    "df_all.drop_duplicates(subset=['artist_name','track_name'], inplace=True)"
   ]
  },
  {
   "cell_type": "code",
   "execution_count": 50,
   "metadata": {},
   "outputs": [
    {
     "data": {
      "text/plain": [
       "(9945, 18)"
      ]
     },
     "execution_count": 50,
     "metadata": {},
     "output_type": "execute_result"
    }
   ],
   "source": [
    "df_all.shape"
   ]
  },
  {
   "cell_type": "code",
   "execution_count": 49,
   "metadata": {},
   "outputs": [
    {
     "data": {
      "text/plain": [
       "9945"
      ]
     },
     "execution_count": 49,
     "metadata": {},
     "output_type": "execute_result"
    }
   ],
   "source": [
    "# Now all songs only appear once\n",
    "df_all['track_id'].nunique()"
   ]
  },
  {
   "cell_type": "code",
   "execution_count": 51,
   "metadata": {},
   "outputs": [],
   "source": [
    "# Export to csv\n",
    "df_all.to_csv('all_tracks.csv')"
   ]
  },
  {
   "cell_type": "markdown",
   "metadata": {},
   "source": [
    "###  Create artists table"
   ]
  },
  {
   "cell_type": "code",
   "execution_count": 57,
   "metadata": {},
   "outputs": [
    {
     "data": {
      "text/plain": [
       "3261"
      ]
     },
     "execution_count": 57,
     "metadata": {},
     "output_type": "execute_result"
    }
   ],
   "source": [
    "df_all['artist_name'].nunique()"
   ]
  },
  {
   "cell_type": "code",
   "execution_count": 63,
   "metadata": {},
   "outputs": [],
   "source": [
    "df_artists = pd.DataFrame(df_all['artist_name'].unique(),columns=['artist_name'])"
   ]
  },
  {
   "cell_type": "code",
   "execution_count": 65,
   "metadata": {},
   "outputs": [],
   "source": [
    "df_artists.reset_index(inplace=True)"
   ]
  },
  {
   "cell_type": "code",
   "execution_count": 74,
   "metadata": {
    "scrolled": true
   },
   "outputs": [],
   "source": [
    "df_artists.rename(columns={'index':'artist_id'},inplace=True)"
   ]
  },
  {
   "cell_type": "code",
   "execution_count": 76,
   "metadata": {},
   "outputs": [
    {
     "data": {
      "text/plain": [
       "0    0\n",
       "Name: artist_id, dtype: int64"
      ]
     },
     "execution_count": 76,
     "metadata": {},
     "output_type": "execute_result"
    }
   ],
   "source": [
    "df_artists[df_artists['artist_name']=='Kyle Landry']['artist_id']"
   ]
  },
  {
   "cell_type": "code",
   "execution_count": 79,
   "metadata": {},
   "outputs": [
    {
     "data": {
      "text/html": [
       "<div>\n",
       "<style scoped>\n",
       "    .dataframe tbody tr th:only-of-type {\n",
       "        vertical-align: middle;\n",
       "    }\n",
       "\n",
       "    .dataframe tbody tr th {\n",
       "        vertical-align: top;\n",
       "    }\n",
       "\n",
       "    .dataframe thead th {\n",
       "        text-align: right;\n",
       "    }\n",
       "</style>\n",
       "<table border=\"1\" class=\"dataframe\">\n",
       "  <thead>\n",
       "    <tr style=\"text-align: right;\">\n",
       "      <th></th>\n",
       "      <th>artist_id</th>\n",
       "      <th>artist_name</th>\n",
       "    </tr>\n",
       "  </thead>\n",
       "  <tbody>\n",
       "    <tr>\n",
       "      <th>0</th>\n",
       "      <td>0</td>\n",
       "      <td>Kyle Landry</td>\n",
       "    </tr>\n",
       "    <tr>\n",
       "      <th>1</th>\n",
       "      <td>1</td>\n",
       "      <td>Cookin Soul</td>\n",
       "    </tr>\n",
       "    <tr>\n",
       "      <th>2</th>\n",
       "      <td>2</td>\n",
       "      <td>Trio Ternura</td>\n",
       "    </tr>\n",
       "    <tr>\n",
       "      <th>3</th>\n",
       "      <td>3</td>\n",
       "      <td>Gleemer</td>\n",
       "    </tr>\n",
       "    <tr>\n",
       "      <th>4</th>\n",
       "      <td>4</td>\n",
       "      <td>Black Peaks</td>\n",
       "    </tr>\n",
       "  </tbody>\n",
       "</table>\n",
       "</div>"
      ],
      "text/plain": [
       "   artist_id   artist_name\n",
       "0          0   Kyle Landry\n",
       "1          1   Cookin Soul\n",
       "2          2  Trio Ternura\n",
       "3          3       Gleemer\n",
       "4          4   Black Peaks"
      ]
     },
     "execution_count": 79,
     "metadata": {},
     "output_type": "execute_result"
    }
   ],
   "source": [
    "df_artists.head()"
   ]
  },
  {
   "cell_type": "code",
   "execution_count": 80,
   "metadata": {},
   "outputs": [
    {
     "data": {
      "text/html": [
       "<div>\n",
       "<style scoped>\n",
       "    .dataframe tbody tr th:only-of-type {\n",
       "        vertical-align: middle;\n",
       "    }\n",
       "\n",
       "    .dataframe tbody tr th {\n",
       "        vertical-align: top;\n",
       "    }\n",
       "\n",
       "    .dataframe thead th {\n",
       "        text-align: right;\n",
       "    }\n",
       "</style>\n",
       "<table border=\"1\" class=\"dataframe\">\n",
       "  <thead>\n",
       "    <tr style=\"text-align: right;\">\n",
       "      <th></th>\n",
       "      <th>artist_name</th>\n",
       "      <th>track_name</th>\n",
       "      <th>track_id</th>\n",
       "      <th>popularity</th>\n",
       "      <th>like</th>\n",
       "      <th>acousticness</th>\n",
       "      <th>danceability</th>\n",
       "      <th>duration_ms</th>\n",
       "      <th>energy</th>\n",
       "      <th>instrumentalness</th>\n",
       "      <th>key</th>\n",
       "      <th>liveness</th>\n",
       "      <th>loudness</th>\n",
       "      <th>mode</th>\n",
       "      <th>speechiness</th>\n",
       "      <th>tempo</th>\n",
       "      <th>time_signature</th>\n",
       "      <th>valence</th>\n",
       "    </tr>\n",
       "  </thead>\n",
       "  <tbody>\n",
       "    <tr>\n",
       "      <th>0</th>\n",
       "      <td>Kyle Landry</td>\n",
       "      <td>Howl's Moving Castle Theme</td>\n",
       "      <td>3JTjiMAPVMfwjzPiG5R3hK</td>\n",
       "      <td>53</td>\n",
       "      <td>1</td>\n",
       "      <td>0.940</td>\n",
       "      <td>0.322</td>\n",
       "      <td>350348</td>\n",
       "      <td>0.1440</td>\n",
       "      <td>0.917</td>\n",
       "      <td>7</td>\n",
       "      <td>0.0744</td>\n",
       "      <td>-17.448</td>\n",
       "      <td>0</td>\n",
       "      <td>0.0384</td>\n",
       "      <td>142.818</td>\n",
       "      <td>3</td>\n",
       "      <td>0.0471</td>\n",
       "    </tr>\n",
       "    <tr>\n",
       "      <th>1</th>\n",
       "      <td>Kyle Landry</td>\n",
       "      <td>Shigatsu - Otouto Mitai Na Sonzai Piano</td>\n",
       "      <td>5tr1bCo0XRU3ZciXahlTKm</td>\n",
       "      <td>46</td>\n",
       "      <td>1</td>\n",
       "      <td>0.967</td>\n",
       "      <td>0.368</td>\n",
       "      <td>302336</td>\n",
       "      <td>0.1240</td>\n",
       "      <td>0.803</td>\n",
       "      <td>3</td>\n",
       "      <td>0.1820</td>\n",
       "      <td>-21.851</td>\n",
       "      <td>1</td>\n",
       "      <td>0.0513</td>\n",
       "      <td>138.910</td>\n",
       "      <td>4</td>\n",
       "      <td>0.1040</td>\n",
       "    </tr>\n",
       "    <tr>\n",
       "      <th>2</th>\n",
       "      <td>Kyle Landry</td>\n",
       "      <td>Passion (From \"Kingdom Hearts II\") [Piano Solo]</td>\n",
       "      <td>2xFBrGSZ4mSURd8p5IU4ed</td>\n",
       "      <td>47</td>\n",
       "      <td>1</td>\n",
       "      <td>0.964</td>\n",
       "      <td>0.406</td>\n",
       "      <td>274656</td>\n",
       "      <td>0.1300</td>\n",
       "      <td>0.870</td>\n",
       "      <td>1</td>\n",
       "      <td>0.0964</td>\n",
       "      <td>-20.320</td>\n",
       "      <td>0</td>\n",
       "      <td>0.0515</td>\n",
       "      <td>116.005</td>\n",
       "      <td>4</td>\n",
       "      <td>0.0975</td>\n",
       "    </tr>\n",
       "    <tr>\n",
       "      <th>3</th>\n",
       "      <td>Kyle Landry</td>\n",
       "      <td>Dango Daikazoku</td>\n",
       "      <td>7c6mInVLlpnaYD55R72FDX</td>\n",
       "      <td>44</td>\n",
       "      <td>1</td>\n",
       "      <td>0.976</td>\n",
       "      <td>0.384</td>\n",
       "      <td>310974</td>\n",
       "      <td>0.0400</td>\n",
       "      <td>0.896</td>\n",
       "      <td>8</td>\n",
       "      <td>0.0943</td>\n",
       "      <td>-23.524</td>\n",
       "      <td>1</td>\n",
       "      <td>0.0357</td>\n",
       "      <td>95.854</td>\n",
       "      <td>4</td>\n",
       "      <td>0.1000</td>\n",
       "    </tr>\n",
       "    <tr>\n",
       "      <th>4</th>\n",
       "      <td>Kyle Landry</td>\n",
       "      <td>Interstellar - First Step</td>\n",
       "      <td>0kznmyiS92b9v1rkn9WDqV</td>\n",
       "      <td>40</td>\n",
       "      <td>1</td>\n",
       "      <td>0.961</td>\n",
       "      <td>0.232</td>\n",
       "      <td>508622</td>\n",
       "      <td>0.0651</td>\n",
       "      <td>0.930</td>\n",
       "      <td>9</td>\n",
       "      <td>0.0607</td>\n",
       "      <td>-21.866</td>\n",
       "      <td>0</td>\n",
       "      <td>0.0387</td>\n",
       "      <td>74.750</td>\n",
       "      <td>3</td>\n",
       "      <td>0.0372</td>\n",
       "    </tr>\n",
       "  </tbody>\n",
       "</table>\n",
       "</div>"
      ],
      "text/plain": [
       "   artist_name                                       track_name  \\\n",
       "0  Kyle Landry                       Howl's Moving Castle Theme   \n",
       "1  Kyle Landry          Shigatsu - Otouto Mitai Na Sonzai Piano   \n",
       "2  Kyle Landry  Passion (From \"Kingdom Hearts II\") [Piano Solo]   \n",
       "3  Kyle Landry                                  Dango Daikazoku   \n",
       "4  Kyle Landry                        Interstellar - First Step   \n",
       "\n",
       "                 track_id popularity  like  acousticness  danceability  \\\n",
       "0  3JTjiMAPVMfwjzPiG5R3hK         53     1         0.940         0.322   \n",
       "1  5tr1bCo0XRU3ZciXahlTKm         46     1         0.967         0.368   \n",
       "2  2xFBrGSZ4mSURd8p5IU4ed         47     1         0.964         0.406   \n",
       "3  7c6mInVLlpnaYD55R72FDX         44     1         0.976         0.384   \n",
       "4  0kznmyiS92b9v1rkn9WDqV         40     1         0.961         0.232   \n",
       "\n",
       "   duration_ms  energy  instrumentalness  key  liveness  loudness  mode  \\\n",
       "0       350348  0.1440             0.917    7    0.0744   -17.448     0   \n",
       "1       302336  0.1240             0.803    3    0.1820   -21.851     1   \n",
       "2       274656  0.1300             0.870    1    0.0964   -20.320     0   \n",
       "3       310974  0.0400             0.896    8    0.0943   -23.524     1   \n",
       "4       508622  0.0651             0.930    9    0.0607   -21.866     0   \n",
       "\n",
       "   speechiness    tempo  time_signature  valence  \n",
       "0       0.0384  142.818               3   0.0471  \n",
       "1       0.0513  138.910               4   0.1040  \n",
       "2       0.0515  116.005               4   0.0975  \n",
       "3       0.0357   95.854               4   0.1000  \n",
       "4       0.0387   74.750               3   0.0372  "
      ]
     },
     "execution_count": 80,
     "metadata": {},
     "output_type": "execute_result"
    }
   ],
   "source": [
    "df_all.head()"
   ]
  },
  {
   "cell_type": "code",
   "execution_count": 81,
   "metadata": {},
   "outputs": [],
   "source": [
    "df_final = df_all.merge(df_artists,how='outer',on='artist_name')"
   ]
  },
  {
   "cell_type": "code",
   "execution_count": 85,
   "metadata": {},
   "outputs": [],
   "source": [
    "df_final.drop('artist_name',axis=1,inplace=True)"
   ]
  },
  {
   "cell_type": "code",
   "execution_count": 87,
   "metadata": {},
   "outputs": [
    {
     "data": {
      "text/plain": [
       "Index(['track_name', 'track_id', 'popularity', 'like', 'acousticness',\n",
       "       'danceability', 'duration_ms', 'energy', 'instrumentalness', 'key',\n",
       "       'liveness', 'loudness', 'mode', 'speechiness', 'tempo',\n",
       "       'time_signature', 'valence', 'artist_id'],\n",
       "      dtype='object')"
      ]
     },
     "execution_count": 87,
     "metadata": {},
     "output_type": "execute_result"
    }
   ],
   "source": [
    "df_final.columns"
   ]
  },
  {
   "cell_type": "code",
   "execution_count": 88,
   "metadata": {},
   "outputs": [],
   "source": [
    "df_final = df_final[['artist_id','track_name', 'track_id', 'popularity', 'like', 'acousticness',\n",
    "       'danceability', 'duration_ms', 'energy', 'instrumentalness', 'key', 'liveness', 'loudness',\n",
    "       'mode', 'speechiness', 'tempo', 'time_signature', 'valence']]"
   ]
  },
  {
   "cell_type": "code",
   "execution_count": 90,
   "metadata": {
    "scrolled": false
   },
   "outputs": [
    {
     "data": {
      "text/html": [
       "<div>\n",
       "<style scoped>\n",
       "    .dataframe tbody tr th:only-of-type {\n",
       "        vertical-align: middle;\n",
       "    }\n",
       "\n",
       "    .dataframe tbody tr th {\n",
       "        vertical-align: top;\n",
       "    }\n",
       "\n",
       "    .dataframe thead th {\n",
       "        text-align: right;\n",
       "    }\n",
       "</style>\n",
       "<table border=\"1\" class=\"dataframe\">\n",
       "  <thead>\n",
       "    <tr style=\"text-align: right;\">\n",
       "      <th></th>\n",
       "      <th>artist_id</th>\n",
       "      <th>track_name</th>\n",
       "      <th>track_id</th>\n",
       "      <th>popularity</th>\n",
       "      <th>like</th>\n",
       "      <th>acousticness</th>\n",
       "      <th>danceability</th>\n",
       "      <th>duration_ms</th>\n",
       "      <th>energy</th>\n",
       "      <th>instrumentalness</th>\n",
       "      <th>key</th>\n",
       "      <th>liveness</th>\n",
       "      <th>loudness</th>\n",
       "      <th>mode</th>\n",
       "      <th>speechiness</th>\n",
       "      <th>tempo</th>\n",
       "      <th>time_signature</th>\n",
       "      <th>valence</th>\n",
       "    </tr>\n",
       "  </thead>\n",
       "  <tbody>\n",
       "    <tr>\n",
       "      <th>0</th>\n",
       "      <td>0</td>\n",
       "      <td>Howl's Moving Castle Theme</td>\n",
       "      <td>3JTjiMAPVMfwjzPiG5R3hK</td>\n",
       "      <td>53</td>\n",
       "      <td>1</td>\n",
       "      <td>0.940</td>\n",
       "      <td>0.322</td>\n",
       "      <td>350348</td>\n",
       "      <td>0.1440</td>\n",
       "      <td>0.917</td>\n",
       "      <td>7</td>\n",
       "      <td>0.0744</td>\n",
       "      <td>-17.448</td>\n",
       "      <td>0</td>\n",
       "      <td>0.0384</td>\n",
       "      <td>142.818</td>\n",
       "      <td>3</td>\n",
       "      <td>0.0471</td>\n",
       "    </tr>\n",
       "    <tr>\n",
       "      <th>1</th>\n",
       "      <td>0</td>\n",
       "      <td>Shigatsu - Otouto Mitai Na Sonzai Piano</td>\n",
       "      <td>5tr1bCo0XRU3ZciXahlTKm</td>\n",
       "      <td>46</td>\n",
       "      <td>1</td>\n",
       "      <td>0.967</td>\n",
       "      <td>0.368</td>\n",
       "      <td>302336</td>\n",
       "      <td>0.1240</td>\n",
       "      <td>0.803</td>\n",
       "      <td>3</td>\n",
       "      <td>0.1820</td>\n",
       "      <td>-21.851</td>\n",
       "      <td>1</td>\n",
       "      <td>0.0513</td>\n",
       "      <td>138.910</td>\n",
       "      <td>4</td>\n",
       "      <td>0.1040</td>\n",
       "    </tr>\n",
       "    <tr>\n",
       "      <th>2</th>\n",
       "      <td>0</td>\n",
       "      <td>Passion (From \"Kingdom Hearts II\") [Piano Solo]</td>\n",
       "      <td>2xFBrGSZ4mSURd8p5IU4ed</td>\n",
       "      <td>47</td>\n",
       "      <td>1</td>\n",
       "      <td>0.964</td>\n",
       "      <td>0.406</td>\n",
       "      <td>274656</td>\n",
       "      <td>0.1300</td>\n",
       "      <td>0.870</td>\n",
       "      <td>1</td>\n",
       "      <td>0.0964</td>\n",
       "      <td>-20.320</td>\n",
       "      <td>0</td>\n",
       "      <td>0.0515</td>\n",
       "      <td>116.005</td>\n",
       "      <td>4</td>\n",
       "      <td>0.0975</td>\n",
       "    </tr>\n",
       "    <tr>\n",
       "      <th>3</th>\n",
       "      <td>0</td>\n",
       "      <td>Dango Daikazoku</td>\n",
       "      <td>7c6mInVLlpnaYD55R72FDX</td>\n",
       "      <td>44</td>\n",
       "      <td>1</td>\n",
       "      <td>0.976</td>\n",
       "      <td>0.384</td>\n",
       "      <td>310974</td>\n",
       "      <td>0.0400</td>\n",
       "      <td>0.896</td>\n",
       "      <td>8</td>\n",
       "      <td>0.0943</td>\n",
       "      <td>-23.524</td>\n",
       "      <td>1</td>\n",
       "      <td>0.0357</td>\n",
       "      <td>95.854</td>\n",
       "      <td>4</td>\n",
       "      <td>0.1000</td>\n",
       "    </tr>\n",
       "    <tr>\n",
       "      <th>4</th>\n",
       "      <td>0</td>\n",
       "      <td>Interstellar - First Step</td>\n",
       "      <td>0kznmyiS92b9v1rkn9WDqV</td>\n",
       "      <td>40</td>\n",
       "      <td>1</td>\n",
       "      <td>0.961</td>\n",
       "      <td>0.232</td>\n",
       "      <td>508622</td>\n",
       "      <td>0.0651</td>\n",
       "      <td>0.930</td>\n",
       "      <td>9</td>\n",
       "      <td>0.0607</td>\n",
       "      <td>-21.866</td>\n",
       "      <td>0</td>\n",
       "      <td>0.0387</td>\n",
       "      <td>74.750</td>\n",
       "      <td>3</td>\n",
       "      <td>0.0372</td>\n",
       "    </tr>\n",
       "  </tbody>\n",
       "</table>\n",
       "</div>"
      ],
      "text/plain": [
       "   artist_id                                       track_name  \\\n",
       "0          0                       Howl's Moving Castle Theme   \n",
       "1          0          Shigatsu - Otouto Mitai Na Sonzai Piano   \n",
       "2          0  Passion (From \"Kingdom Hearts II\") [Piano Solo]   \n",
       "3          0                                  Dango Daikazoku   \n",
       "4          0                        Interstellar - First Step   \n",
       "\n",
       "                 track_id popularity  like  acousticness  danceability  \\\n",
       "0  3JTjiMAPVMfwjzPiG5R3hK         53     1         0.940         0.322   \n",
       "1  5tr1bCo0XRU3ZciXahlTKm         46     1         0.967         0.368   \n",
       "2  2xFBrGSZ4mSURd8p5IU4ed         47     1         0.964         0.406   \n",
       "3  7c6mInVLlpnaYD55R72FDX         44     1         0.976         0.384   \n",
       "4  0kznmyiS92b9v1rkn9WDqV         40     1         0.961         0.232   \n",
       "\n",
       "   duration_ms  energy  instrumentalness  key  liveness  loudness  mode  \\\n",
       "0       350348  0.1440             0.917    7    0.0744   -17.448     0   \n",
       "1       302336  0.1240             0.803    3    0.1820   -21.851     1   \n",
       "2       274656  0.1300             0.870    1    0.0964   -20.320     0   \n",
       "3       310974  0.0400             0.896    8    0.0943   -23.524     1   \n",
       "4       508622  0.0651             0.930    9    0.0607   -21.866     0   \n",
       "\n",
       "   speechiness    tempo  time_signature  valence  \n",
       "0       0.0384  142.818               3   0.0471  \n",
       "1       0.0513  138.910               4   0.1040  \n",
       "2       0.0515  116.005               4   0.0975  \n",
       "3       0.0357   95.854               4   0.1000  \n",
       "4       0.0387   74.750               3   0.0372  "
      ]
     },
     "execution_count": 90,
     "metadata": {},
     "output_type": "execute_result"
    }
   ],
   "source": [
    "df_final.head()"
   ]
  },
  {
   "cell_type": "markdown",
   "metadata": {},
   "source": [
    "### Export to database"
   ]
  },
  {
   "cell_type": "code",
   "execution_count": 52,
   "metadata": {},
   "outputs": [],
   "source": [
    "from sqlalchemy import create_engine"
   ]
  },
  {
   "cell_type": "code",
   "execution_count": 53,
   "metadata": {},
   "outputs": [],
   "source": [
    "ip = ''\n",
    "\n",
    "login = ''\n",
    "\n",
    "password = ''\n",
    "\n",
    "db = 'spotify'\n",
    "\n",
    "connection_string = f'mysql+pymysql://{login}:{password}@{ip}/{db}'"
   ]
  },
  {
   "cell_type": "code",
   "execution_count": 54,
   "metadata": {},
   "outputs": [],
   "source": [
    "engine = create_engine(connection_string)"
   ]
  },
  {
   "cell_type": "code",
   "execution_count": 95,
   "metadata": {},
   "outputs": [],
   "source": [
    "df_final.to_sql('spotify_tracks', con=engine, if_exists='replace')"
   ]
  },
  {
   "cell_type": "code",
   "execution_count": 96,
   "metadata": {},
   "outputs": [],
   "source": [
    "df_artists.to_sql('spotify_artists', con=engine, if_exists='replace')"
   ]
  }
 ],
 "metadata": {
  "kernelspec": {
   "display_name": "Python 3",
   "language": "python",
   "name": "python3"
  },
  "language_info": {
   "codemirror_mode": {
    "name": "ipython",
    "version": 3
   },
   "file_extension": ".py",
   "mimetype": "text/x-python",
   "name": "python",
   "nbconvert_exporter": "python",
   "pygments_lexer": "ipython3",
   "version": "3.7.2"
  }
 },
 "nbformat": 4,
 "nbformat_minor": 2
}
