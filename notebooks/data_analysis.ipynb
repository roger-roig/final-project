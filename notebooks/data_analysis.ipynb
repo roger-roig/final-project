{
 "cells": [
  {
   "cell_type": "markdown",
   "metadata": {},
   "source": [
    "# Data Analysis"
   ]
  },
  {
   "cell_type": "markdown",
   "metadata": {},
   "source": [
    "### Features explanation\n",
    "\n",
    "* Popularity: 0 = not popular, 100 = maximum popularity\n",
    "\n",
    "* Acousticness: A confidence measure from 0.0 to 1.0 of whether the track is acoustic. 1.0 represents high confidence the track is acoustic.\n",
    "\n",
    "* Danceability: Danceability describes how suitable a track is for dancing based on a combination of musical elements including tempo, rhythm stability, beat strength, and overall regularity. A value of 0.0 is least danceable and 1.0 is most danceable.\n",
    "\n",
    "* Energy: Energy is a measure from 0.0 to 1.0 and represents a perceptual measure of intensity and activity. Typically, energetic tracks feel fast, loud, and noisy. For example, death metal has high energy, while a Bach prelude scores low on the scale. Perceptual features contributing to this attribute include dynamic range, perceived loudness, timbre, onset rate, and general entropy.\n",
    "\n",
    "* Instrumentalness: Predicts whether a track contains no vocals. “Ooh” and “aah” sounds are treated as instrumental in this context. Rap or spoken word tracks are clearly “vocal”. The closer the instrumentalness value is to 1.0, the greater likelihood the track contains no vocal content. Values above 0.5 are intended to represent instrumental tracks, but confidence is higher as the value approaches 1.0.\n",
    "\n",
    "* Key: The estimated overall key of the track. Integers map to pitches using standard Pitch Class notation . E.g. 0 = C, 1 = C♯/D♭, 2 = D, and so on. If no key was detected, the value is -1.\n",
    "\n",
    "* Liveness: Detects the presence of an audience in the recording. Higher liveness values represent an increased probability that the track was performed live. A value above 0.8 provides strong likelihood that the track is live.\n",
    "\n",
    "* Loudness: The overall loudness of a track in decibels (dB). Loudness values are averaged across the entire track and are useful for comparing relative loudness of tracks. Loudness is the quality of a sound that is the primary psychological correlate of physical strength (amplitude). Values typical range between -60 and 0 db. \n",
    "\n",
    "* Mode: Mode indicates the modality (major or minor) of a track, the type of scale from which its melodic content is derived. Major is represented by 1 and minor is 0.\n",
    "\n",
    "* Speechiness: \tSpeechiness detects the presence of spoken words in a track. The more exclusively speech-like the recording (e.g. talk show, audio book, poetry), the closer to 1.0 the attribute value. Values above 0.66 describe tracks that are probably made entirely of spoken words. Values between 0.33 and 0.66 describe tracks that may contain both music and speech, either in sections or layered, including such cases as rap music. Values below 0.33 most likely represent music and other non-speech-like tracks.\n",
    "\n",
    "* Tempo: The overall estimated tempo of a track in beats per minute (BPM).\n",
    "\n",
    "* Time signature: \tAn estimated overall time signature of a track. The time signature (meter) is a notational convention to specify how many beats are in each bar (or measure).\n",
    "\n",
    "* Valence: A measure from 0.0 to 1.0 describing the musical positiveness conveyed by a track. Tracks with high valence sound more positive (e.g. happy, cheerful, euphoric), while tracks with low valence sound more negative (e.g. sad, depressed, angry)."
   ]
  },
  {
   "cell_type": "code",
   "execution_count": 96,
   "metadata": {},
   "outputs": [],
   "source": [
    "# Import libraries\n",
    "import numpy as np\n",
    "import pandas as pd\n",
    "import matplotlib.pyplot as plt\n",
    "import seaborn as sns\n",
    "\n",
    "%matplotlib inline"
   ]
  },
  {
   "cell_type": "code",
   "execution_count": 97,
   "metadata": {},
   "outputs": [],
   "source": [
    "import warnings\n",
    "warnings.filterwarnings('ignore')"
   ]
  },
  {
   "cell_type": "code",
   "execution_count": 98,
   "metadata": {},
   "outputs": [],
   "source": [
    "# Import models\n",
    "\n",
    "from sklearn.linear_model import LogisticRegression\n",
    "from sklearn.svm import SVC\n",
    "from sklearn.neighbors import KNeighborsClassifier\n",
    "from sklearn.tree import DecisionTreeClassifier\n",
    "from sklearn.ensemble import RandomForestClassifier"
   ]
  },
  {
   "cell_type": "code",
   "execution_count": 99,
   "metadata": {},
   "outputs": [],
   "source": [
    "from sklearn.preprocessing import MinMaxScaler\n",
    "from sklearn.model_selection import train_test_split, cross_val_score\n",
    "from sklearn.metrics import confusion_matrix, classification_report, accuracy_score"
   ]
  },
  {
   "cell_type": "markdown",
   "metadata": {},
   "source": [
    "### Data import and initial analysis"
   ]
  },
  {
   "cell_type": "code",
   "execution_count": 100,
   "metadata": {},
   "outputs": [],
   "source": [
    "all_tracks = pd.read_csv('../exported_data/all_tracks.csv',index_col=0)"
   ]
  },
  {
   "cell_type": "code",
   "execution_count": 101,
   "metadata": {
    "scrolled": true
   },
   "outputs": [
    {
     "data": {
      "text/html": [
       "<div>\n",
       "<style scoped>\n",
       "    .dataframe tbody tr th:only-of-type {\n",
       "        vertical-align: middle;\n",
       "    }\n",
       "\n",
       "    .dataframe tbody tr th {\n",
       "        vertical-align: top;\n",
       "    }\n",
       "\n",
       "    .dataframe thead th {\n",
       "        text-align: right;\n",
       "    }\n",
       "</style>\n",
       "<table border=\"1\" class=\"dataframe\">\n",
       "  <thead>\n",
       "    <tr style=\"text-align: right;\">\n",
       "      <th></th>\n",
       "      <th>artist_name</th>\n",
       "      <th>track_name</th>\n",
       "      <th>track_id</th>\n",
       "      <th>popularity</th>\n",
       "      <th>like</th>\n",
       "      <th>acousticness</th>\n",
       "      <th>danceability</th>\n",
       "      <th>duration_ms</th>\n",
       "      <th>energy</th>\n",
       "      <th>instrumentalness</th>\n",
       "      <th>key</th>\n",
       "      <th>liveness</th>\n",
       "      <th>loudness</th>\n",
       "      <th>mode</th>\n",
       "      <th>speechiness</th>\n",
       "      <th>tempo</th>\n",
       "      <th>time_signature</th>\n",
       "      <th>valence</th>\n",
       "    </tr>\n",
       "  </thead>\n",
       "  <tbody>\n",
       "    <tr>\n",
       "      <th>0</th>\n",
       "      <td>Kyle Landry</td>\n",
       "      <td>Howl's Moving Castle Theme</td>\n",
       "      <td>3JTjiMAPVMfwjzPiG5R3hK</td>\n",
       "      <td>53</td>\n",
       "      <td>1</td>\n",
       "      <td>0.940</td>\n",
       "      <td>0.322</td>\n",
       "      <td>350348</td>\n",
       "      <td>0.1440</td>\n",
       "      <td>0.917</td>\n",
       "      <td>7</td>\n",
       "      <td>0.0744</td>\n",
       "      <td>-17.448</td>\n",
       "      <td>0</td>\n",
       "      <td>0.0384</td>\n",
       "      <td>142.818</td>\n",
       "      <td>3</td>\n",
       "      <td>0.0471</td>\n",
       "    </tr>\n",
       "    <tr>\n",
       "      <th>1</th>\n",
       "      <td>Kyle Landry</td>\n",
       "      <td>Shigatsu - Otouto Mitai Na Sonzai Piano</td>\n",
       "      <td>5tr1bCo0XRU3ZciXahlTKm</td>\n",
       "      <td>46</td>\n",
       "      <td>1</td>\n",
       "      <td>0.967</td>\n",
       "      <td>0.368</td>\n",
       "      <td>302336</td>\n",
       "      <td>0.1240</td>\n",
       "      <td>0.803</td>\n",
       "      <td>3</td>\n",
       "      <td>0.1820</td>\n",
       "      <td>-21.851</td>\n",
       "      <td>1</td>\n",
       "      <td>0.0513</td>\n",
       "      <td>138.910</td>\n",
       "      <td>4</td>\n",
       "      <td>0.1040</td>\n",
       "    </tr>\n",
       "    <tr>\n",
       "      <th>2</th>\n",
       "      <td>Kyle Landry</td>\n",
       "      <td>Passion (From \"Kingdom Hearts II\") [Piano Solo]</td>\n",
       "      <td>2xFBrGSZ4mSURd8p5IU4ed</td>\n",
       "      <td>46</td>\n",
       "      <td>1</td>\n",
       "      <td>0.964</td>\n",
       "      <td>0.406</td>\n",
       "      <td>274656</td>\n",
       "      <td>0.1300</td>\n",
       "      <td>0.870</td>\n",
       "      <td>1</td>\n",
       "      <td>0.0964</td>\n",
       "      <td>-20.320</td>\n",
       "      <td>0</td>\n",
       "      <td>0.0515</td>\n",
       "      <td>116.005</td>\n",
       "      <td>4</td>\n",
       "      <td>0.0975</td>\n",
       "    </tr>\n",
       "    <tr>\n",
       "      <th>3</th>\n",
       "      <td>Kyle Landry</td>\n",
       "      <td>Dango Daikazoku</td>\n",
       "      <td>7c6mInVLlpnaYD55R72FDX</td>\n",
       "      <td>44</td>\n",
       "      <td>1</td>\n",
       "      <td>0.976</td>\n",
       "      <td>0.384</td>\n",
       "      <td>310974</td>\n",
       "      <td>0.0400</td>\n",
       "      <td>0.896</td>\n",
       "      <td>8</td>\n",
       "      <td>0.0943</td>\n",
       "      <td>-23.524</td>\n",
       "      <td>1</td>\n",
       "      <td>0.0357</td>\n",
       "      <td>95.854</td>\n",
       "      <td>4</td>\n",
       "      <td>0.1000</td>\n",
       "    </tr>\n",
       "    <tr>\n",
       "      <th>4</th>\n",
       "      <td>Kyle Landry</td>\n",
       "      <td>Interstellar - First Step</td>\n",
       "      <td>0kznmyiS92b9v1rkn9WDqV</td>\n",
       "      <td>40</td>\n",
       "      <td>1</td>\n",
       "      <td>0.961</td>\n",
       "      <td>0.232</td>\n",
       "      <td>508622</td>\n",
       "      <td>0.0651</td>\n",
       "      <td>0.930</td>\n",
       "      <td>9</td>\n",
       "      <td>0.0607</td>\n",
       "      <td>-21.866</td>\n",
       "      <td>0</td>\n",
       "      <td>0.0387</td>\n",
       "      <td>74.750</td>\n",
       "      <td>3</td>\n",
       "      <td>0.0372</td>\n",
       "    </tr>\n",
       "  </tbody>\n",
       "</table>\n",
       "</div>"
      ],
      "text/plain": [
       "   artist_name                                       track_name  \\\n",
       "0  Kyle Landry                       Howl's Moving Castle Theme   \n",
       "1  Kyle Landry          Shigatsu - Otouto Mitai Na Sonzai Piano   \n",
       "2  Kyle Landry  Passion (From \"Kingdom Hearts II\") [Piano Solo]   \n",
       "3  Kyle Landry                                  Dango Daikazoku   \n",
       "4  Kyle Landry                        Interstellar - First Step   \n",
       "\n",
       "                 track_id  popularity  like  acousticness  danceability  \\\n",
       "0  3JTjiMAPVMfwjzPiG5R3hK          53     1         0.940         0.322   \n",
       "1  5tr1bCo0XRU3ZciXahlTKm          46     1         0.967         0.368   \n",
       "2  2xFBrGSZ4mSURd8p5IU4ed          46     1         0.964         0.406   \n",
       "3  7c6mInVLlpnaYD55R72FDX          44     1         0.976         0.384   \n",
       "4  0kznmyiS92b9v1rkn9WDqV          40     1         0.961         0.232   \n",
       "\n",
       "   duration_ms  energy  instrumentalness  key  liveness  loudness  mode  \\\n",
       "0       350348  0.1440             0.917    7    0.0744   -17.448     0   \n",
       "1       302336  0.1240             0.803    3    0.1820   -21.851     1   \n",
       "2       274656  0.1300             0.870    1    0.0964   -20.320     0   \n",
       "3       310974  0.0400             0.896    8    0.0943   -23.524     1   \n",
       "4       508622  0.0651             0.930    9    0.0607   -21.866     0   \n",
       "\n",
       "   speechiness    tempo  time_signature  valence  \n",
       "0       0.0384  142.818               3   0.0471  \n",
       "1       0.0513  138.910               4   0.1040  \n",
       "2       0.0515  116.005               4   0.0975  \n",
       "3       0.0357   95.854               4   0.1000  \n",
       "4       0.0387   74.750               3   0.0372  "
      ]
     },
     "execution_count": 101,
     "metadata": {},
     "output_type": "execute_result"
    }
   ],
   "source": [
    "all_tracks.head()"
   ]
  },
  {
   "cell_type": "code",
   "execution_count": 102,
   "metadata": {},
   "outputs": [],
   "source": [
    "# Change order of columns\n",
    "\n",
    "all_tracks = all_tracks[['artist_name', 'track_name', 'track_id', 'like', 'popularity',\n",
    "       'acousticness', 'danceability', 'duration_ms', 'energy',\n",
    "       'instrumentalness', 'key', 'liveness', 'loudness', 'mode',\n",
    "       'speechiness', 'tempo', 'time_signature', 'valence']]"
   ]
  },
  {
   "cell_type": "code",
   "execution_count": 103,
   "metadata": {
    "scrolled": true
   },
   "outputs": [
    {
     "data": {
      "text/html": [
       "<div>\n",
       "<style scoped>\n",
       "    .dataframe tbody tr th:only-of-type {\n",
       "        vertical-align: middle;\n",
       "    }\n",
       "\n",
       "    .dataframe tbody tr th {\n",
       "        vertical-align: top;\n",
       "    }\n",
       "\n",
       "    .dataframe thead th {\n",
       "        text-align: right;\n",
       "    }\n",
       "</style>\n",
       "<table border=\"1\" class=\"dataframe\">\n",
       "  <thead>\n",
       "    <tr style=\"text-align: right;\">\n",
       "      <th></th>\n",
       "      <th>like</th>\n",
       "      <th>popularity</th>\n",
       "      <th>acousticness</th>\n",
       "      <th>danceability</th>\n",
       "      <th>duration_ms</th>\n",
       "      <th>energy</th>\n",
       "      <th>instrumentalness</th>\n",
       "      <th>key</th>\n",
       "      <th>liveness</th>\n",
       "      <th>loudness</th>\n",
       "      <th>mode</th>\n",
       "      <th>speechiness</th>\n",
       "      <th>tempo</th>\n",
       "      <th>time_signature</th>\n",
       "      <th>valence</th>\n",
       "    </tr>\n",
       "  </thead>\n",
       "  <tbody>\n",
       "    <tr>\n",
       "      <th>count</th>\n",
       "      <td>9946.000000</td>\n",
       "      <td>9946.000000</td>\n",
       "      <td>9946.000000</td>\n",
       "      <td>9946.000000</td>\n",
       "      <td>9.946000e+03</td>\n",
       "      <td>9946.000000</td>\n",
       "      <td>9946.000000</td>\n",
       "      <td>9946.000000</td>\n",
       "      <td>9946.000000</td>\n",
       "      <td>9946.000000</td>\n",
       "      <td>9946.000000</td>\n",
       "      <td>9946.000000</td>\n",
       "      <td>9946.000000</td>\n",
       "      <td>9946.000000</td>\n",
       "      <td>9946.000000</td>\n",
       "    </tr>\n",
       "    <tr>\n",
       "      <th>mean</th>\n",
       "      <td>0.682787</td>\n",
       "      <td>32.089885</td>\n",
       "      <td>0.225264</td>\n",
       "      <td>0.535818</td>\n",
       "      <td>2.569527e+05</td>\n",
       "      <td>0.706435</td>\n",
       "      <td>0.240325</td>\n",
       "      <td>5.291474</td>\n",
       "      <td>0.193496</td>\n",
       "      <td>-7.656509</td>\n",
       "      <td>0.615926</td>\n",
       "      <td>0.079058</td>\n",
       "      <td>123.366174</td>\n",
       "      <td>3.893022</td>\n",
       "      <td>0.481969</td>\n",
       "    </tr>\n",
       "    <tr>\n",
       "      <th>std</th>\n",
       "      <td>0.465415</td>\n",
       "      <td>22.375950</td>\n",
       "      <td>0.305017</td>\n",
       "      <td>0.180299</td>\n",
       "      <td>1.200470e+05</td>\n",
       "      <td>0.242276</td>\n",
       "      <td>0.357317</td>\n",
       "      <td>3.546998</td>\n",
       "      <td>0.157984</td>\n",
       "      <td>4.967066</td>\n",
       "      <td>0.486400</td>\n",
       "      <td>0.069743</td>\n",
       "      <td>29.926641</td>\n",
       "      <td>0.446896</td>\n",
       "      <td>0.257662</td>\n",
       "    </tr>\n",
       "    <tr>\n",
       "      <th>min</th>\n",
       "      <td>0.000000</td>\n",
       "      <td>0.000000</td>\n",
       "      <td>0.000001</td>\n",
       "      <td>0.000000</td>\n",
       "      <td>3.500000e+03</td>\n",
       "      <td>0.000020</td>\n",
       "      <td>0.000000</td>\n",
       "      <td>0.000000</td>\n",
       "      <td>0.000000</td>\n",
       "      <td>-41.816000</td>\n",
       "      <td>0.000000</td>\n",
       "      <td>0.000000</td>\n",
       "      <td>0.000000</td>\n",
       "      <td>0.000000</td>\n",
       "      <td>0.000000</td>\n",
       "    </tr>\n",
       "    <tr>\n",
       "      <th>25%</th>\n",
       "      <td>0.000000</td>\n",
       "      <td>13.000000</td>\n",
       "      <td>0.002842</td>\n",
       "      <td>0.403000</td>\n",
       "      <td>1.950000e+05</td>\n",
       "      <td>0.588000</td>\n",
       "      <td>0.000000</td>\n",
       "      <td>2.000000</td>\n",
       "      <td>0.094500</td>\n",
       "      <td>-8.872000</td>\n",
       "      <td>0.000000</td>\n",
       "      <td>0.038500</td>\n",
       "      <td>99.968500</td>\n",
       "      <td>4.000000</td>\n",
       "      <td>0.273000</td>\n",
       "    </tr>\n",
       "    <tr>\n",
       "      <th>50%</th>\n",
       "      <td>1.000000</td>\n",
       "      <td>32.000000</td>\n",
       "      <td>0.064500</td>\n",
       "      <td>0.538500</td>\n",
       "      <td>2.300145e+05</td>\n",
       "      <td>0.770000</td>\n",
       "      <td>0.000900</td>\n",
       "      <td>5.000000</td>\n",
       "      <td>0.127000</td>\n",
       "      <td>-6.170000</td>\n",
       "      <td>1.000000</td>\n",
       "      <td>0.052800</td>\n",
       "      <td>120.600500</td>\n",
       "      <td>4.000000</td>\n",
       "      <td>0.479000</td>\n",
       "    </tr>\n",
       "    <tr>\n",
       "      <th>75%</th>\n",
       "      <td>1.000000</td>\n",
       "      <td>48.000000</td>\n",
       "      <td>0.347000</td>\n",
       "      <td>0.678000</td>\n",
       "      <td>2.865892e+05</td>\n",
       "      <td>0.896000</td>\n",
       "      <td>0.568750</td>\n",
       "      <td>8.000000</td>\n",
       "      <td>0.260000</td>\n",
       "      <td>-4.589250</td>\n",
       "      <td>1.000000</td>\n",
       "      <td>0.089775</td>\n",
       "      <td>141.944000</td>\n",
       "      <td>4.000000</td>\n",
       "      <td>0.690000</td>\n",
       "    </tr>\n",
       "    <tr>\n",
       "      <th>max</th>\n",
       "      <td>1.000000</td>\n",
       "      <td>100.000000</td>\n",
       "      <td>0.996000</td>\n",
       "      <td>0.966000</td>\n",
       "      <td>2.025224e+06</td>\n",
       "      <td>0.999000</td>\n",
       "      <td>0.995000</td>\n",
       "      <td>11.000000</td>\n",
       "      <td>0.988000</td>\n",
       "      <td>-0.528000</td>\n",
       "      <td>1.000000</td>\n",
       "      <td>0.883000</td>\n",
       "      <td>220.121000</td>\n",
       "      <td>5.000000</td>\n",
       "      <td>0.984000</td>\n",
       "    </tr>\n",
       "  </tbody>\n",
       "</table>\n",
       "</div>"
      ],
      "text/plain": [
       "              like   popularity  acousticness  danceability   duration_ms  \\\n",
       "count  9946.000000  9946.000000   9946.000000   9946.000000  9.946000e+03   \n",
       "mean      0.682787    32.089885      0.225264      0.535818  2.569527e+05   \n",
       "std       0.465415    22.375950      0.305017      0.180299  1.200470e+05   \n",
       "min       0.000000     0.000000      0.000001      0.000000  3.500000e+03   \n",
       "25%       0.000000    13.000000      0.002842      0.403000  1.950000e+05   \n",
       "50%       1.000000    32.000000      0.064500      0.538500  2.300145e+05   \n",
       "75%       1.000000    48.000000      0.347000      0.678000  2.865892e+05   \n",
       "max       1.000000   100.000000      0.996000      0.966000  2.025224e+06   \n",
       "\n",
       "            energy  instrumentalness          key     liveness     loudness  \\\n",
       "count  9946.000000       9946.000000  9946.000000  9946.000000  9946.000000   \n",
       "mean      0.706435          0.240325     5.291474     0.193496    -7.656509   \n",
       "std       0.242276          0.357317     3.546998     0.157984     4.967066   \n",
       "min       0.000020          0.000000     0.000000     0.000000   -41.816000   \n",
       "25%       0.588000          0.000000     2.000000     0.094500    -8.872000   \n",
       "50%       0.770000          0.000900     5.000000     0.127000    -6.170000   \n",
       "75%       0.896000          0.568750     8.000000     0.260000    -4.589250   \n",
       "max       0.999000          0.995000    11.000000     0.988000    -0.528000   \n",
       "\n",
       "              mode  speechiness        tempo  time_signature      valence  \n",
       "count  9946.000000  9946.000000  9946.000000     9946.000000  9946.000000  \n",
       "mean      0.615926     0.079058   123.366174        3.893022     0.481969  \n",
       "std       0.486400     0.069743    29.926641        0.446896     0.257662  \n",
       "min       0.000000     0.000000     0.000000        0.000000     0.000000  \n",
       "25%       0.000000     0.038500    99.968500        4.000000     0.273000  \n",
       "50%       1.000000     0.052800   120.600500        4.000000     0.479000  \n",
       "75%       1.000000     0.089775   141.944000        4.000000     0.690000  \n",
       "max       1.000000     0.883000   220.121000        5.000000     0.984000  "
      ]
     },
     "execution_count": 103,
     "metadata": {},
     "output_type": "execute_result"
    }
   ],
   "source": [
    "all_tracks.describe()"
   ]
  },
  {
   "cell_type": "code",
   "execution_count": 104,
   "metadata": {
    "scrolled": true
   },
   "outputs": [
    {
     "data": {
      "text/plain": [
       "False"
      ]
     },
     "execution_count": 104,
     "metadata": {},
     "output_type": "execute_result"
    }
   ],
   "source": [
    "# Check if there are NaNs in the dataframe\n",
    "all_tracks.isna().sum().any()"
   ]
  },
  {
   "cell_type": "code",
   "execution_count": 105,
   "metadata": {
    "scrolled": false
   },
   "outputs": [
    {
     "data": {
      "text/plain": [
       "artist_name          object\n",
       "track_name           object\n",
       "track_id             object\n",
       "like                  int64\n",
       "popularity            int64\n",
       "acousticness        float64\n",
       "danceability        float64\n",
       "duration_ms           int64\n",
       "energy              float64\n",
       "instrumentalness    float64\n",
       "key                   int64\n",
       "liveness            float64\n",
       "loudness            float64\n",
       "mode                  int64\n",
       "speechiness         float64\n",
       "tempo               float64\n",
       "time_signature        int64\n",
       "valence             float64\n",
       "dtype: object"
      ]
     },
     "execution_count": 105,
     "metadata": {},
     "output_type": "execute_result"
    }
   ],
   "source": [
    "# Check that all datatypes are correct\n",
    "all_tracks.dtypes"
   ]
  },
  {
   "cell_type": "markdown",
   "metadata": {},
   "source": [
    "### Data visualization"
   ]
  },
  {
   "cell_type": "code",
   "execution_count": 106,
   "metadata": {
    "scrolled": false
   },
   "outputs": [
    {
     "data": {
      "text/plain": [
       "<matplotlib.legend.Legend at 0x243075b72b0>"
      ]
     },
     "execution_count": 106,
     "metadata": {},
     "output_type": "execute_result"
    },
    {
     "data": {
      "image/png": "[encoded data removed]",
      "text/plain": [
       "<Figure size 864x864 with 16 Axes>"
      ]
     },
     "metadata": {
      "needs_background": "light"
     },
     "output_type": "display_data"
    }
   ],
   "source": [
    "# Create plots for every feature distinguishing between liked and disliked songs\n",
    "\n",
    "f, ax = plt.subplots(4,4,figsize=(12,12))\n",
    "\n",
    "cols = [col for col in all_tracks.columns][4:]\n",
    "\n",
    "plt.subplots_adjust(wspace=0.4,hspace=0.4)\n",
    "\n",
    "i = 0\n",
    "for row in ax:\n",
    "    for col in row:\n",
    "        if i == 14:\n",
    "            break\n",
    "        else:\n",
    "            sns.distplot(all_tracks[all_tracks['like']==1][cols[i]],hist=False,kde_kws={\"shade\": True},ax=col,color='blue')\n",
    "            sns.distplot(all_tracks[all_tracks['like']==0][cols[i]],hist=False,kde_kws={\"shade\": True},ax=col,color='green')\n",
    "            i += 1\n",
    "\n",
    "ax[0][3].legend(['liked','disliked'],bbox_to_anchor=(1.05, 1), loc=2)"
   ]
  },
  {
   "cell_type": "code",
   "execution_count": 107,
   "metadata": {},
   "outputs": [],
   "source": [
    "# OBSERVATIONS\n",
    "\n",
    "# In general terms, the songs that I liked are less popular, less danceable, and less happy than the ones that I disliked.\n",
    "# Therefore, it might be that these features are more determining in the classification algorithm\n",
    "# The rest of the features don't seem to be really different, on average, between liked and disliked songs."
   ]
  },
  {
   "cell_type": "code",
   "execution_count": 108,
   "metadata": {
    "scrolled": false
   },
   "outputs": [
    {
     "data": {
      "text/plain": [
       "<matplotlib.axes._subplots.AxesSubplot at 0x24377ed1eb8>"
      ]
     },
     "execution_count": 108,
     "metadata": {},
     "output_type": "execute_result"
    },
    {
     "data": {
      "image/png": "[encoded data removed]",
      "text/plain": [
       "<Figure size 720x720 with 2 Axes>"
      ]
     },
     "metadata": {
      "needs_background": "light"
     },
     "output_type": "display_data"
    }
   ],
   "source": [
    "plt.figure(figsize=(10,10))\n",
    "sns.heatmap(round(all_tracks.corr(),2),annot=True)"
   ]
  },
  {
   "cell_type": "code",
   "execution_count": 109,
   "metadata": {},
   "outputs": [],
   "source": [
    "# OBSERVATIONS\n",
    "\n",
    "# The correlation matrix confirms what is observed with the distplots: the like ratio seems presents a slightly negative\n",
    "# correlation with popularity and danceabilty, and slightly positive with instrumentalness.\n",
    "\n",
    "# As for the relationships among song features, there is a clear negative correlation between acousticness and energy\n",
    "# and loudness (which are correlated with each other)\n",
    "# In addition, danceability seems to be moderately correlated with valence."
   ]
  },
  {
   "cell_type": "markdown",
   "metadata": {},
   "source": [
    "### Graphs for presentation"
   ]
  },
  {
   "cell_type": "code",
   "execution_count": 110,
   "metadata": {
    "scrolled": false
   },
   "outputs": [
    {
     "data": {
      "image/png": "[encoded data removed]",
      "text/plain": [
       "<Figure size 504x432 with 1 Axes>"
      ]
     },
     "metadata": {
      "needs_background": "light"
     },
     "output_type": "display_data"
    }
   ],
   "source": [
    "plt.figure(figsize=(7,6))\n",
    "sns.distplot(all_tracks[all_tracks['like']==1]['popularity'],hist=False,kde_kws={\"shade\": True},color='b')\n",
    "sns.distplot(all_tracks[all_tracks['like']==0]['popularity'],hist=False,kde_kws={\"shade\": True},color='r')\n",
    "plt.tick_params(labelsize=14)\n",
    "plt.xlabel('')\n",
    "plt.legend(['liked','disliked'], prop={'size': 14})\n",
    "plt.savefig('popularity.png')"
   ]
  },
  {
   "cell_type": "code",
   "execution_count": 111,
   "metadata": {
    "scrolled": false
   },
   "outputs": [
    {
     "data": {
      "image/png": "[encoded data removed]",
      "text/plain": [
       "<Figure size 504x432 with 1 Axes>"
      ]
     },
     "metadata": {
      "needs_background": "light"
     },
     "output_type": "display_data"
    }
   ],
   "source": [
    "plt.figure(figsize=(7,6))\n",
    "sns.distplot(all_tracks[all_tracks['like']==1]['valence'],hist=False,kde_kws={\"shade\": True},color='b')\n",
    "sns.distplot(all_tracks[all_tracks['like']==0]['valence'],hist=False,kde_kws={\"shade\": True},color='r')\n",
    "plt.tick_params(labelsize=14)\n",
    "plt.xlabel('')\n",
    "plt.legend(['liked','disliked'], prop={'size': 14})\n",
    "plt.savefig('valence.png')"
   ]
  },
  {
   "cell_type": "code",
   "execution_count": 112,
   "metadata": {},
   "outputs": [
    {
     "data": {
      "image/png": "[encoded data removed]",
      "text/plain": [
       "<Figure size 504x432 with 1 Axes>"
      ]
     },
     "metadata": {
      "needs_background": "light"
     },
     "output_type": "display_data"
    }
   ],
   "source": [
    "plt.figure(figsize=(7,6))\n",
    "sns.distplot(all_tracks[all_tracks['like']==1]['danceability'],hist=False,kde_kws={\"shade\": True},color='b')\n",
    "sns.distplot(all_tracks[all_tracks['like']==0]['danceability'],hist=False,kde_kws={\"shade\": True},color='r')\n",
    "plt.tick_params(labelsize=14)\n",
    "plt.xlabel('')\n",
    "plt.legend(['liked','disliked'], prop={'size': 14})\n",
    "plt.savefig('danceability.png')"
   ]
  },
  {
   "cell_type": "code",
   "execution_count": 113,
   "metadata": {},
   "outputs": [
    {
     "data": {
      "text/plain": [
       "<matplotlib.axes._subplots.AxesSubplot at 0x243076873c8>"
      ]
     },
     "execution_count": 113,
     "metadata": {},
     "output_type": "execute_result"
    },
    {
     "data": {
      "image/png": "[encoded data removed]",
      "text/plain": [
       "<Figure size 432x288 with 1 Axes>"
      ]
     },
     "metadata": {
      "needs_background": "light"
     },
     "output_type": "display_data"
    }
   ],
   "source": [
    "# Graph for instrumentalness is done differently since kernel not drawing properly for class = 0\n",
    "sns.kdeplot(all_tracks[all_tracks['like']==1]['instrumentalness'],color='b',shade=True,kernel='gau',cumulative=True)\n",
    "sns.kdeplot(all_tracks[all_tracks['like']==0]['instrumentalness'],color='r',shade=True,kernel='gau',cumulative=True)"
   ]
  },
  {
   "cell_type": "markdown",
   "metadata": {},
   "source": [
    "### Statistical analysis"
   ]
  },
  {
   "cell_type": "markdown",
   "metadata": {},
   "source": [
    "### <font color='red'>IN ALL THE ANALYSES FROM HERE ON, WHEN THE FEATURES ARE USED THEY WILL ONLY INCLUDE:  popularity, acousticness, danceability, energy, instrumentalness, liveness, mode, speechiness and valence</font>"
   ]
  },
  {
   "cell_type": "code",
   "execution_count": 114,
   "metadata": {},
   "outputs": [],
   "source": [
    "# *** IN ALL THE ANALYSES FROM HERE ON, WHEN THE FEATURES ARE USED THEY WILL REFERRING TO THESE ***\n",
    "\n",
    "# From previous analyses, the tempo, key and duration were observed to have a very small impact on the ML model.\n",
    "# Therefore, they have not been included in the features for the sake of simplification.\n",
    "# In addition, the loudness is highly correlated with energy. Hence, it has also been dropped from the features.\n",
    "\n",
    "features = ['popularity', 'acousticness', 'danceability', 'energy',\n",
    "       'instrumentalness', 'liveness', 'mode', 'speechiness', 'valence']"
   ]
  },
  {
   "cell_type": "code",
   "execution_count": 115,
   "metadata": {},
   "outputs": [],
   "source": [
    "from scipy import stats"
   ]
  },
  {
   "cell_type": "code",
   "execution_count": 116,
   "metadata": {},
   "outputs": [],
   "source": [
    "def features_tests(df, features):\n",
    "    '''Prints the mean and standard deviation for liked and disliked tracks of several features, as well as the summary\n",
    "    of several t-test applied to these features\n",
    "    \n",
    "    Input:\n",
    "    --------------\n",
    "    df (DataFrame): Dataframe containing tracks information and features\n",
    "    features (list): list of the features to be analyzed\n",
    "    '''\n",
    "    liked = df[df['like']==1]\n",
    "    disliked = df[df['like']==0]\n",
    "    \n",
    "    for feature in features:\n",
    "        \n",
    "        feat_liked = liked[feature]\n",
    "        feat_disliked = disliked[feature]\n",
    "        \n",
    "        print(f'{feature} of liked songs: {round(np.mean(feat_liked),2)} +- {round(np.std(feat_liked),2)}')\n",
    "        print(f'{feature} of disliked songs: {round(np.mean(feat_disliked),2)} +- {round(np.std(feat_disliked),2)}')\n",
    "        \n",
    "        test = stats.ttest_ind(feat_liked, feat_disliked, equal_var=False)\n",
    "\n",
    "        print(f'Test statistic: {round(test[0],2)}, p-value: {test[1]}')\n",
    "\n",
    "        print('-' * 40)"
   ]
  },
  {
   "cell_type": "code",
   "execution_count": 117,
   "metadata": {
    "scrolled": false
   },
   "outputs": [
    {
     "name": "stdout",
     "output_type": "stream",
     "text": [
      "popularity of liked songs: 26.31 +- 20.3\n",
      "popularity of disliked songs: 44.54 +- 21.55\n",
      "Test statistic: -39.98, p-value: 3.731775355106535e-309\n",
      "----------------------------------------\n",
      "acousticness of liked songs: 0.22 +- 0.33\n",
      "acousticness of disliked songs: 0.25 +- 0.24\n",
      "Test statistic: -5.35, p-value: 8.926414765625478e-08\n",
      "----------------------------------------\n",
      "danceability of liked songs: 0.49 +- 0.16\n",
      "danceability of disliked songs: 0.64 +- 0.17\n",
      "Test statistic: -43.31, p-value: 0.0\n",
      "----------------------------------------\n",
      "energy of liked songs: 0.7 +- 0.27\n",
      "energy of disliked songs: 0.72 +- 0.17\n",
      "Test statistic: -2.84, p-value: 0.00448146035737594\n",
      "----------------------------------------\n",
      "instrumentalness of liked songs: 0.33 +- 0.38\n",
      "instrumentalness of disliked songs: 0.06 +- 0.19\n",
      "Test statistic: 46.74, p-value: 0.0\n",
      "----------------------------------------\n",
      "liveness of liked songs: 0.2 +- 0.16\n",
      "liveness of disliked songs: 0.19 +- 0.15\n",
      "Test statistic: 3.58, p-value: 0.0003520244981787295\n",
      "----------------------------------------\n",
      "mode of liked songs: 0.64 +- 0.48\n",
      "mode of disliked songs: 0.56 +- 0.5\n",
      "Test statistic: 7.3, p-value: 3.3735099634667614e-13\n",
      "----------------------------------------\n",
      "speechiness of liked songs: 0.07 +- 0.06\n",
      "speechiness of disliked songs: 0.1 +- 0.08\n",
      "Test statistic: -15.03, p-value: 6.3691830631507645e-50\n",
      "----------------------------------------\n",
      "valence of liked songs: 0.44 +- 0.25\n",
      "valence of disliked songs: 0.57 +- 0.26\n",
      "Test statistic: -22.52, p-value: 8.17275028673329e-108\n",
      "----------------------------------------\n"
     ]
    }
   ],
   "source": [
    "features_tests(all_tracks, features)"
   ]
  },
  {
   "cell_type": "code",
   "execution_count": 118,
   "metadata": {},
   "outputs": [],
   "source": [
    "# There is a significant difference between liked and disliked songs for all the parameters:\n",
    "# on average, the songs that I liked are less popular, less danceable, more instrumental, less loud, \n",
    "# and with smaller valence (i.e. less happy )."
   ]
  },
  {
   "cell_type": "markdown",
   "metadata": {},
   "source": [
    "### Data pre-processing"
   ]
  },
  {
   "cell_type": "code",
   "execution_count": 119,
   "metadata": {},
   "outputs": [],
   "source": [
    "def scaling(df):\n",
    "    '''Returns a dataframe with scaled features.\n",
    "       \n",
    "    Input:\n",
    "    --------------\n",
    "    df (df): dataframe without all features scaled\n",
    "    \n",
    "    Returns:\n",
    "    --------------\n",
    "    df (df): dataframe with all features scaled\n",
    "    '''\n",
    "    \n",
    "    df['popularity'] = df['popularity'] / 100\n",
    "\n",
    "    return df"
   ]
  },
  {
   "cell_type": "code",
   "execution_count": 120,
   "metadata": {},
   "outputs": [],
   "source": [
    "all_tracks = scaling(all_tracks)"
   ]
  },
  {
   "cell_type": "code",
   "execution_count": 121,
   "metadata": {
    "scrolled": true
   },
   "outputs": [
    {
     "data": {
      "text/html": [
       "<div>\n",
       "<style scoped>\n",
       "    .dataframe tbody tr th:only-of-type {\n",
       "        vertical-align: middle;\n",
       "    }\n",
       "\n",
       "    .dataframe tbody tr th {\n",
       "        vertical-align: top;\n",
       "    }\n",
       "\n",
       "    .dataframe thead th {\n",
       "        text-align: right;\n",
       "    }\n",
       "</style>\n",
       "<table border=\"1\" class=\"dataframe\">\n",
       "  <thead>\n",
       "    <tr style=\"text-align: right;\">\n",
       "      <th></th>\n",
       "      <th>artist_name</th>\n",
       "      <th>track_name</th>\n",
       "      <th>track_id</th>\n",
       "      <th>like</th>\n",
       "      <th>popularity</th>\n",
       "      <th>acousticness</th>\n",
       "      <th>danceability</th>\n",
       "      <th>duration_ms</th>\n",
       "      <th>energy</th>\n",
       "      <th>instrumentalness</th>\n",
       "      <th>key</th>\n",
       "      <th>liveness</th>\n",
       "      <th>loudness</th>\n",
       "      <th>mode</th>\n",
       "      <th>speechiness</th>\n",
       "      <th>tempo</th>\n",
       "      <th>time_signature</th>\n",
       "      <th>valence</th>\n",
       "    </tr>\n",
       "  </thead>\n",
       "  <tbody>\n",
       "    <tr>\n",
       "      <th>0</th>\n",
       "      <td>Kyle Landry</td>\n",
       "      <td>Howl's Moving Castle Theme</td>\n",
       "      <td>3JTjiMAPVMfwjzPiG5R3hK</td>\n",
       "      <td>1</td>\n",
       "      <td>0.53</td>\n",
       "      <td>0.940</td>\n",
       "      <td>0.322</td>\n",
       "      <td>350348</td>\n",
       "      <td>0.1440</td>\n",
       "      <td>0.917</td>\n",
       "      <td>7</td>\n",
       "      <td>0.0744</td>\n",
       "      <td>-17.448</td>\n",
       "      <td>0</td>\n",
       "      <td>0.0384</td>\n",
       "      <td>142.818</td>\n",
       "      <td>3</td>\n",
       "      <td>0.0471</td>\n",
       "    </tr>\n",
       "    <tr>\n",
       "      <th>1</th>\n",
       "      <td>Kyle Landry</td>\n",
       "      <td>Shigatsu - Otouto Mitai Na Sonzai Piano</td>\n",
       "      <td>5tr1bCo0XRU3ZciXahlTKm</td>\n",
       "      <td>1</td>\n",
       "      <td>0.46</td>\n",
       "      <td>0.967</td>\n",
       "      <td>0.368</td>\n",
       "      <td>302336</td>\n",
       "      <td>0.1240</td>\n",
       "      <td>0.803</td>\n",
       "      <td>3</td>\n",
       "      <td>0.1820</td>\n",
       "      <td>-21.851</td>\n",
       "      <td>1</td>\n",
       "      <td>0.0513</td>\n",
       "      <td>138.910</td>\n",
       "      <td>4</td>\n",
       "      <td>0.1040</td>\n",
       "    </tr>\n",
       "    <tr>\n",
       "      <th>2</th>\n",
       "      <td>Kyle Landry</td>\n",
       "      <td>Passion (From \"Kingdom Hearts II\") [Piano Solo]</td>\n",
       "      <td>2xFBrGSZ4mSURd8p5IU4ed</td>\n",
       "      <td>1</td>\n",
       "      <td>0.46</td>\n",
       "      <td>0.964</td>\n",
       "      <td>0.406</td>\n",
       "      <td>274656</td>\n",
       "      <td>0.1300</td>\n",
       "      <td>0.870</td>\n",
       "      <td>1</td>\n",
       "      <td>0.0964</td>\n",
       "      <td>-20.320</td>\n",
       "      <td>0</td>\n",
       "      <td>0.0515</td>\n",
       "      <td>116.005</td>\n",
       "      <td>4</td>\n",
       "      <td>0.0975</td>\n",
       "    </tr>\n",
       "    <tr>\n",
       "      <th>3</th>\n",
       "      <td>Kyle Landry</td>\n",
       "      <td>Dango Daikazoku</td>\n",
       "      <td>7c6mInVLlpnaYD55R72FDX</td>\n",
       "      <td>1</td>\n",
       "      <td>0.44</td>\n",
       "      <td>0.976</td>\n",
       "      <td>0.384</td>\n",
       "      <td>310974</td>\n",
       "      <td>0.0400</td>\n",
       "      <td>0.896</td>\n",
       "      <td>8</td>\n",
       "      <td>0.0943</td>\n",
       "      <td>-23.524</td>\n",
       "      <td>1</td>\n",
       "      <td>0.0357</td>\n",
       "      <td>95.854</td>\n",
       "      <td>4</td>\n",
       "      <td>0.1000</td>\n",
       "    </tr>\n",
       "    <tr>\n",
       "      <th>4</th>\n",
       "      <td>Kyle Landry</td>\n",
       "      <td>Interstellar - First Step</td>\n",
       "      <td>0kznmyiS92b9v1rkn9WDqV</td>\n",
       "      <td>1</td>\n",
       "      <td>0.40</td>\n",
       "      <td>0.961</td>\n",
       "      <td>0.232</td>\n",
       "      <td>508622</td>\n",
       "      <td>0.0651</td>\n",
       "      <td>0.930</td>\n",
       "      <td>9</td>\n",
       "      <td>0.0607</td>\n",
       "      <td>-21.866</td>\n",
       "      <td>0</td>\n",
       "      <td>0.0387</td>\n",
       "      <td>74.750</td>\n",
       "      <td>3</td>\n",
       "      <td>0.0372</td>\n",
       "    </tr>\n",
       "  </tbody>\n",
       "</table>\n",
       "</div>"
      ],
      "text/plain": [
       "   artist_name                                       track_name  \\\n",
       "0  Kyle Landry                       Howl's Moving Castle Theme   \n",
       "1  Kyle Landry          Shigatsu - Otouto Mitai Na Sonzai Piano   \n",
       "2  Kyle Landry  Passion (From \"Kingdom Hearts II\") [Piano Solo]   \n",
       "3  Kyle Landry                                  Dango Daikazoku   \n",
       "4  Kyle Landry                        Interstellar - First Step   \n",
       "\n",
       "                 track_id  like  popularity  acousticness  danceability  \\\n",
       "0  3JTjiMAPVMfwjzPiG5R3hK     1        0.53         0.940         0.322   \n",
       "1  5tr1bCo0XRU3ZciXahlTKm     1        0.46         0.967         0.368   \n",
       "2  2xFBrGSZ4mSURd8p5IU4ed     1        0.46         0.964         0.406   \n",
       "3  7c6mInVLlpnaYD55R72FDX     1        0.44         0.976         0.384   \n",
       "4  0kznmyiS92b9v1rkn9WDqV     1        0.40         0.961         0.232   \n",
       "\n",
       "   duration_ms  energy  instrumentalness  key  liveness  loudness  mode  \\\n",
       "0       350348  0.1440             0.917    7    0.0744   -17.448     0   \n",
       "1       302336  0.1240             0.803    3    0.1820   -21.851     1   \n",
       "2       274656  0.1300             0.870    1    0.0964   -20.320     0   \n",
       "3       310974  0.0400             0.896    8    0.0943   -23.524     1   \n",
       "4       508622  0.0651             0.930    9    0.0607   -21.866     0   \n",
       "\n",
       "   speechiness    tempo  time_signature  valence  \n",
       "0       0.0384  142.818               3   0.0471  \n",
       "1       0.0513  138.910               4   0.1040  \n",
       "2       0.0515  116.005               4   0.0975  \n",
       "3       0.0357   95.854               4   0.1000  \n",
       "4       0.0387   74.750               3   0.0372  "
      ]
     },
     "execution_count": 121,
     "metadata": {},
     "output_type": "execute_result"
    }
   ],
   "source": [
    "all_tracks.head()"
   ]
  },
  {
   "cell_type": "code",
   "execution_count": 122,
   "metadata": {},
   "outputs": [],
   "source": [
    "def under_sample(df):\n",
    "    '''Applies under-sampling to a dataframe with imbalanced classes (class 0 << class 1)\n",
    "    \n",
    "    Input:\n",
    "    --------------\n",
    "    df: dataframe with imbalanced classes \n",
    "    \n",
    "    Returns:\n",
    "    --------------\n",
    "    df: dataframe with balanced classes\n",
    "    '''\n",
    "    \n",
    "    df_class_0 = df[df['like']==0]\n",
    "    df_class_1 = df[df['like']==1]\n",
    "    \n",
    "    df_class_1_under = df_class_1.sample(df_class_0.shape[0])\n",
    "    \n",
    "    df_under = pd.concat([df_class_0,df_class_1_under],axis=0)\n",
    "    \n",
    "    return df_under"
   ]
  },
  {
   "cell_type": "code",
   "execution_count": 123,
   "metadata": {},
   "outputs": [],
   "source": [
    "all_under = under_sample(all_tracks)"
   ]
  },
  {
   "cell_type": "code",
   "execution_count": 124,
   "metadata": {},
   "outputs": [
    {
     "data": {
      "text/plain": [
       "(6310, 18)"
      ]
     },
     "execution_count": 124,
     "metadata": {},
     "output_type": "execute_result"
    }
   ],
   "source": [
    "all_under.shape"
   ]
  },
  {
   "cell_type": "code",
   "execution_count": 125,
   "metadata": {},
   "outputs": [],
   "source": [
    "def over_sample(df):\n",
    "    '''Applies over-sampling to a dataframe with imbalanced classes (class 0 << class 1)\n",
    "    \n",
    "    Input:\n",
    "    --------------\n",
    "    df: dataframe with imbalanced classes \n",
    "    \n",
    "    Returns:\n",
    "    --------------\n",
    "    df: dataframe with balanced classes\n",
    "    '''\n",
    "    \n",
    "    df_class_0 = df[df['like']==0]\n",
    "    df_class_1 = df[df['like']==1]\n",
    "    \n",
    "    df_class_0_over = df_class_0.sample(df_class_1.shape[0],replace=True)\n",
    "    \n",
    "    df_over = pd.concat([df_class_0_over,df_class_1],axis=0)\n",
    "    \n",
    "    return df_over"
   ]
  },
  {
   "cell_type": "code",
   "execution_count": 126,
   "metadata": {},
   "outputs": [],
   "source": [
    "all_over = over_sample(all_tracks)"
   ]
  },
  {
   "cell_type": "code",
   "execution_count": 127,
   "metadata": {},
   "outputs": [
    {
     "data": {
      "text/plain": [
       "(13582, 18)"
      ]
     },
     "execution_count": 127,
     "metadata": {},
     "output_type": "execute_result"
    }
   ],
   "source": [
    "all_over.shape"
   ]
  },
  {
   "cell_type": "markdown",
   "metadata": {},
   "source": [
    "# Machine learning"
   ]
  },
  {
   "cell_type": "markdown",
   "metadata": {},
   "source": [
    "### Overview of classification models performance with cross-validation"
   ]
  },
  {
   "cell_type": "code",
   "execution_count": 128,
   "metadata": {
    "scrolled": false
   },
   "outputs": [],
   "source": [
    "def cross_validation(X,y,n):\n",
    "    '''Runs cross-validation on five classification models and prints the results (mean and standard deviation).\n",
    "    \n",
    "    Input:\n",
    "    --------------\n",
    "    X: dataframe of features\n",
    "    y: target\n",
    "    n: number of splits in cross-validation\n",
    "    '''\n",
    "    \n",
    "    cv_log = cross_val_score(LogisticRegression(),X,y,cv=n)\n",
    "    cv_svc = cross_val_score(SVC(),X,y,cv=n)\n",
    "    cv_knn = cross_val_score(KNeighborsClassifier(),X,y,cv=n)\n",
    "    cv_tree = cross_val_score(DecisionTreeClassifier(),X,y,cv=n)\n",
    "    cv_forest = cross_val_score(RandomForestClassifier(),X,y,cv=n)\n",
    "    \n",
    "    print('Logistic regression --> Mean:', round(np.mean(cv_log),2), '/ Std.:', round(np.std(cv_log),2))\n",
    "    print('SVC --> Mean:', round(np.mean(cv_svc),2), '/ Std.:', round(np.std(cv_svc),2))\n",
    "    print('KNN --> Mean:', round(np.mean(cv_knn),2), '/ Std.:', round(np.std(cv_knn),2))\n",
    "    print('Decision tree --> Mean:', round(np.mean(cv_tree),2), '/ Std.:', round(np.std(cv_tree),2))\n",
    "    print('Random forest --> Mean:', round(np.mean(cv_forest),2), '/ Std.:', round(np.std(cv_forest),2))"
   ]
  },
  {
   "cell_type": "markdown",
   "metadata": {},
   "source": [
    "#### With no re-sampling strategies"
   ]
  },
  {
   "cell_type": "code",
   "execution_count": 129,
   "metadata": {},
   "outputs": [],
   "source": [
    "# NOTE: when cross_val_score is used, with integer/None inputs, if the estimator is a classifier and y is either \n",
    "# binary or multiclass, StratifiedKFold is used. Otherwise, Kfolds is used."
   ]
  },
  {
   "cell_type": "code",
   "execution_count": 130,
   "metadata": {},
   "outputs": [
    {
     "name": "stdout",
     "output_type": "stream",
     "text": [
      "Logistic regression --> Mean: 0.79 / Std.: 0.09\n",
      "SVC --> Mean: 0.81 / Std.: 0.09\n",
      "KNN --> Mean: 0.8 / Std.: 0.08\n",
      "Decision tree --> Mean: 0.77 / Std.: 0.05\n",
      "Random forest --> Mean: 0.83 / Std.: 0.07\n"
     ]
    }
   ],
   "source": [
    "X = all_tracks[features]\n",
    "y = all_tracks['like']\n",
    "cross_validation(X,y,10)"
   ]
  },
  {
   "cell_type": "code",
   "execution_count": 131,
   "metadata": {},
   "outputs": [],
   "source": [
    "# Conclusions:\n",
    "\n",
    "# With the default parameters, the Random Forest has the best performance"
   ]
  },
  {
   "cell_type": "markdown",
   "metadata": {},
   "source": [
    "#### With under-sampling"
   ]
  },
  {
   "cell_type": "code",
   "execution_count": 132,
   "metadata": {},
   "outputs": [
    {
     "name": "stdout",
     "output_type": "stream",
     "text": [
      "Logistic regression --> Mean: 0.78 / Std.: 0.11\n",
      "SVC --> Mean: 0.81 / Std.: 0.11\n",
      "KNN --> Mean: 0.79 / Std.: 0.1\n",
      "Decision tree --> Mean: 0.77 / Std.: 0.07\n",
      "Random forest --> Mean: 0.82 / Std.: 0.08\n"
     ]
    }
   ],
   "source": [
    "X = all_under[features]\n",
    "y = all_under['like']\n",
    "cross_validation(X,y,10)"
   ]
  },
  {
   "cell_type": "code",
   "execution_count": 133,
   "metadata": {},
   "outputs": [],
   "source": [
    "# The results are very similar as when no re-sampling was performed"
   ]
  },
  {
   "cell_type": "markdown",
   "metadata": {},
   "source": [
    "#### With over-sampling"
   ]
  },
  {
   "cell_type": "code",
   "execution_count": 134,
   "metadata": {},
   "outputs": [
    {
     "name": "stdout",
     "output_type": "stream",
     "text": [
      "Logistic regression --> Mean: 0.77 / Std.: 0.05\n",
      "SVC --> Mean: 0.81 / Std.: 0.04\n",
      "KNN --> Mean: 0.84 / Std.: 0.03\n",
      "Decision tree --> Mean: 0.89 / Std.: 0.02\n",
      "Random forest --> Mean: 0.91 / Std.: 0.03\n"
     ]
    }
   ],
   "source": [
    "X = all_over[features]\n",
    "y = all_over['like']\n",
    "cross_validation(X,y,5)"
   ]
  },
  {
   "cell_type": "code",
   "execution_count": 135,
   "metadata": {},
   "outputs": [],
   "source": [
    "# The results with over-sampling improve significantly for the decision tree and random forest\n",
    "\n",
    "# From now on, for simplicity, we will keep working with the decision tree since it's more simple than the random forest\n",
    "# and delivers very similar results."
   ]
  },
  {
   "cell_type": "markdown",
   "metadata": {},
   "source": [
    "### Check random forest without cross-validation and different sampling strategies"
   ]
  },
  {
   "cell_type": "markdown",
   "metadata": {},
   "source": [
    "#### Without re-sampling"
   ]
  },
  {
   "cell_type": "code",
   "execution_count": 136,
   "metadata": {},
   "outputs": [],
   "source": [
    "X = all_tracks[features]\n",
    "y = all_tracks['like']\n",
    "X_train, X_test, y_train, y_test = train_test_split(X, y, test_size=0.3, random_state=42)"
   ]
  },
  {
   "cell_type": "code",
   "execution_count": 137,
   "metadata": {},
   "outputs": [
    {
     "data": {
      "text/plain": [
       "DecisionTreeClassifier(class_weight=None, criterion='gini', max_depth=None,\n",
       "            max_features=None, max_leaf_nodes=None,\n",
       "            min_impurity_decrease=0.0, min_impurity_split=None,\n",
       "            min_samples_leaf=1, min_samples_split=2,\n",
       "            min_weight_fraction_leaf=0.0, presort=False, random_state=None,\n",
       "            splitter='best')"
      ]
     },
     "execution_count": 137,
     "metadata": {},
     "output_type": "execute_result"
    }
   ],
   "source": [
    "dtc = DecisionTreeClassifier()\n",
    "dtc.fit(X_train,y_train)"
   ]
  },
  {
   "cell_type": "code",
   "execution_count": 138,
   "metadata": {},
   "outputs": [],
   "source": [
    "y_pred = dtc.predict(X_test)"
   ]
  },
  {
   "cell_type": "code",
   "execution_count": 139,
   "metadata": {},
   "outputs": [
    {
     "data": {
      "text/plain": [
       "0.8153485254691689"
      ]
     },
     "execution_count": 139,
     "metadata": {},
     "output_type": "execute_result"
    }
   ],
   "source": [
    "accuracy_score(y_test,y_pred)"
   ]
  },
  {
   "cell_type": "code",
   "execution_count": 140,
   "metadata": {
    "scrolled": true
   },
   "outputs": [
    {
     "data": {
      "text/plain": [
       "array([[ 661,  257],\n",
       "       [ 294, 1772]], dtype=int64)"
      ]
     },
     "execution_count": 140,
     "metadata": {},
     "output_type": "execute_result"
    }
   ],
   "source": [
    "confusion_matrix(y_test,y_pred)"
   ]
  },
  {
   "cell_type": "markdown",
   "metadata": {},
   "source": [
    "#### With under-sampling"
   ]
  },
  {
   "cell_type": "code",
   "execution_count": 141,
   "metadata": {},
   "outputs": [],
   "source": [
    "X = all_under[features]\n",
    "y = all_under['like']\n",
    "X_train, X_test, y_train, y_test = train_test_split(X, y, test_size=0.3, random_state=42)"
   ]
  },
  {
   "cell_type": "code",
   "execution_count": 142,
   "metadata": {},
   "outputs": [
    {
     "data": {
      "text/plain": [
       "DecisionTreeClassifier(class_weight=None, criterion='gini', max_depth=None,\n",
       "            max_features=None, max_leaf_nodes=None,\n",
       "            min_impurity_decrease=0.0, min_impurity_split=None,\n",
       "            min_samples_leaf=1, min_samples_split=2,\n",
       "            min_weight_fraction_leaf=0.0, presort=False, random_state=None,\n",
       "            splitter='best')"
      ]
     },
     "execution_count": 142,
     "metadata": {},
     "output_type": "execute_result"
    }
   ],
   "source": [
    "dtc = DecisionTreeClassifier()\n",
    "dtc.fit(X_train,y_train)"
   ]
  },
  {
   "cell_type": "code",
   "execution_count": 143,
   "metadata": {},
   "outputs": [],
   "source": [
    "y_pred = dtc.predict(X_test)"
   ]
  },
  {
   "cell_type": "code",
   "execution_count": 144,
   "metadata": {},
   "outputs": [
    {
     "data": {
      "text/plain": [
       "0.7939778129952456"
      ]
     },
     "execution_count": 144,
     "metadata": {},
     "output_type": "execute_result"
    }
   ],
   "source": [
    "accuracy_score(y_test,y_pred)"
   ]
  },
  {
   "cell_type": "code",
   "execution_count": 145,
   "metadata": {},
   "outputs": [
    {
     "data": {
      "text/plain": [
       "array([[753, 216],\n",
       "       [174, 750]], dtype=int64)"
      ]
     },
     "execution_count": 145,
     "metadata": {},
     "output_type": "execute_result"
    }
   ],
   "source": [
    "confusion_matrix(y_test,y_pred)"
   ]
  },
  {
   "cell_type": "markdown",
   "metadata": {},
   "source": [
    "#### With over-sampling"
   ]
  },
  {
   "cell_type": "code",
   "execution_count": 146,
   "metadata": {},
   "outputs": [],
   "source": [
    "X = all_over[features]\n",
    "y = all_over['like']\n",
    "X_train, X_test, y_train, y_test = train_test_split(X, y, test_size=0.3, random_state=42)"
   ]
  },
  {
   "cell_type": "code",
   "execution_count": 147,
   "metadata": {},
   "outputs": [
    {
     "data": {
      "text/plain": [
       "RandomForestClassifier(bootstrap=True, class_weight=None, criterion='gini',\n",
       "            max_depth=None, max_features='auto', max_leaf_nodes=None,\n",
       "            min_impurity_decrease=0.0, min_impurity_split=None,\n",
       "            min_samples_leaf=1, min_samples_split=2,\n",
       "            min_weight_fraction_leaf=0.0, n_estimators=10, n_jobs=None,\n",
       "            oob_score=False, random_state=None, verbose=0,\n",
       "            warm_start=False)"
      ]
     },
     "execution_count": 147,
     "metadata": {},
     "output_type": "execute_result"
    }
   ],
   "source": [
    "dtc = RandomForestClassifier()\n",
    "dtc.fit(X_train,y_train)"
   ]
  },
  {
   "cell_type": "code",
   "execution_count": 148,
   "metadata": {},
   "outputs": [],
   "source": [
    "y_pred = dtc.predict(X_test)"
   ]
  },
  {
   "cell_type": "code",
   "execution_count": 149,
   "metadata": {},
   "outputs": [
    {
     "data": {
      "text/plain": [
       "0.9155828220858896"
      ]
     },
     "execution_count": 149,
     "metadata": {},
     "output_type": "execute_result"
    }
   ],
   "source": [
    "accuracy_score(y_test,y_pred)"
   ]
  },
  {
   "cell_type": "code",
   "execution_count": 150,
   "metadata": {},
   "outputs": [
    {
     "data": {
      "text/plain": [
       "array([[1965,   84],\n",
       "       [ 260, 1766]], dtype=int64)"
      ]
     },
     "execution_count": 150,
     "metadata": {},
     "output_type": "execute_result"
    }
   ],
   "source": [
    "confusion_matrix(y_test,y_pred)"
   ]
  },
  {
   "cell_type": "code",
   "execution_count": 151,
   "metadata": {
    "scrolled": false
   },
   "outputs": [
    {
     "name": "stdout",
     "output_type": "stream",
     "text": [
      "              precision    recall  f1-score   support\n",
      "\n",
      "           0       0.88      0.96      0.92      2049\n",
      "           1       0.95      0.87      0.91      2026\n",
      "\n",
      "   micro avg       0.92      0.92      0.92      4075\n",
      "   macro avg       0.92      0.92      0.92      4075\n",
      "weighted avg       0.92      0.92      0.92      4075\n",
      "\n"
     ]
    }
   ],
   "source": [
    "print(classification_report(y_test,y_pred))"
   ]
  },
  {
   "cell_type": "code",
   "execution_count": 154,
   "metadata": {},
   "outputs": [],
   "source": [
    "# Notes:\n",
    "#       0     1\n",
    "# 0  [[1965, 84],\n",
    "#      (TN) (FP)\n",
    "# 1  [260, 1766]]\n",
    "#      (FN) (TP)\n",
    "\n",
    "# Precision: TP / (TP + FP) \n",
    "    # For class 0: 1965 / (1965 + 260) = 0.88\n",
    "    # For class 1: 1766 / (1766 + 84) = 0.95\n",
    "    \n",
    "# Recall/sensitivity: TP/ (TP + FN)\n",
    "    # For class 0: 1965 / (1965 + 84) = 0.96\n",
    "    # For class 1: 1766 / (1766 + 260) = 0.87"
   ]
  },
  {
   "cell_type": "code",
   "execution_count": 155,
   "metadata": {},
   "outputs": [],
   "source": [
    "# Conclusions\n",
    "\n",
    "# The model classifies performs pretty well, classifying 92% of the songs correctly.\n",
    "\n",
    "# However, it has a hard "
   ]
  },
  {
   "cell_type": "markdown",
   "metadata": {},
   "source": [
    "### MODEL OPTIMIZATION"
   ]
  },
  {
   "cell_type": "code",
   "execution_count": 156,
   "metadata": {},
   "outputs": [],
   "source": [
    "# Notes\n",
    "\n",
    "# max_depth: maximum depth of the tree (by default, nodes expand untill all leaves are pure or leaves < min_samples_split)\n",
    "# min_samples_split: minimum number of samples to split a node (2 by default)\n",
    "# min_samples_leaf: minimum number of samples required at a leaf node (1 by default)\n",
    "# max_features: number of features to consider when looking for the best split (by default, the sqrt of number of features)"
   ]
  },
  {
   "cell_type": "code",
   "execution_count": 157,
   "metadata": {
    "scrolled": true
   },
   "outputs": [
    {
     "name": "stdout",
     "output_type": "stream",
     "text": [
      "Best score: 0.8840854107499737\n",
      "Best parameters: {'max_depth': 14, 'max_features': 8, 'min_samples_split': 2}\n"
     ]
    }
   ],
   "source": [
    "# CHECKING BEST PARAMETER COMBINATION FOR DECISION TREE CLASSIFIER\n",
    "\n",
    "from sklearn.model_selection import StratifiedKFold\n",
    "from sklearn.model_selection import GridSearchCV\n",
    "\n",
    "dtc = DecisionTreeClassifier()\n",
    "\n",
    "X = all_over[features]\n",
    "y = all_over['like']\n",
    "X_train, X_test, y_train, y_test = train_test_split(X, y, test_size=0.3, random_state=42)\n",
    "\n",
    "# Parameters to try\n",
    "parameter_grid = {'max_depth':list(range(4,16)),\n",
    "                  'min_samples_split':list(range(2,10)),\n",
    "                  'max_features':list(range(2,10))}\n",
    "                  \n",
    "# Instantiate stratified cross validation\n",
    "cross_validation = StratifiedKFold(n_splits=5)\n",
    "\n",
    "# Create grid search object\n",
    "grid_search = GridSearchCV(dtc,\n",
    "                           param_grid=parameter_grid,\n",
    "                           cv=cross_validation,\n",
    "                           n_jobs=-1)\n",
    "\n",
    "# Fit model with grid_search\n",
    "grid_search.fit(X_train, y_train) # uses train data from previous over sampling\n",
    "print('Best score: {}'.format(grid_search.best_score_))\n",
    "print('Best parameters: {}'.format(grid_search.best_params_))"
   ]
  },
  {
   "cell_type": "code",
   "execution_count": 169,
   "metadata": {},
   "outputs": [],
   "source": [
    "# In the end, the grid search with the input parameters lead to worse results (or almost the same) than the default ones,\n",
    "# therefore, the default values for the model will be left."
   ]
  },
  {
   "cell_type": "markdown",
   "metadata": {},
   "source": [
    "### Run final model with best parameters"
   ]
  },
  {
   "cell_type": "code",
   "execution_count": 170,
   "metadata": {},
   "outputs": [],
   "source": [
    "X = all_over[features]\n",
    "y = all_over['like']\n",
    "X_train, X_test, y_train, y_test = train_test_split(X, y, test_size=0.3, random_state=42)"
   ]
  },
  {
   "cell_type": "code",
   "execution_count": 171,
   "metadata": {},
   "outputs": [],
   "source": [
    "dtc = DecisionTreeClassifier()\n",
    "dtc.fit(X_train,y_train)\n",
    "y_pred = dtc.predict(X_test)"
   ]
  },
  {
   "cell_type": "code",
   "execution_count": 172,
   "metadata": {},
   "outputs": [
    {
     "data": {
      "text/plain": [
       "0.9045398773006135"
      ]
     },
     "execution_count": 172,
     "metadata": {},
     "output_type": "execute_result"
    }
   ],
   "source": [
    "accuracy_score(y_test,y_pred)"
   ]
  },
  {
   "cell_type": "code",
   "execution_count": 173,
   "metadata": {
    "scrolled": true
   },
   "outputs": [],
   "source": [
    "cm = confusion_matrix(y_test,y_pred)"
   ]
  },
  {
   "cell_type": "code",
   "execution_count": 174,
   "metadata": {},
   "outputs": [
    {
     "data": {
      "text/plain": [
       "array([[1918,  131],\n",
       "       [ 258, 1768]], dtype=int64)"
      ]
     },
     "execution_count": 174,
     "metadata": {},
     "output_type": "execute_result"
    }
   ],
   "source": [
    "cm"
   ]
  },
  {
   "cell_type": "code",
   "execution_count": 175,
   "metadata": {},
   "outputs": [
    {
     "data": {
      "text/html": [
       "<div>\n",
       "<style scoped>\n",
       "    .dataframe tbody tr th:only-of-type {\n",
       "        vertical-align: middle;\n",
       "    }\n",
       "\n",
       "    .dataframe tbody tr th {\n",
       "        vertical-align: top;\n",
       "    }\n",
       "\n",
       "    .dataframe thead th {\n",
       "        text-align: right;\n",
       "    }\n",
       "</style>\n",
       "<table border=\"1\" class=\"dataframe\">\n",
       "  <thead>\n",
       "    <tr style=\"text-align: right;\">\n",
       "      <th></th>\n",
       "      <th>Disliked</th>\n",
       "      <th>Liked</th>\n",
       "    </tr>\n",
       "  </thead>\n",
       "  <tbody>\n",
       "    <tr>\n",
       "      <th>Disliked</th>\n",
       "      <td>1918</td>\n",
       "      <td>131</td>\n",
       "    </tr>\n",
       "    <tr>\n",
       "      <th>Liked</th>\n",
       "      <td>258</td>\n",
       "      <td>1768</td>\n",
       "    </tr>\n",
       "  </tbody>\n",
       "</table>\n",
       "</div>"
      ],
      "text/plain": [
       "          Disliked  Liked\n",
       "Disliked      1918    131\n",
       "Liked          258   1768"
      ]
     },
     "execution_count": 175,
     "metadata": {},
     "output_type": "execute_result"
    }
   ],
   "source": [
    "index = ['Disliked','Liked']\n",
    "pd.DataFrame(cm,columns=['Disliked','Liked'],index=index)"
   ]
  },
  {
   "cell_type": "code",
   "execution_count": 176,
   "metadata": {},
   "outputs": [
    {
     "name": "stdout",
     "output_type": "stream",
     "text": [
      "              precision    recall  f1-score   support\n",
      "\n",
      "           0       0.88      0.94      0.91      2049\n",
      "           1       0.93      0.87      0.90      2026\n",
      "\n",
      "   micro avg       0.90      0.90      0.90      4075\n",
      "   macro avg       0.91      0.90      0.90      4075\n",
      "weighted avg       0.91      0.90      0.90      4075\n",
      "\n"
     ]
    }
   ],
   "source": [
    "print(classification_report(y_test,y_pred))"
   ]
  },
  {
   "cell_type": "code",
   "execution_count": 165,
   "metadata": {},
   "outputs": [],
   "source": [
    "importances = pd.DataFrame(dtc.feature_importances_,index=X.columns,columns=['importances']).sort_values(by=['importances'],ascending=False)"
   ]
  },
  {
   "cell_type": "code",
   "execution_count": 166,
   "metadata": {},
   "outputs": [
    {
     "data": {
      "text/html": [
       "<div>\n",
       "<style scoped>\n",
       "    .dataframe tbody tr th:only-of-type {\n",
       "        vertical-align: middle;\n",
       "    }\n",
       "\n",
       "    .dataframe tbody tr th {\n",
       "        vertical-align: top;\n",
       "    }\n",
       "\n",
       "    .dataframe thead th {\n",
       "        text-align: right;\n",
       "    }\n",
       "</style>\n",
       "<table border=\"1\" class=\"dataframe\">\n",
       "  <thead>\n",
       "    <tr style=\"text-align: right;\">\n",
       "      <th></th>\n",
       "      <th>importances</th>\n",
       "    </tr>\n",
       "  </thead>\n",
       "  <tbody>\n",
       "    <tr>\n",
       "      <th>instrumentalness</th>\n",
       "      <td>0.231422</td>\n",
       "    </tr>\n",
       "    <tr>\n",
       "      <th>danceability</th>\n",
       "      <td>0.206027</td>\n",
       "    </tr>\n",
       "    <tr>\n",
       "      <th>acousticness</th>\n",
       "      <td>0.190200</td>\n",
       "    </tr>\n",
       "    <tr>\n",
       "      <th>popularity</th>\n",
       "      <td>0.116369</td>\n",
       "    </tr>\n",
       "    <tr>\n",
       "      <th>energy</th>\n",
       "      <td>0.074033</td>\n",
       "    </tr>\n",
       "    <tr>\n",
       "      <th>speechiness</th>\n",
       "      <td>0.070418</td>\n",
       "    </tr>\n",
       "    <tr>\n",
       "      <th>valence</th>\n",
       "      <td>0.062395</td>\n",
       "    </tr>\n",
       "    <tr>\n",
       "      <th>liveness</th>\n",
       "      <td>0.045159</td>\n",
       "    </tr>\n",
       "    <tr>\n",
       "      <th>mode</th>\n",
       "      <td>0.003978</td>\n",
       "    </tr>\n",
       "  </tbody>\n",
       "</table>\n",
       "</div>"
      ],
      "text/plain": [
       "                  importances\n",
       "instrumentalness     0.231422\n",
       "danceability         0.206027\n",
       "acousticness         0.190200\n",
       "popularity           0.116369\n",
       "energy               0.074033\n",
       "speechiness          0.070418\n",
       "valence              0.062395\n",
       "liveness             0.045159\n",
       "mode                 0.003978"
      ]
     },
     "execution_count": 166,
     "metadata": {},
     "output_type": "execute_result"
    }
   ],
   "source": [
    "importances"
   ]
  },
  {
   "cell_type": "code",
   "execution_count": 84,
   "metadata": {},
   "outputs": [],
   "source": [
    "import io"
   ]
  },
  {
   "cell_type": "code",
   "execution_count": 85,
   "metadata": {},
   "outputs": [],
   "source": [
    "from sklearn.tree import export_graphviz"
   ]
  },
  {
   "cell_type": "code",
   "execution_count": 86,
   "metadata": {},
   "outputs": [],
   "source": [
    "import pydotplus"
   ]
  },
  {
   "cell_type": "code",
   "execution_count": 28,
   "metadata": {},
   "outputs": [],
   "source": [
    "import imageio"
   ]
  },
  {
   "cell_type": "code",
   "execution_count": 29,
   "metadata": {},
   "outputs": [],
   "source": [
    "def showtree(tree, features, path):\n",
    "    f = io.StringIO()\n",
    "    export_graphviz(tree, out_file=f,feature_names=features)\n",
    "    pydotplus.graph_from_dot_data(f.getvalue()).write_png(path)\n",
    "    img = imageio.imread( path )\n",
    "    plt.rcParams['figure.figsize'] = (20,20)\n",
    "    plt.imshow(img)"
   ]
  },
  {
   "cell_type": "code",
   "execution_count": 34,
   "metadata": {},
   "outputs": [
    {
     "data": {
      "image/png": "[encoded data removed]",
      "text/plain": [
       "<Figure size 1440x1440 with 1 Axes>"
      ]
     },
     "metadata": {
      "needs_background": "light"
     },
     "output_type": "display_data"
    }
   ],
   "source": [
    "showtree(dtc,features,'dt_02.png')"
   ]
  },
  {
   "cell_type": "code",
   "execution_count": 79,
   "metadata": {},
   "outputs": [],
   "source": [
    "# As it has been already observed with the visualization and statisical analysis, the features that are most determinant\n",
    "# when classifying a track are instrumentalness, danceability, popularity, loudness, and valence. There are other parameters\n",
    "# also classified as important such as acousticness and energy which were not seen as important in the previous analysis."
   ]
  },
  {
   "cell_type": "code",
   "execution_count": 167,
   "metadata": {},
   "outputs": [],
   "source": [
    "from sklearn.externals import joblib"
   ]
  },
  {
   "cell_type": "code",
   "execution_count": 177,
   "metadata": {},
   "outputs": [
    {
     "data": {
      "text/plain": [
       "['tree_model.sav']"
      ]
     },
     "execution_count": 177,
     "metadata": {},
     "output_type": "execute_result"
    }
   ],
   "source": [
    "# Save model to disk\n",
    "filename = 'tree_model.sav'\n",
    "joblib.dump(dtc, filename)"
   ]
  },
  {
   "cell_type": "code",
   "execution_count": null,
   "metadata": {},
   "outputs": [],
   "source": []
  }
 ],
 "metadata": {
  "kernelspec": {
   "display_name": "Python 3",
   "language": "python",
   "name": "python3"
  },
  "language_info": {
   "codemirror_mode": {
    "name": "ipython",
    "version": 3
   },
   "file_extension": ".py",
   "mimetype": "text/x-python",
   "name": "python",
   "nbconvert_exporter": "python",
   "pygments_lexer": "ipython3",
   "version": "3.7.2"
  }
 },
 "nbformat": 4,
 "nbformat_minor": 2
}
