{
 "cells": [
  {
   "cell_type": "markdown",
   "metadata": {},
   "source": [
    "# Data Analysis"
   ]
  },
  {
   "cell_type": "markdown",
   "metadata": {},
   "source": [
    "### Features explanation\n",
    "\n",
    "* Popularity: 0 = not popular, 100 = maximum popularity\n",
    "\n",
    "* Acousticness: A confidence measure from 0.0 to 1.0 of whether the track is acoustic. 1.0 represents high confidence the track is acoustic.\n",
    "\n",
    "* Danceability: Danceability describes how suitable a track is for dancing based on a combination of musical elements including tempo, rhythm stability, beat strength, and overall regularity. A value of 0.0 is least danceable and 1.0 is most danceable.\n",
    "\n",
    "* Energy: Energy is a measure from 0.0 to 1.0 and represents a perceptual measure of intensity and activity. Typically, energetic tracks feel fast, loud, and noisy. For example, death metal has high energy, while a Bach prelude scores low on the scale. Perceptual features contributing to this attribute include dynamic range, perceived loudness, timbre, onset rate, and general entropy.\n",
    "\n",
    "* Instrumentalness: Predicts whether a track contains no vocals. “Ooh” and “aah” sounds are treated as instrumental in this context. Rap or spoken word tracks are clearly “vocal”. The closer the instrumentalness value is to 1.0, the greater likelihood the track contains no vocal content. Values above 0.5 are intended to represent instrumental tracks, but confidence is higher as the value approaches 1.0.\n",
    "\n",
    "* Key: The estimated overall key of the track. Integers map to pitches using standard Pitch Class notation . E.g. 0 = C, 1 = C♯/D♭, 2 = D, and so on. If no key was detected, the value is -1.\n",
    "\n",
    "* Liveness: Detects the presence of an audience in the recording. Higher liveness values represent an increased probability that the track was performed live. A value above 0.8 provides strong likelihood that the track is live.\n",
    "\n",
    "* Loudness: The overall loudness of a track in decibels (dB). Loudness values are averaged across the entire track and are useful for comparing relative loudness of tracks. Loudness is the quality of a sound that is the primary psychological correlate of physical strength (amplitude). Values typical range between -60 and 0 db. \n",
    "\n",
    "* Mode: Mode indicates the modality (major or minor) of a track, the type of scale from which its melodic content is derived. Major is represented by 1 and minor is 0.\n",
    "\n",
    "* Speechiness: \tSpeechiness detects the presence of spoken words in a track. The more exclusively speech-like the recording (e.g. talk show, audio book, poetry), the closer to 1.0 the attribute value. Values above 0.66 describe tracks that are probably made entirely of spoken words. Values between 0.33 and 0.66 describe tracks that may contain both music and speech, either in sections or layered, including such cases as rap music. Values below 0.33 most likely represent music and other non-speech-like tracks.\n",
    "\n",
    "* Tempo: The overall estimated tempo of a track in beats per minute (BPM).\n",
    "\n",
    "* Time signature: \tAn estimated overall time signature of a track. The time signature (meter) is a notational convention to specify how many beats are in each bar (or measure).\n",
    "\n",
    "* Valence: A measure from 0.0 to 1.0 describing the musical positiveness conveyed by a track. Tracks with high valence sound more positive (e.g. happy, cheerful, euphoric), while tracks with low valence sound more negative (e.g. sad, depressed, angry)."
   ]
  },
  {
   "cell_type": "code",
   "execution_count": 1,
   "metadata": {},
   "outputs": [],
   "source": [
    "# Import libraries\n",
    "import numpy as np\n",
    "import pandas as pd\n",
    "import matplotlib.pyplot as plt\n",
    "import seaborn as sns\n",
    "\n",
    "%matplotlib inline"
   ]
  },
  {
   "cell_type": "code",
   "execution_count": 2,
   "metadata": {},
   "outputs": [],
   "source": [
    "import warnings\n",
    "warnings.filterwarnings('ignore')"
   ]
  },
  {
   "cell_type": "code",
   "execution_count": 3,
   "metadata": {},
   "outputs": [],
   "source": [
    "# Import models\n",
    "\n",
    "from sklearn.linear_model import LogisticRegression\n",
    "from sklearn.svm import SVC\n",
    "from sklearn.neighbors import KNeighborsClassifier\n",
    "from sklearn.tree import DecisionTreeClassifier\n",
    "from sklearn.ensemble import RandomForestClassifier"
   ]
  },
  {
   "cell_type": "code",
   "execution_count": 4,
   "metadata": {},
   "outputs": [],
   "source": [
    "from sklearn.preprocessing import MinMaxScaler\n",
    "from sklearn.model_selection import train_test_split, cross_val_score\n",
    "from sklearn.metrics import confusion_matrix, classification_report, accuracy_score"
   ]
  },
  {
   "cell_type": "markdown",
   "metadata": {},
   "source": [
    "### Data import and initial analysis"
   ]
  },
  {
   "cell_type": "code",
   "execution_count": 5,
   "metadata": {},
   "outputs": [],
   "source": [
    "all_tracks = pd.read_csv('../exported_data/all_tracks.csv',index_col=0)"
   ]
  },
  {
   "cell_type": "code",
   "execution_count": 6,
   "metadata": {},
   "outputs": [],
   "source": [
    "# *** IN ALL THE ANALYSIS WHEN THE FEATURES ARE USED THEY WILL REFERRING TO THIS ***\n",
    "\n",
    "features = ['popularity', 'acousticness', 'danceability', 'duration_ms', 'energy',\n",
    "       'instrumentalness', 'key', 'liveness', 'loudness', 'mode',\n",
    "       'speechiness', 'tempo', 'time_signature', 'valence']"
   ]
  },
  {
   "cell_type": "code",
   "execution_count": 7,
   "metadata": {
    "scrolled": true
   },
   "outputs": [
    {
     "data": {
      "text/html": [
       "<div>\n",
       "<style scoped>\n",
       "    .dataframe tbody tr th:only-of-type {\n",
       "        vertical-align: middle;\n",
       "    }\n",
       "\n",
       "    .dataframe tbody tr th {\n",
       "        vertical-align: top;\n",
       "    }\n",
       "\n",
       "    .dataframe thead th {\n",
       "        text-align: right;\n",
       "    }\n",
       "</style>\n",
       "<table border=\"1\" class=\"dataframe\">\n",
       "  <thead>\n",
       "    <tr style=\"text-align: right;\">\n",
       "      <th></th>\n",
       "      <th>artist_name</th>\n",
       "      <th>track_name</th>\n",
       "      <th>track_id</th>\n",
       "      <th>popularity</th>\n",
       "      <th>like</th>\n",
       "      <th>acousticness</th>\n",
       "      <th>danceability</th>\n",
       "      <th>duration_ms</th>\n",
       "      <th>energy</th>\n",
       "      <th>instrumentalness</th>\n",
       "      <th>key</th>\n",
       "      <th>liveness</th>\n",
       "      <th>loudness</th>\n",
       "      <th>mode</th>\n",
       "      <th>speechiness</th>\n",
       "      <th>tempo</th>\n",
       "      <th>time_signature</th>\n",
       "      <th>valence</th>\n",
       "    </tr>\n",
       "  </thead>\n",
       "  <tbody>\n",
       "    <tr>\n",
       "      <th>0</th>\n",
       "      <td>Kyle Landry</td>\n",
       "      <td>Howl's Moving Castle Theme</td>\n",
       "      <td>3JTjiMAPVMfwjzPiG5R3hK</td>\n",
       "      <td>53</td>\n",
       "      <td>1</td>\n",
       "      <td>0.940</td>\n",
       "      <td>0.322</td>\n",
       "      <td>350348</td>\n",
       "      <td>0.1440</td>\n",
       "      <td>0.917</td>\n",
       "      <td>7</td>\n",
       "      <td>0.0744</td>\n",
       "      <td>-17.448</td>\n",
       "      <td>0</td>\n",
       "      <td>0.0384</td>\n",
       "      <td>142.818</td>\n",
       "      <td>3</td>\n",
       "      <td>0.0471</td>\n",
       "    </tr>\n",
       "    <tr>\n",
       "      <th>1</th>\n",
       "      <td>Kyle Landry</td>\n",
       "      <td>Shigatsu - Otouto Mitai Na Sonzai Piano</td>\n",
       "      <td>5tr1bCo0XRU3ZciXahlTKm</td>\n",
       "      <td>46</td>\n",
       "      <td>1</td>\n",
       "      <td>0.967</td>\n",
       "      <td>0.368</td>\n",
       "      <td>302336</td>\n",
       "      <td>0.1240</td>\n",
       "      <td>0.803</td>\n",
       "      <td>3</td>\n",
       "      <td>0.1820</td>\n",
       "      <td>-21.851</td>\n",
       "      <td>1</td>\n",
       "      <td>0.0513</td>\n",
       "      <td>138.910</td>\n",
       "      <td>4</td>\n",
       "      <td>0.1040</td>\n",
       "    </tr>\n",
       "    <tr>\n",
       "      <th>2</th>\n",
       "      <td>Kyle Landry</td>\n",
       "      <td>Passion (From \"Kingdom Hearts II\") [Piano Solo]</td>\n",
       "      <td>2xFBrGSZ4mSURd8p5IU4ed</td>\n",
       "      <td>47</td>\n",
       "      <td>1</td>\n",
       "      <td>0.964</td>\n",
       "      <td>0.406</td>\n",
       "      <td>274656</td>\n",
       "      <td>0.1300</td>\n",
       "      <td>0.870</td>\n",
       "      <td>1</td>\n",
       "      <td>0.0964</td>\n",
       "      <td>-20.320</td>\n",
       "      <td>0</td>\n",
       "      <td>0.0515</td>\n",
       "      <td>116.005</td>\n",
       "      <td>4</td>\n",
       "      <td>0.0975</td>\n",
       "    </tr>\n",
       "    <tr>\n",
       "      <th>3</th>\n",
       "      <td>Kyle Landry</td>\n",
       "      <td>Dango Daikazoku</td>\n",
       "      <td>7c6mInVLlpnaYD55R72FDX</td>\n",
       "      <td>44</td>\n",
       "      <td>1</td>\n",
       "      <td>0.976</td>\n",
       "      <td>0.384</td>\n",
       "      <td>310974</td>\n",
       "      <td>0.0400</td>\n",
       "      <td>0.896</td>\n",
       "      <td>8</td>\n",
       "      <td>0.0943</td>\n",
       "      <td>-23.524</td>\n",
       "      <td>1</td>\n",
       "      <td>0.0357</td>\n",
       "      <td>95.854</td>\n",
       "      <td>4</td>\n",
       "      <td>0.1000</td>\n",
       "    </tr>\n",
       "    <tr>\n",
       "      <th>4</th>\n",
       "      <td>Kyle Landry</td>\n",
       "      <td>Interstellar - First Step</td>\n",
       "      <td>0kznmyiS92b9v1rkn9WDqV</td>\n",
       "      <td>40</td>\n",
       "      <td>1</td>\n",
       "      <td>0.961</td>\n",
       "      <td>0.232</td>\n",
       "      <td>508622</td>\n",
       "      <td>0.0651</td>\n",
       "      <td>0.930</td>\n",
       "      <td>9</td>\n",
       "      <td>0.0607</td>\n",
       "      <td>-21.866</td>\n",
       "      <td>0</td>\n",
       "      <td>0.0387</td>\n",
       "      <td>74.750</td>\n",
       "      <td>3</td>\n",
       "      <td>0.0372</td>\n",
       "    </tr>\n",
       "  </tbody>\n",
       "</table>\n",
       "</div>"
      ],
      "text/plain": [
       "   artist_name                                       track_name  \\\n",
       "0  Kyle Landry                       Howl's Moving Castle Theme   \n",
       "1  Kyle Landry          Shigatsu - Otouto Mitai Na Sonzai Piano   \n",
       "2  Kyle Landry  Passion (From \"Kingdom Hearts II\") [Piano Solo]   \n",
       "3  Kyle Landry                                  Dango Daikazoku   \n",
       "4  Kyle Landry                        Interstellar - First Step   \n",
       "\n",
       "                 track_id  popularity  like  acousticness  danceability  \\\n",
       "0  3JTjiMAPVMfwjzPiG5R3hK          53     1         0.940         0.322   \n",
       "1  5tr1bCo0XRU3ZciXahlTKm          46     1         0.967         0.368   \n",
       "2  2xFBrGSZ4mSURd8p5IU4ed          47     1         0.964         0.406   \n",
       "3  7c6mInVLlpnaYD55R72FDX          44     1         0.976         0.384   \n",
       "4  0kznmyiS92b9v1rkn9WDqV          40     1         0.961         0.232   \n",
       "\n",
       "   duration_ms  energy  instrumentalness  key  liveness  loudness  mode  \\\n",
       "0       350348  0.1440             0.917    7    0.0744   -17.448     0   \n",
       "1       302336  0.1240             0.803    3    0.1820   -21.851     1   \n",
       "2       274656  0.1300             0.870    1    0.0964   -20.320     0   \n",
       "3       310974  0.0400             0.896    8    0.0943   -23.524     1   \n",
       "4       508622  0.0651             0.930    9    0.0607   -21.866     0   \n",
       "\n",
       "   speechiness    tempo  time_signature  valence  \n",
       "0       0.0384  142.818               3   0.0471  \n",
       "1       0.0513  138.910               4   0.1040  \n",
       "2       0.0515  116.005               4   0.0975  \n",
       "3       0.0357   95.854               4   0.1000  \n",
       "4       0.0387   74.750               3   0.0372  "
      ]
     },
     "execution_count": 7,
     "metadata": {},
     "output_type": "execute_result"
    }
   ],
   "source": [
    "all_tracks.head()"
   ]
  },
  {
   "cell_type": "code",
   "execution_count": 64,
   "metadata": {},
   "outputs": [],
   "source": [
    "# Change order of columns\n",
    "\n",
    "all_tracks = all_tracks[['artist_name', 'track_name', 'track_id', 'like', 'popularity',\n",
    "       'acousticness', 'danceability', 'duration_ms', 'energy',\n",
    "       'instrumentalness', 'key', 'liveness', 'loudness', 'mode',\n",
    "       'speechiness', 'tempo', 'time_signature', 'valence']]"
   ]
  },
  {
   "cell_type": "code",
   "execution_count": 8,
   "metadata": {
    "scrolled": true
   },
   "outputs": [
    {
     "data": {
      "text/html": [
       "<div>\n",
       "<style scoped>\n",
       "    .dataframe tbody tr th:only-of-type {\n",
       "        vertical-align: middle;\n",
       "    }\n",
       "\n",
       "    .dataframe tbody tr th {\n",
       "        vertical-align: top;\n",
       "    }\n",
       "\n",
       "    .dataframe thead th {\n",
       "        text-align: right;\n",
       "    }\n",
       "</style>\n",
       "<table border=\"1\" class=\"dataframe\">\n",
       "  <thead>\n",
       "    <tr style=\"text-align: right;\">\n",
       "      <th></th>\n",
       "      <th>popularity</th>\n",
       "      <th>like</th>\n",
       "      <th>acousticness</th>\n",
       "      <th>danceability</th>\n",
       "      <th>duration_ms</th>\n",
       "      <th>energy</th>\n",
       "      <th>instrumentalness</th>\n",
       "      <th>key</th>\n",
       "      <th>liveness</th>\n",
       "      <th>loudness</th>\n",
       "      <th>mode</th>\n",
       "      <th>speechiness</th>\n",
       "      <th>tempo</th>\n",
       "      <th>time_signature</th>\n",
       "      <th>valence</th>\n",
       "    </tr>\n",
       "  </thead>\n",
       "  <tbody>\n",
       "    <tr>\n",
       "      <th>count</th>\n",
       "      <td>9945.000000</td>\n",
       "      <td>9945.000000</td>\n",
       "      <td>9945.000000</td>\n",
       "      <td>9945.000000</td>\n",
       "      <td>9.945000e+03</td>\n",
       "      <td>9945.000000</td>\n",
       "      <td>9945.000000</td>\n",
       "      <td>9945.000000</td>\n",
       "      <td>9945.000000</td>\n",
       "      <td>9945.000000</td>\n",
       "      <td>9945.000000</td>\n",
       "      <td>9945.000000</td>\n",
       "      <td>9945.000000</td>\n",
       "      <td>9945.000000</td>\n",
       "      <td>9945.000000</td>\n",
       "    </tr>\n",
       "    <tr>\n",
       "      <th>mean</th>\n",
       "      <td>32.424937</td>\n",
       "      <td>0.682755</td>\n",
       "      <td>0.225286</td>\n",
       "      <td>0.535810</td>\n",
       "      <td>2.569605e+05</td>\n",
       "      <td>0.706409</td>\n",
       "      <td>0.240350</td>\n",
       "      <td>5.291604</td>\n",
       "      <td>0.193453</td>\n",
       "      <td>-7.656894</td>\n",
       "      <td>0.615887</td>\n",
       "      <td>0.079059</td>\n",
       "      <td>123.363494</td>\n",
       "      <td>3.893012</td>\n",
       "      <td>0.481935</td>\n",
       "    </tr>\n",
       "    <tr>\n",
       "      <th>std</th>\n",
       "      <td>22.467520</td>\n",
       "      <td>0.465427</td>\n",
       "      <td>0.305024</td>\n",
       "      <td>0.180306</td>\n",
       "      <td>1.200505e+05</td>\n",
       "      <td>0.242275</td>\n",
       "      <td>0.357327</td>\n",
       "      <td>3.547153</td>\n",
       "      <td>0.157934</td>\n",
       "      <td>4.967167</td>\n",
       "      <td>0.486409</td>\n",
       "      <td>0.069747</td>\n",
       "      <td>29.926952</td>\n",
       "      <td>0.446917</td>\n",
       "      <td>0.257653</td>\n",
       "    </tr>\n",
       "    <tr>\n",
       "      <th>min</th>\n",
       "      <td>0.000000</td>\n",
       "      <td>0.000000</td>\n",
       "      <td>0.000001</td>\n",
       "      <td>0.000000</td>\n",
       "      <td>3.500000e+03</td>\n",
       "      <td>0.000020</td>\n",
       "      <td>0.000000</td>\n",
       "      <td>0.000000</td>\n",
       "      <td>0.000000</td>\n",
       "      <td>-41.816000</td>\n",
       "      <td>0.000000</td>\n",
       "      <td>0.000000</td>\n",
       "      <td>0.000000</td>\n",
       "      <td>0.000000</td>\n",
       "      <td>0.000000</td>\n",
       "    </tr>\n",
       "    <tr>\n",
       "      <th>25%</th>\n",
       "      <td>14.000000</td>\n",
       "      <td>0.000000</td>\n",
       "      <td>0.002850</td>\n",
       "      <td>0.403000</td>\n",
       "      <td>1.950000e+05</td>\n",
       "      <td>0.588000</td>\n",
       "      <td>0.000000</td>\n",
       "      <td>2.000000</td>\n",
       "      <td>0.094500</td>\n",
       "      <td>-8.872000</td>\n",
       "      <td>0.000000</td>\n",
       "      <td>0.038500</td>\n",
       "      <td>99.968000</td>\n",
       "      <td>4.000000</td>\n",
       "      <td>0.273000</td>\n",
       "    </tr>\n",
       "    <tr>\n",
       "      <th>50%</th>\n",
       "      <td>33.000000</td>\n",
       "      <td>1.000000</td>\n",
       "      <td>0.064500</td>\n",
       "      <td>0.538000</td>\n",
       "      <td>2.300270e+05</td>\n",
       "      <td>0.770000</td>\n",
       "      <td>0.000900</td>\n",
       "      <td>5.000000</td>\n",
       "      <td>0.127000</td>\n",
       "      <td>-6.170000</td>\n",
       "      <td>1.000000</td>\n",
       "      <td>0.052800</td>\n",
       "      <td>120.592000</td>\n",
       "      <td>4.000000</td>\n",
       "      <td>0.479000</td>\n",
       "    </tr>\n",
       "    <tr>\n",
       "      <th>75%</th>\n",
       "      <td>48.000000</td>\n",
       "      <td>1.000000</td>\n",
       "      <td>0.347000</td>\n",
       "      <td>0.678000</td>\n",
       "      <td>2.865900e+05</td>\n",
       "      <td>0.896000</td>\n",
       "      <td>0.569000</td>\n",
       "      <td>8.000000</td>\n",
       "      <td>0.260000</td>\n",
       "      <td>-4.590000</td>\n",
       "      <td>1.000000</td>\n",
       "      <td>0.089800</td>\n",
       "      <td>141.938000</td>\n",
       "      <td>4.000000</td>\n",
       "      <td>0.690000</td>\n",
       "    </tr>\n",
       "    <tr>\n",
       "      <th>max</th>\n",
       "      <td>100.000000</td>\n",
       "      <td>1.000000</td>\n",
       "      <td>0.996000</td>\n",
       "      <td>0.966000</td>\n",
       "      <td>2.025224e+06</td>\n",
       "      <td>0.999000</td>\n",
       "      <td>0.995000</td>\n",
       "      <td>11.000000</td>\n",
       "      <td>0.988000</td>\n",
       "      <td>-0.528000</td>\n",
       "      <td>1.000000</td>\n",
       "      <td>0.883000</td>\n",
       "      <td>220.121000</td>\n",
       "      <td>5.000000</td>\n",
       "      <td>0.984000</td>\n",
       "    </tr>\n",
       "  </tbody>\n",
       "</table>\n",
       "</div>"
      ],
      "text/plain": [
       "        popularity         like  acousticness  danceability   duration_ms  \\\n",
       "count  9945.000000  9945.000000   9945.000000   9945.000000  9.945000e+03   \n",
       "mean     32.424937     0.682755      0.225286      0.535810  2.569605e+05   \n",
       "std      22.467520     0.465427      0.305024      0.180306  1.200505e+05   \n",
       "min       0.000000     0.000000      0.000001      0.000000  3.500000e+03   \n",
       "25%      14.000000     0.000000      0.002850      0.403000  1.950000e+05   \n",
       "50%      33.000000     1.000000      0.064500      0.538000  2.300270e+05   \n",
       "75%      48.000000     1.000000      0.347000      0.678000  2.865900e+05   \n",
       "max     100.000000     1.000000      0.996000      0.966000  2.025224e+06   \n",
       "\n",
       "            energy  instrumentalness          key     liveness     loudness  \\\n",
       "count  9945.000000       9945.000000  9945.000000  9945.000000  9945.000000   \n",
       "mean      0.706409          0.240350     5.291604     0.193453    -7.656894   \n",
       "std       0.242275          0.357327     3.547153     0.157934     4.967167   \n",
       "min       0.000020          0.000000     0.000000     0.000000   -41.816000   \n",
       "25%       0.588000          0.000000     2.000000     0.094500    -8.872000   \n",
       "50%       0.770000          0.000900     5.000000     0.127000    -6.170000   \n",
       "75%       0.896000          0.569000     8.000000     0.260000    -4.590000   \n",
       "max       0.999000          0.995000    11.000000     0.988000    -0.528000   \n",
       "\n",
       "              mode  speechiness        tempo  time_signature      valence  \n",
       "count  9945.000000  9945.000000  9945.000000     9945.000000  9945.000000  \n",
       "mean      0.615887     0.079059   123.363494        3.893012     0.481935  \n",
       "std       0.486409     0.069747    29.926952        0.446917     0.257653  \n",
       "min       0.000000     0.000000     0.000000        0.000000     0.000000  \n",
       "25%       0.000000     0.038500    99.968000        4.000000     0.273000  \n",
       "50%       1.000000     0.052800   120.592000        4.000000     0.479000  \n",
       "75%       1.000000     0.089800   141.938000        4.000000     0.690000  \n",
       "max       1.000000     0.883000   220.121000        5.000000     0.984000  "
      ]
     },
     "execution_count": 8,
     "metadata": {},
     "output_type": "execute_result"
    }
   ],
   "source": [
    "all_tracks.describe()"
   ]
  },
  {
   "cell_type": "code",
   "execution_count": 9,
   "metadata": {
    "scrolled": true
   },
   "outputs": [
    {
     "data": {
      "text/plain": [
       "False"
      ]
     },
     "execution_count": 9,
     "metadata": {},
     "output_type": "execute_result"
    }
   ],
   "source": [
    "# Check if there are NaNs in the dataframe\n",
    "all_tracks.isna().sum().any()"
   ]
  },
  {
   "cell_type": "code",
   "execution_count": 10,
   "metadata": {
    "scrolled": false
   },
   "outputs": [
    {
     "data": {
      "text/plain": [
       "artist_name          object\n",
       "track_name           object\n",
       "track_id             object\n",
       "popularity            int64\n",
       "like                  int64\n",
       "acousticness        float64\n",
       "danceability        float64\n",
       "duration_ms           int64\n",
       "energy              float64\n",
       "instrumentalness    float64\n",
       "key                   int64\n",
       "liveness            float64\n",
       "loudness            float64\n",
       "mode                  int64\n",
       "speechiness         float64\n",
       "tempo               float64\n",
       "time_signature        int64\n",
       "valence             float64\n",
       "dtype: object"
      ]
     },
     "execution_count": 10,
     "metadata": {},
     "output_type": "execute_result"
    }
   ],
   "source": [
    "# Check that all datatypes are correct\n",
    "all_tracks.dtypes"
   ]
  },
  {
   "cell_type": "markdown",
   "metadata": {},
   "source": [
    "### Data visualization"
   ]
  },
  {
   "cell_type": "code",
   "execution_count": 13,
   "metadata": {
    "scrolled": false
   },
   "outputs": [
    {
     "data": {
      "text/plain": [
       "<matplotlib.legend.Legend at 0x2389673edd8>"
      ]
     },
     "execution_count": 13,
     "metadata": {},
     "output_type": "execute_result"
    },
    {
     "data": {
      "image/png": "[encoded data removed]",
      "text/plain": [
       "<Figure size 864x864 with 16 Axes>"
      ]
     },
     "metadata": {
      "needs_background": "light"
     },
     "output_type": "display_data"
    }
   ],
   "source": [
    "# Create plots for every feature distinguishing between liked and disliked songs\n",
    "\n",
    "f, ax = plt.subplots(4,4,figsize=(12,12))\n",
    "\n",
    "cols = [col for col in all_tracks.columns][4:]\n",
    "\n",
    "plt.subplots_adjust(wspace=0.4,hspace=0.4)\n",
    "\n",
    "i = 0\n",
    "for row in ax:\n",
    "    for col in row:\n",
    "        if i == 14:\n",
    "            break\n",
    "        else:\n",
    "            sns.distplot(all_tracks[all_tracks['like']==1][cols[i]],hist=False,kde_kws={\"shade\": True},ax=col,color='blue')\n",
    "            sns.distplot(all_tracks[all_tracks['like']==0][cols[i]],hist=False,kde_kws={\"shade\": True},ax=col,color='green')\n",
    "            i += 1\n",
    "\n",
    "ax[0][3].legend(['liked','disliked'],bbox_to_anchor=(1.05, 1), loc=2)"
   ]
  },
  {
   "cell_type": "code",
   "execution_count": 14,
   "metadata": {},
   "outputs": [],
   "source": [
    "# OBSERVATIONS\n",
    "\n",
    "# In general terms, the songs that I liked are less popular, less danceable, and less happy than the ones that I disliked.\n",
    "# Therefore, it might be that these features are more determining in the classification algorithm\n",
    "# The rest of the features don't seem to be really different, on average, between liked and disliked songs."
   ]
  },
  {
   "cell_type": "code",
   "execution_count": 15,
   "metadata": {
    "scrolled": false
   },
   "outputs": [
    {
     "data": {
      "text/plain": [
       "<matplotlib.axes._subplots.AxesSubplot at 0x23896c607b8>"
      ]
     },
     "execution_count": 15,
     "metadata": {},
     "output_type": "execute_result"
    },
    {
     "data": {
      "image/png": "[encoded data removed]",
      "text/plain": [
       "<Figure size 720x720 with 2 Axes>"
      ]
     },
     "metadata": {
      "needs_background": "light"
     },
     "output_type": "display_data"
    }
   ],
   "source": [
    "plt.figure(figsize=(10,10))\n",
    "sns.heatmap(round(all_tracks.corr(),2),annot=True)"
   ]
  },
  {
   "cell_type": "code",
   "execution_count": 18,
   "metadata": {},
   "outputs": [],
   "source": [
    "# OBSERVATIONS\n",
    "\n",
    "# The correlation matrix confirms what is observed with the distplots: the like ratio seems presents a slightly negative\n",
    "# correlation with popularity and danceabilty, and slightly positive with instrumentalness.\n",
    "\n",
    "# As for the relationships among song features, there is a clear negative correlation between acousticness and energy\n",
    "# and loudness (which are correlated with each other)\n",
    "# In addition, danceability seems to be moderately correlated with valence."
   ]
  },
  {
   "cell_type": "markdown",
   "metadata": {},
   "source": [
    "### Statistical analysis"
   ]
  },
  {
   "cell_type": "code",
   "execution_count": 18,
   "metadata": {},
   "outputs": [],
   "source": [
    "from scipy import stats"
   ]
  },
  {
   "cell_type": "code",
   "execution_count": 55,
   "metadata": {},
   "outputs": [],
   "source": [
    "def features_tests(df, features):\n",
    "    \n",
    "    for feature in features:\n",
    "        \n",
    "        liked = df[df['like']==1][feature]\n",
    "        disliked = df[df['like']==0][feature]\n",
    "        \n",
    "        print(f'{feature} of liked songs: {round(np.mean(liked),2)} +- {round(np.std(liked),2)}')\n",
    "        print(f'{feature} of disliked songs: {round(np.mean(disliked),2)} +- {round(np.std(disliked),2)}')\n",
    "        \n",
    "        test = stats.ttest_ind(liked, disliked, equal_var=False)\n",
    "\n",
    "        print(f'Test statistic: {round(test[0],2)}, p-value: {test[1]}')\n",
    "\n",
    "        print('-' * 40)"
   ]
  },
  {
   "cell_type": "code",
   "execution_count": 56,
   "metadata": {
    "scrolled": false
   },
   "outputs": [
    {
     "name": "stdout",
     "output_type": "stream",
     "text": [
      "popularity of liked songs: 26.63 +- 20.4\n",
      "popularity of disliked songs: 44.9 +- 21.62\n",
      "Test statistic: -39.91, p-value: 3.6012708881178354e-308\n",
      "----------------------------------------\n",
      "acousticness of liked songs: 0.22 +- 0.33\n",
      "acousticness of disliked songs: 0.25 +- 0.24\n",
      "Test statistic: -5.35, p-value: 9.20924000632205e-08\n",
      "----------------------------------------\n",
      "danceability of liked songs: 0.49 +- 0.16\n",
      "danceability of disliked songs: 0.64 +- 0.17\n",
      "Test statistic: -43.31, p-value: 0.0\n",
      "----------------------------------------\n",
      "duration_ms of liked songs: 270910.31 +- 138064.89\n",
      "duration_ms of disliked songs: 226938.53 +- 55501.78\n",
      "Test statistic: 22.6, p-value: 2.5954694817748572e-110\n",
      "----------------------------------------\n",
      "energy of liked songs: 0.7 +- 0.27\n",
      "energy of disliked songs: 0.72 +- 0.17\n",
      "Test statistic: -2.85, p-value: 0.004366459912077377\n",
      "----------------------------------------\n",
      "instrumentalness of liked songs: 0.33 +- 0.38\n",
      "instrumentalness of disliked songs: 0.06 +- 0.19\n",
      "Test statistic: 46.74, p-value: 0.0\n",
      "----------------------------------------\n",
      "key of liked songs: 5.24 +- 3.53\n",
      "key of disliked songs: 5.4 +- 3.58\n",
      "Test statistic: -2.07, p-value: 0.03877368656935598\n",
      "----------------------------------------\n",
      "liveness of liked songs: 0.2 +- 0.16\n",
      "liveness of disliked songs: 0.19 +- 0.15\n",
      "Test statistic: 3.56, p-value: 0.00037748857515801875\n",
      "----------------------------------------\n",
      "loudness of liked songs: -8.32 +- 5.62\n",
      "loudness of disliked songs: -6.22 +- 2.61\n",
      "Test statistic: -25.44, p-value: 2.0349491800175768e-138\n",
      "----------------------------------------\n",
      "mode of liked songs: 0.64 +- 0.48\n",
      "mode of disliked songs: 0.56 +- 0.5\n",
      "Test statistic: 7.29, p-value: 3.5061111354122566e-13\n",
      "----------------------------------------\n",
      "speechiness of liked songs: 0.07 +- 0.06\n",
      "speechiness of disliked songs: 0.1 +- 0.08\n",
      "Test statistic: -15.03, p-value: 6.35400069535357e-50\n",
      "----------------------------------------\n",
      "tempo of liked songs: 124.0 +- 29.51\n",
      "tempo of disliked songs: 121.99 +- 30.75\n",
      "Test statistic: 3.08, p-value: 0.0020620507621687905\n",
      "----------------------------------------\n",
      "time_signature of liked songs: 3.87 +- 0.48\n",
      "time_signature of disliked songs: 3.94 +- 0.36\n",
      "Test statistic: -7.11, p-value: 1.2502477695746746e-12\n",
      "----------------------------------------\n",
      "valence of liked songs: 0.44 +- 0.25\n",
      "valence of disliked songs: 0.57 +- 0.26\n",
      "Test statistic: -22.53, p-value: 6.612407715781147e-108\n",
      "----------------------------------------\n"
     ]
    }
   ],
   "source": [
    "features_tests(all_tracks, features)"
   ]
  },
  {
   "cell_type": "code",
   "execution_count": 57,
   "metadata": {},
   "outputs": [],
   "source": [
    "# There is a significant difference between liked and disliked songs for all the parameters:\n",
    "# the songs that I liked are less popular, less danceable, longer, more instrumental, less loud, and sadder."
   ]
  },
  {
   "cell_type": "markdown",
   "metadata": {},
   "source": [
    "### Data pre-processing"
   ]
  },
  {
   "cell_type": "code",
   "execution_count": 12,
   "metadata": {},
   "outputs": [],
   "source": [
    "def scaling(df):\n",
    "    '''Returns a dataframe with scaled features.\n",
    "       \n",
    "    Input:\n",
    "    --------------\n",
    "    df (df): dataframe without all features scaled\n",
    "    \n",
    "    Returns:\n",
    "    --------------\n",
    "    df (df): dataframe with all features scaled\n",
    "    '''\n",
    "    \n",
    "    columns_to_normalize = ['popularity','duration_ms','loudness','tempo','key','time_signature']\n",
    "    \n",
    "    for col in columns_to_normalize:\n",
    "        x = df[col].values.reshape(-1,1)\n",
    "        minmaxscaler = MinMaxScaler()\n",
    "        x_scaled = minmaxscaler.fit_transform(x)\n",
    "        df[col] = pd.DataFrame(x_scaled)\n",
    "    \n",
    "    return df.dropna()"
   ]
  },
  {
   "cell_type": "code",
   "execution_count": 13,
   "metadata": {},
   "outputs": [],
   "source": [
    "all_tracks = scaling(all_tracks)"
   ]
  },
  {
   "cell_type": "code",
   "execution_count": 28,
   "metadata": {},
   "outputs": [
    {
     "data": {
      "text/plain": [
       "(9940, 18)"
      ]
     },
     "execution_count": 28,
     "metadata": {},
     "output_type": "execute_result"
    }
   ],
   "source": [
    "all_tracks.shape"
   ]
  },
  {
   "cell_type": "code",
   "execution_count": 21,
   "metadata": {
    "scrolled": true
   },
   "outputs": [
    {
     "data": {
      "text/html": [
       "<div>\n",
       "<style scoped>\n",
       "    .dataframe tbody tr th:only-of-type {\n",
       "        vertical-align: middle;\n",
       "    }\n",
       "\n",
       "    .dataframe tbody tr th {\n",
       "        vertical-align: top;\n",
       "    }\n",
       "\n",
       "    .dataframe thead th {\n",
       "        text-align: right;\n",
       "    }\n",
       "</style>\n",
       "<table border=\"1\" class=\"dataframe\">\n",
       "  <thead>\n",
       "    <tr style=\"text-align: right;\">\n",
       "      <th></th>\n",
       "      <th>artist_name</th>\n",
       "      <th>track_name</th>\n",
       "      <th>track_id</th>\n",
       "      <th>like</th>\n",
       "      <th>popularity</th>\n",
       "      <th>acousticness</th>\n",
       "      <th>danceability</th>\n",
       "      <th>duration_ms</th>\n",
       "      <th>energy</th>\n",
       "      <th>instrumentalness</th>\n",
       "      <th>key</th>\n",
       "      <th>liveness</th>\n",
       "      <th>loudness</th>\n",
       "      <th>mode</th>\n",
       "      <th>speechiness</th>\n",
       "      <th>tempo</th>\n",
       "      <th>time_signature</th>\n",
       "      <th>valence</th>\n",
       "    </tr>\n",
       "  </thead>\n",
       "  <tbody>\n",
       "    <tr>\n",
       "      <th>0</th>\n",
       "      <td>Kyle Landry</td>\n",
       "      <td>Howl's Moving Castle Theme</td>\n",
       "      <td>3JTjiMAPVMfwjzPiG5R3hK</td>\n",
       "      <td>1</td>\n",
       "      <td>0.53</td>\n",
       "      <td>0.940</td>\n",
       "      <td>0.322</td>\n",
       "      <td>0.171561</td>\n",
       "      <td>0.1440</td>\n",
       "      <td>0.917</td>\n",
       "      <td>0.636364</td>\n",
       "      <td>0.0744</td>\n",
       "      <td>0.590196</td>\n",
       "      <td>0</td>\n",
       "      <td>0.0384</td>\n",
       "      <td>0.648816</td>\n",
       "      <td>0.6</td>\n",
       "      <td>0.0471</td>\n",
       "    </tr>\n",
       "    <tr>\n",
       "      <th>1</th>\n",
       "      <td>Kyle Landry</td>\n",
       "      <td>Shigatsu - Otouto Mitai Na Sonzai Piano</td>\n",
       "      <td>5tr1bCo0XRU3ZciXahlTKm</td>\n",
       "      <td>1</td>\n",
       "      <td>0.46</td>\n",
       "      <td>0.967</td>\n",
       "      <td>0.368</td>\n",
       "      <td>0.147812</td>\n",
       "      <td>0.1240</td>\n",
       "      <td>0.803</td>\n",
       "      <td>0.272727</td>\n",
       "      <td>0.1820</td>\n",
       "      <td>0.483555</td>\n",
       "      <td>1</td>\n",
       "      <td>0.0513</td>\n",
       "      <td>0.631062</td>\n",
       "      <td>0.8</td>\n",
       "      <td>0.1040</td>\n",
       "    </tr>\n",
       "    <tr>\n",
       "      <th>2</th>\n",
       "      <td>Kyle Landry</td>\n",
       "      <td>Passion (From \"Kingdom Hearts II\") [Piano Solo]</td>\n",
       "      <td>2xFBrGSZ4mSURd8p5IU4ed</td>\n",
       "      <td>1</td>\n",
       "      <td>0.47</td>\n",
       "      <td>0.964</td>\n",
       "      <td>0.406</td>\n",
       "      <td>0.134121</td>\n",
       "      <td>0.1300</td>\n",
       "      <td>0.870</td>\n",
       "      <td>0.090909</td>\n",
       "      <td>0.0964</td>\n",
       "      <td>0.520636</td>\n",
       "      <td>0</td>\n",
       "      <td>0.0515</td>\n",
       "      <td>0.527006</td>\n",
       "      <td>0.8</td>\n",
       "      <td>0.0975</td>\n",
       "    </tr>\n",
       "    <tr>\n",
       "      <th>3</th>\n",
       "      <td>Kyle Landry</td>\n",
       "      <td>Dango Daikazoku</td>\n",
       "      <td>7c6mInVLlpnaYD55R72FDX</td>\n",
       "      <td>1</td>\n",
       "      <td>0.44</td>\n",
       "      <td>0.976</td>\n",
       "      <td>0.384</td>\n",
       "      <td>0.152085</td>\n",
       "      <td>0.0400</td>\n",
       "      <td>0.896</td>\n",
       "      <td>0.727273</td>\n",
       "      <td>0.0943</td>\n",
       "      <td>0.443034</td>\n",
       "      <td>1</td>\n",
       "      <td>0.0357</td>\n",
       "      <td>0.435460</td>\n",
       "      <td>0.8</td>\n",
       "      <td>0.1000</td>\n",
       "    </tr>\n",
       "    <tr>\n",
       "      <th>4</th>\n",
       "      <td>Kyle Landry</td>\n",
       "      <td>Interstellar - First Step</td>\n",
       "      <td>0kznmyiS92b9v1rkn9WDqV</td>\n",
       "      <td>1</td>\n",
       "      <td>0.40</td>\n",
       "      <td>0.961</td>\n",
       "      <td>0.232</td>\n",
       "      <td>0.249847</td>\n",
       "      <td>0.0651</td>\n",
       "      <td>0.930</td>\n",
       "      <td>0.818182</td>\n",
       "      <td>0.0607</td>\n",
       "      <td>0.483191</td>\n",
       "      <td>0</td>\n",
       "      <td>0.0387</td>\n",
       "      <td>0.339586</td>\n",
       "      <td>0.6</td>\n",
       "      <td>0.0372</td>\n",
       "    </tr>\n",
       "  </tbody>\n",
       "</table>\n",
       "</div>"
      ],
      "text/plain": [
       "   artist_name                                       track_name  \\\n",
       "0  Kyle Landry                       Howl's Moving Castle Theme   \n",
       "1  Kyle Landry          Shigatsu - Otouto Mitai Na Sonzai Piano   \n",
       "2  Kyle Landry  Passion (From \"Kingdom Hearts II\") [Piano Solo]   \n",
       "3  Kyle Landry                                  Dango Daikazoku   \n",
       "4  Kyle Landry                        Interstellar - First Step   \n",
       "\n",
       "                 track_id  like  popularity  acousticness  danceability  \\\n",
       "0  3JTjiMAPVMfwjzPiG5R3hK     1        0.53         0.940         0.322   \n",
       "1  5tr1bCo0XRU3ZciXahlTKm     1        0.46         0.967         0.368   \n",
       "2  2xFBrGSZ4mSURd8p5IU4ed     1        0.47         0.964         0.406   \n",
       "3  7c6mInVLlpnaYD55R72FDX     1        0.44         0.976         0.384   \n",
       "4  0kznmyiS92b9v1rkn9WDqV     1        0.40         0.961         0.232   \n",
       "\n",
       "   duration_ms  energy  instrumentalness       key  liveness  loudness  mode  \\\n",
       "0     0.171561  0.1440             0.917  0.636364    0.0744  0.590196     0   \n",
       "1     0.147812  0.1240             0.803  0.272727    0.1820  0.483555     1   \n",
       "2     0.134121  0.1300             0.870  0.090909    0.0964  0.520636     0   \n",
       "3     0.152085  0.0400             0.896  0.727273    0.0943  0.443034     1   \n",
       "4     0.249847  0.0651             0.930  0.818182    0.0607  0.483191     0   \n",
       "\n",
       "   speechiness     tempo  time_signature  valence  \n",
       "0       0.0384  0.648816             0.6   0.0471  \n",
       "1       0.0513  0.631062             0.8   0.1040  \n",
       "2       0.0515  0.527006             0.8   0.0975  \n",
       "3       0.0357  0.435460             0.8   0.1000  \n",
       "4       0.0387  0.339586             0.6   0.0372  "
      ]
     },
     "execution_count": 21,
     "metadata": {},
     "output_type": "execute_result"
    }
   ],
   "source": [
    "all_tracks.head()"
   ]
  },
  {
   "cell_type": "code",
   "execution_count": 14,
   "metadata": {},
   "outputs": [],
   "source": [
    "def under_sample(df):\n",
    "    '''Applies under-sampling to a dataframe with imbalanced classes (class 0 << class 1)\n",
    "    \n",
    "    Input:\n",
    "    --------------\n",
    "    df: dataframe with imbalanced classes \n",
    "    \n",
    "    Returns:\n",
    "    --------------\n",
    "    df: dataframe with balanced classes\n",
    "    '''\n",
    "    \n",
    "    df_class_0 = df[df['like']==0]\n",
    "    df_class_1 = df[df['like']==1]\n",
    "    \n",
    "    df_class_1_under = df_class_1.sample(df_class_0.shape[0])\n",
    "    \n",
    "    df_under = pd.concat([df_class_0,df_class_1_under],axis=0)\n",
    "    \n",
    "    return df_under"
   ]
  },
  {
   "cell_type": "code",
   "execution_count": 15,
   "metadata": {},
   "outputs": [],
   "source": [
    "all_under = under_sample(all_tracks)"
   ]
  },
  {
   "cell_type": "code",
   "execution_count": 26,
   "metadata": {},
   "outputs": [
    {
     "data": {
      "text/plain": [
       "(6300, 18)"
      ]
     },
     "execution_count": 26,
     "metadata": {},
     "output_type": "execute_result"
    }
   ],
   "source": [
    "all_under.shape"
   ]
  },
  {
   "cell_type": "code",
   "execution_count": 16,
   "metadata": {},
   "outputs": [],
   "source": [
    "def over_sample(df):\n",
    "    '''Applies over-sampling to a dataframe with imbalanced classes (class 0 << class 1)\n",
    "    \n",
    "    Input:\n",
    "    --------------\n",
    "    df: dataframe with imbalanced classes \n",
    "    \n",
    "    Returns:\n",
    "    --------------\n",
    "    df: dataframe with balanced classes\n",
    "    '''\n",
    "    \n",
    "    df_class_0 = df[df['like']==0]\n",
    "    df_class_1 = df[df['like']==1]\n",
    "    \n",
    "    df_class_0_over = df_class_0.sample(df_class_1.shape[0],replace=True)\n",
    "    \n",
    "    df_over = pd.concat([df_class_0_over,df_class_1],axis=0)\n",
    "    \n",
    "    return df_over"
   ]
  },
  {
   "cell_type": "code",
   "execution_count": 17,
   "metadata": {},
   "outputs": [],
   "source": [
    "all_over = over_sample(all_tracks)"
   ]
  },
  {
   "cell_type": "code",
   "execution_count": 31,
   "metadata": {},
   "outputs": [
    {
     "data": {
      "text/plain": [
       "(13580, 18)"
      ]
     },
     "execution_count": 31,
     "metadata": {},
     "output_type": "execute_result"
    }
   ],
   "source": [
    "all_over.shape"
   ]
  },
  {
   "cell_type": "markdown",
   "metadata": {},
   "source": [
    "# Machine learning"
   ]
  },
  {
   "cell_type": "markdown",
   "metadata": {},
   "source": [
    "### Overview of classification models performance with cross-validation"
   ]
  },
  {
   "cell_type": "code",
   "execution_count": 71,
   "metadata": {
    "scrolled": false
   },
   "outputs": [],
   "source": [
    "def cross_validation(X,y,n):\n",
    "    '''Runs cross-validation on five classification models and prints the results (mean and standard deviation).\n",
    "    \n",
    "    Input:\n",
    "    --------------\n",
    "    X: dataframe of features\n",
    "    y: target\n",
    "    n: number of splits in cross-validation\n",
    "    '''\n",
    "    \n",
    "    cv_log = cross_val_score(LogisticRegression(),X,y,cv=n)\n",
    "    cv_svc = cross_val_score(SVC(),X,y,cv=n)\n",
    "    cv_knn = cross_val_score(KNeighborsClassifier(),X,y,cv=n)\n",
    "    cv_tree = cross_val_score(DecisionTreeClassifier(),X,y,cv=n)\n",
    "    cv_forest = cross_val_score(RandomForestClassifier(),X,y,cv=n)\n",
    "    \n",
    "    print('Logistic regression --> Mean:', round(np.mean(cv_log),2), '/ Std.:', round(np.std(cv_log),2))\n",
    "    print('SVC --> Mean:', round(np.mean(cv_svc),2), '/ Std.:', round(np.std(cv_svc),2))\n",
    "    print('KNN --> Mean:', round(np.mean(cv_knn),2), '/ Std.:', round(np.std(cv_knn),2))\n",
    "    print('Decision tree --> Mean:', round(np.mean(cv_tree),2), '/ Std.:', round(np.std(cv_tree),2))\n",
    "    print('Random forest --> Mean:', round(np.mean(cv_forest),2), '/ Std.:', round(np.std(cv_forest),2))"
   ]
  },
  {
   "cell_type": "markdown",
   "metadata": {},
   "source": [
    "#### With no re-sampling strategies"
   ]
  },
  {
   "cell_type": "code",
   "execution_count": 46,
   "metadata": {},
   "outputs": [],
   "source": [
    "# NOTE: when cross_val_score is used, with integer/None inputs, if the estimator is a classifier and y is either \n",
    "# binary or multiclass, StratifiedKFold is used. Otherwise, Kfolds is used."
   ]
  },
  {
   "cell_type": "code",
   "execution_count": 51,
   "metadata": {},
   "outputs": [
    {
     "name": "stdout",
     "output_type": "stream",
     "text": [
      "Logistic regression --> Mean: 0.79 / Std.: 0.1\n",
      "SVC --> Mean: 0.81 / Std.: 0.09\n",
      "KNN --> Mean: 0.8 / Std.: 0.07\n",
      "Decision tree --> Mean: 0.78 / Std.: 0.06\n",
      "Random forest --> Mean: 0.83 / Std.: 0.07\n"
     ]
    }
   ],
   "source": [
    "X = all_tracks[features]\n",
    "y = all_tracks['like']\n",
    "cross_validation(X,y,10)"
   ]
  },
  {
   "cell_type": "markdown",
   "metadata": {},
   "source": [
    "#### *** Previous results without scaling features. Scaling has significantly improved SVC, KNN and Log. Reg., but not the decision tree and random forest\n",
    "\n",
    "- Logistic regression:  0.7152171319373528***\n",
    "- SVC:  0.6827553259254018***\n",
    "- KNN:  0.6430331739178792***\n",
    "- Decision tree:  0.7841013922732374***\n",
    "- Random forest:  0.8313569861379332***"
   ]
  },
  {
   "cell_type": "code",
   "execution_count": 30,
   "metadata": {},
   "outputs": [],
   "source": [
    "# Conclusions:\n",
    "\n",
    "# With the default parameters, the Random Forest has the best performance"
   ]
  },
  {
   "cell_type": "markdown",
   "metadata": {},
   "source": [
    "#### With under-sampling"
   ]
  },
  {
   "cell_type": "code",
   "execution_count": 53,
   "metadata": {},
   "outputs": [
    {
     "name": "stdout",
     "output_type": "stream",
     "text": [
      "Logistic regression --> Mean: 0.77 / Std.: 0.1\n",
      "SVC --> Mean: 0.8 / Std.: 0.11\n",
      "KNN --> Mean: 0.79 / Std.: 0.1\n",
      "Decision tree --> Mean: 0.77 / Std.: 0.07\n",
      "Random forest --> Mean: 0.83 / Std.: 0.1\n"
     ]
    }
   ],
   "source": [
    "X = all_under[features]\n",
    "y = all_under['like']\n",
    "cross_validation(X,y,10)"
   ]
  },
  {
   "cell_type": "code",
   "execution_count": 54,
   "metadata": {},
   "outputs": [],
   "source": [
    "# The results are very similar as when no re-sampling was performed"
   ]
  },
  {
   "cell_type": "markdown",
   "metadata": {},
   "source": [
    "#### With over-sampling"
   ]
  },
  {
   "cell_type": "code",
   "execution_count": 56,
   "metadata": {},
   "outputs": [
    {
     "name": "stdout",
     "output_type": "stream",
     "text": [
      "Logistic regression --> Mean: 0.78 / Std.: 0.05\n",
      "SVC --> Mean: 0.81 / Std.: 0.04\n",
      "KNN --> Mean: 0.84 / Std.: 0.03\n",
      "Decision tree --> Mean: 0.89 / Std.: 0.02\n",
      "Random forest --> Mean: 0.91 / Std.: 0.03\n"
     ]
    }
   ],
   "source": [
    "X = all_over[features]\n",
    "y = all_over['like']\n",
    "cross_validation(X,y,5)"
   ]
  },
  {
   "cell_type": "code",
   "execution_count": 82,
   "metadata": {},
   "outputs": [],
   "source": [
    "# The results with over-sampling improve significantly for the decision tree and random forest"
   ]
  },
  {
   "cell_type": "markdown",
   "metadata": {},
   "source": [
    "### Check random forest without cross-validation and different sampling strategies"
   ]
  },
  {
   "cell_type": "markdown",
   "metadata": {},
   "source": [
    "#### Without re-sampling"
   ]
  },
  {
   "cell_type": "code",
   "execution_count": 58,
   "metadata": {},
   "outputs": [],
   "source": [
    "X = all_tracks[features]\n",
    "y = all_tracks['like']\n",
    "X_train, X_test, y_train, y_test = train_test_split(X, y, test_size=0.3, random_state=42)"
   ]
  },
  {
   "cell_type": "code",
   "execution_count": 59,
   "metadata": {},
   "outputs": [],
   "source": [
    "rfc = RandomForestClassifier()"
   ]
  },
  {
   "cell_type": "code",
   "execution_count": 60,
   "metadata": {},
   "outputs": [
    {
     "data": {
      "text/plain": [
       "RandomForestClassifier(bootstrap=True, class_weight=None, criterion='gini',\n",
       "            max_depth=None, max_features='auto', max_leaf_nodes=None,\n",
       "            min_impurity_decrease=0.0, min_impurity_split=None,\n",
       "            min_samples_leaf=1, min_samples_split=2,\n",
       "            min_weight_fraction_leaf=0.0, n_estimators=10, n_jobs=None,\n",
       "            oob_score=False, random_state=None, verbose=0,\n",
       "            warm_start=False)"
      ]
     },
     "execution_count": 60,
     "metadata": {},
     "output_type": "execute_result"
    }
   ],
   "source": [
    "rfc.fit(X_train,y_train)"
   ]
  },
  {
   "cell_type": "code",
   "execution_count": 61,
   "metadata": {},
   "outputs": [],
   "source": [
    "y_pred = rfc.predict(X_test)"
   ]
  },
  {
   "cell_type": "code",
   "execution_count": 62,
   "metadata": {},
   "outputs": [
    {
     "data": {
      "text/plain": [
       "0.8658618376928237"
      ]
     },
     "execution_count": 62,
     "metadata": {},
     "output_type": "execute_result"
    }
   ],
   "source": [
    "accuracy_score(y_test,y_pred)"
   ]
  },
  {
   "cell_type": "code",
   "execution_count": 63,
   "metadata": {
    "scrolled": true
   },
   "outputs": [
    {
     "data": {
      "text/plain": [
       "array([[ 751,  183],\n",
       "       [ 217, 1831]], dtype=int64)"
      ]
     },
     "execution_count": 63,
     "metadata": {},
     "output_type": "execute_result"
    }
   ],
   "source": [
    "confusion_matrix(y_test,y_pred)"
   ]
  },
  {
   "cell_type": "markdown",
   "metadata": {},
   "source": [
    "#### With under-sampling"
   ]
  },
  {
   "cell_type": "code",
   "execution_count": 68,
   "metadata": {},
   "outputs": [],
   "source": [
    "X = all_under[features]\n",
    "y = all_under['like']\n",
    "X_train, X_test, y_train, y_test = train_test_split(X, y, test_size=0.3, random_state=42)"
   ]
  },
  {
   "cell_type": "code",
   "execution_count": 69,
   "metadata": {},
   "outputs": [],
   "source": [
    "rfc = RandomForestClassifier()"
   ]
  },
  {
   "cell_type": "code",
   "execution_count": 70,
   "metadata": {},
   "outputs": [
    {
     "data": {
      "text/plain": [
       "RandomForestClassifier(bootstrap=True, class_weight=None, criterion='gini',\n",
       "            max_depth=None, max_features='auto', max_leaf_nodes=None,\n",
       "            min_impurity_decrease=0.0, min_impurity_split=None,\n",
       "            min_samples_leaf=1, min_samples_split=2,\n",
       "            min_weight_fraction_leaf=0.0, n_estimators=10, n_jobs=None,\n",
       "            oob_score=False, random_state=None, verbose=0,\n",
       "            warm_start=False)"
      ]
     },
     "execution_count": 70,
     "metadata": {},
     "output_type": "execute_result"
    }
   ],
   "source": [
    "rfc.fit(X_train,y_train)"
   ]
  },
  {
   "cell_type": "code",
   "execution_count": 71,
   "metadata": {},
   "outputs": [],
   "source": [
    "y_pred = rfc.predict(X_test)"
   ]
  },
  {
   "cell_type": "code",
   "execution_count": 72,
   "metadata": {},
   "outputs": [
    {
     "data": {
      "text/plain": [
       "0.855026455026455"
      ]
     },
     "execution_count": 72,
     "metadata": {},
     "output_type": "execute_result"
    }
   ],
   "source": [
    "accuracy_score(y_test,y_pred)"
   ]
  },
  {
   "cell_type": "code",
   "execution_count": 73,
   "metadata": {},
   "outputs": [
    {
     "data": {
      "text/plain": [
       "array([[845, 114],\n",
       "       [160, 771]], dtype=int64)"
      ]
     },
     "execution_count": 73,
     "metadata": {},
     "output_type": "execute_result"
    }
   ],
   "source": [
    "confusion_matrix(y_test,y_pred)"
   ]
  },
  {
   "cell_type": "markdown",
   "metadata": {},
   "source": [
    "#### With over-sampling"
   ]
  },
  {
   "cell_type": "code",
   "execution_count": 74,
   "metadata": {},
   "outputs": [],
   "source": [
    "X = all_over[features]\n",
    "y = all_over['like']\n",
    "X_train, X_test, y_train, y_test = train_test_split(X, y, test_size=0.3, random_state=42)"
   ]
  },
  {
   "cell_type": "code",
   "execution_count": 75,
   "metadata": {},
   "outputs": [],
   "source": [
    "rfc = RandomForestClassifier()\n",
    "rfc.fit(X_train,y_train)\n",
    "y_pred = rfc.predict(X_test)"
   ]
  },
  {
   "cell_type": "code",
   "execution_count": 76,
   "metadata": {},
   "outputs": [
    {
     "data": {
      "text/plain": [
       "0.9258713794796269"
      ]
     },
     "execution_count": 76,
     "metadata": {},
     "output_type": "execute_result"
    }
   ],
   "source": [
    "accuracy_score(y_test,y_pred)"
   ]
  },
  {
   "cell_type": "code",
   "execution_count": 77,
   "metadata": {},
   "outputs": [
    {
     "data": {
      "text/plain": [
       "array([[1976,   72],\n",
       "       [ 230, 1796]], dtype=int64)"
      ]
     },
     "execution_count": 77,
     "metadata": {},
     "output_type": "execute_result"
    }
   ],
   "source": [
    "confusion_matrix(y_test,y_pred)"
   ]
  },
  {
   "cell_type": "code",
   "execution_count": 79,
   "metadata": {
    "scrolled": true
   },
   "outputs": [
    {
     "name": "stdout",
     "output_type": "stream",
     "text": [
      "              precision    recall  f1-score   support\n",
      "\n",
      "           0       0.90      0.96      0.93      2048\n",
      "           1       0.96      0.89      0.92      2026\n",
      "\n",
      "   micro avg       0.93      0.93      0.93      4074\n",
      "   macro avg       0.93      0.93      0.93      4074\n",
      "weighted avg       0.93      0.93      0.93      4074\n",
      "\n"
     ]
    }
   ],
   "source": [
    "print(classification_report(y_test,y_pred))"
   ]
  },
  {
   "cell_type": "code",
   "execution_count": 80,
   "metadata": {},
   "outputs": [],
   "source": [
    "# Notes:\n",
    "\n",
    "# Precision: TP / (TP + FP) \n",
    "    # For class 0: 1976 / (1976+230) = 0.90\n",
    "    # For class 1: 1796 / (1796 + 72) = 0.96\n",
    "    \n",
    "# Recall/sensitivity: TP/ (TP + FN)\n",
    "    # For class 0: 1976 / (1976 + 72) = 0.96\n",
    "    # For class 1: 1796 / (1796 + 230) = 0.89"
   ]
  },
  {
   "cell_type": "code",
   "execution_count": 81,
   "metadata": {},
   "outputs": [],
   "source": [
    "# Conclusions\n",
    "\n",
    "# The model classifies performs pretty well, classifying over 90% of songs correctly.\n",
    "\n",
    "# For disliked songs, the precision is slightly lower, and around 90% of the songs are classified correctly.\n",
    "# For liked song, the precision is much better: 96% of the songs are classified as liked."
   ]
  },
  {
   "cell_type": "markdown",
   "metadata": {},
   "source": [
    "### MODEL OPTIMIZATION"
   ]
  },
  {
   "cell_type": "code",
   "execution_count": 86,
   "metadata": {},
   "outputs": [],
   "source": [
    "# Notes\n",
    "\n",
    "# n_estimators: number of trees in the forest (100 by default)\n",
    "# max_depth: maximum depth of the tree (by default, nodes expand untill all leaves are pure or leaves < min_samples_split)\n",
    "# min_samples_split: minimum number of samples to split a node (2 by default)\n",
    "# min_samples_leaf: minimum number of samples required at a leaf node (1 by default)\n",
    "# max_features: number of features to consider when looking for the best split (by default, the sqrt of number of features)"
   ]
  },
  {
   "cell_type": "code",
   "execution_count": 90,
   "metadata": {
    "scrolled": false
   },
   "outputs": [
    {
     "name": "stdout",
     "output_type": "stream",
     "text": [
      "Best score: 0.9013254786450663\n",
      "Best parameters: {'max_depth': 10, 'max_features': 10, 'min_samples_split': 5, 'n_estimators': 20}\n"
     ]
    }
   ],
   "source": [
    "# CHECKING BEST PARAMETER COMBINATION FOR RANDOM FOREST CLASSIFIER\n",
    "\n",
    "from sklearn.model_selection import StratifiedKFold\n",
    "from sklearn.model_selection import GridSearchCV\n",
    "\n",
    "rfc = RandomForestClassifier()\n",
    "\n",
    "# Parameters to try\n",
    "parameter_grid = {'n_estimators':list(range(20,101,20)),\n",
    "                  'max_depth':list(range(4,16)),\n",
    "                  'min_samples_split':list(range(5,21,5)),\n",
    "                  'max_features':['auto','log2']\n",
    "                 }\n",
    "                  \n",
    "# Instantiate stratified cross validation\n",
    "cross_validation = StratifiedKFold(n_splits=5)\n",
    "\n",
    "# Create grid search object\n",
    "grid_search = GridSearchCV(rfc,\n",
    "                           param_grid=parameter_grid,\n",
    "                           cv=cross_validation,\n",
    "                           n_jobs=-1)\n",
    "\n",
    "# Fit model with grid_search\n",
    "grid_search.fit(X_train, y_train) # uses train data from previous over sampling\n",
    "print('Best score: {}'.format(grid_search.best_score_))\n",
    "print('Best parameters: {}'.format(grid_search.best_params_))"
   ]
  },
  {
   "cell_type": "markdown",
   "metadata": {},
   "source": [
    "### Run final model with best parameters"
   ]
  },
  {
   "cell_type": "code",
   "execution_count": 18,
   "metadata": {},
   "outputs": [],
   "source": [
    "X = all_over[features]\n",
    "y = all_over['like']\n",
    "X_train, X_test, y_train, y_test = train_test_split(X, y, test_size=0.3, random_state=42)"
   ]
  },
  {
   "cell_type": "code",
   "execution_count": 19,
   "metadata": {},
   "outputs": [],
   "source": [
    "rfc = RandomForestClassifier(max_depth=15,max_features='auto',min_samples_split=5, n_estimators=20)\n",
    "rfc.fit(X_train,y_train)\n",
    "y_pred = rfc.predict(X_test)"
   ]
  },
  {
   "cell_type": "code",
   "execution_count": 20,
   "metadata": {},
   "outputs": [
    {
     "data": {
      "text/plain": [
       "0.9251350024545901"
      ]
     },
     "execution_count": 20,
     "metadata": {},
     "output_type": "execute_result"
    }
   ],
   "source": [
    "accuracy_score(y_test,y_pred)"
   ]
  },
  {
   "cell_type": "code",
   "execution_count": 74,
   "metadata": {
    "scrolled": false
   },
   "outputs": [
    {
     "data": {
      "text/plain": [
       "array([[1957,   91],\n",
       "       [ 192, 1834]], dtype=int64)"
      ]
     },
     "execution_count": 74,
     "metadata": {},
     "output_type": "execute_result"
    }
   ],
   "source": [
    "confusion_matrix(y_test,y_pred)"
   ]
  },
  {
   "cell_type": "code",
   "execution_count": 35,
   "metadata": {},
   "outputs": [],
   "source": [
    "dtc = DecisionTreeClassifier(max_depth=5,max_features='auto',min_samples_split=30)\n",
    "dtc.fit(X_train,y_train)\n",
    "y_pred = rfc.predict(X_test)"
   ]
  },
  {
   "cell_type": "code",
   "execution_count": 36,
   "metadata": {},
   "outputs": [
    {
     "data": {
      "text/plain": [
       "0.9251350024545901"
      ]
     },
     "execution_count": 36,
     "metadata": {},
     "output_type": "execute_result"
    }
   ],
   "source": [
    "accuracy_score(y_pred,y_test)"
   ]
  },
  {
   "cell_type": "code",
   "execution_count": 22,
   "metadata": {},
   "outputs": [],
   "source": [
    "import io"
   ]
  },
  {
   "cell_type": "code",
   "execution_count": 24,
   "metadata": {},
   "outputs": [],
   "source": [
    "from sklearn.tree import export_graphviz"
   ]
  },
  {
   "cell_type": "code",
   "execution_count": 25,
   "metadata": {},
   "outputs": [],
   "source": [
    "import pydotplus"
   ]
  },
  {
   "cell_type": "code",
   "execution_count": 28,
   "metadata": {},
   "outputs": [],
   "source": [
    "import imageio"
   ]
  },
  {
   "cell_type": "code",
   "execution_count": 29,
   "metadata": {},
   "outputs": [],
   "source": [
    "def showtree(tree, features, path):\n",
    "    f = io.StringIO()\n",
    "    export_graphviz(tree, out_file=f,feature_names=features)\n",
    "    pydotplus.graph_from_dot_data(f.getvalue()).write_png(path)\n",
    "    img = imageio.imread( path )\n",
    "    plt.rcParams['figure.figsize'] = (20,20)\n",
    "    plt.imshow(img)"
   ]
  },
  {
   "cell_type": "code",
   "execution_count": 34,
   "metadata": {},
   "outputs": [
    {
     "data": {
      "image/png": "[encoded data removed]",
      "text/plain": [
       "<Figure size 1440x1440 with 1 Axes>"
      ]
     },
     "metadata": {
      "needs_background": "light"
     },
     "output_type": "display_data"
    }
   ],
   "source": [
    "showtree(dtc,features,'dt_02.png')"
   ]
  },
  {
   "cell_type": "code",
   "execution_count": 75,
   "metadata": {
    "scrolled": true
   },
   "outputs": [
    {
     "name": "stdout",
     "output_type": "stream",
     "text": [
      "              precision    recall  f1-score   support\n",
      "\n",
      "           0       0.91      0.96      0.93      2048\n",
      "           1       0.95      0.91      0.93      2026\n",
      "\n",
      "   micro avg       0.93      0.93      0.93      4074\n",
      "   macro avg       0.93      0.93      0.93      4074\n",
      "weighted avg       0.93      0.93      0.93      4074\n",
      "\n"
     ]
    }
   ],
   "source": [
    "print(classification_report(y_test,y_pred))"
   ]
  },
  {
   "cell_type": "code",
   "execution_count": 76,
   "metadata": {},
   "outputs": [],
   "source": [
    "importances =pd.DataFrame(rfc.feature_importances_,index=X.columns,columns=['importances']).sort_values(by=['importances'],ascending=False)"
   ]
  },
  {
   "cell_type": "code",
   "execution_count": 77,
   "metadata": {},
   "outputs": [
    {
     "data": {
      "text/html": [
       "<div>\n",
       "<style scoped>\n",
       "    .dataframe tbody tr th:only-of-type {\n",
       "        vertical-align: middle;\n",
       "    }\n",
       "\n",
       "    .dataframe tbody tr th {\n",
       "        vertical-align: top;\n",
       "    }\n",
       "\n",
       "    .dataframe thead th {\n",
       "        text-align: right;\n",
       "    }\n",
       "</style>\n",
       "<table border=\"1\" class=\"dataframe\">\n",
       "  <thead>\n",
       "    <tr style=\"text-align: right;\">\n",
       "      <th></th>\n",
       "      <th>importances</th>\n",
       "    </tr>\n",
       "  </thead>\n",
       "  <tbody>\n",
       "    <tr>\n",
       "      <th>instrumentalness</th>\n",
       "      <td>0.206387</td>\n",
       "    </tr>\n",
       "    <tr>\n",
       "      <th>acousticness</th>\n",
       "      <td>0.152982</td>\n",
       "    </tr>\n",
       "    <tr>\n",
       "      <th>danceability</th>\n",
       "      <td>0.137438</td>\n",
       "    </tr>\n",
       "    <tr>\n",
       "      <th>popularity</th>\n",
       "      <td>0.082584</td>\n",
       "    </tr>\n",
       "    <tr>\n",
       "      <th>loudness</th>\n",
       "      <td>0.075770</td>\n",
       "    </tr>\n",
       "    <tr>\n",
       "      <th>energy</th>\n",
       "      <td>0.074364</td>\n",
       "    </tr>\n",
       "    <tr>\n",
       "      <th>valence</th>\n",
       "      <td>0.059919</td>\n",
       "    </tr>\n",
       "    <tr>\n",
       "      <th>duration_ms</th>\n",
       "      <td>0.059026</td>\n",
       "    </tr>\n",
       "    <tr>\n",
       "      <th>tempo</th>\n",
       "      <td>0.046137</td>\n",
       "    </tr>\n",
       "    <tr>\n",
       "      <th>speechiness</th>\n",
       "      <td>0.046132</td>\n",
       "    </tr>\n",
       "    <tr>\n",
       "      <th>liveness</th>\n",
       "      <td>0.034322</td>\n",
       "    </tr>\n",
       "    <tr>\n",
       "      <th>key</th>\n",
       "      <td>0.016818</td>\n",
       "    </tr>\n",
       "    <tr>\n",
       "      <th>mode</th>\n",
       "      <td>0.004524</td>\n",
       "    </tr>\n",
       "    <tr>\n",
       "      <th>time_signature</th>\n",
       "      <td>0.003598</td>\n",
       "    </tr>\n",
       "  </tbody>\n",
       "</table>\n",
       "</div>"
      ],
      "text/plain": [
       "                  importances\n",
       "instrumentalness     0.206387\n",
       "acousticness         0.152982\n",
       "danceability         0.137438\n",
       "popularity           0.082584\n",
       "loudness             0.075770\n",
       "energy               0.074364\n",
       "valence              0.059919\n",
       "duration_ms          0.059026\n",
       "tempo                0.046137\n",
       "speechiness          0.046132\n",
       "liveness             0.034322\n",
       "key                  0.016818\n",
       "mode                 0.004524\n",
       "time_signature       0.003598"
      ]
     },
     "execution_count": 77,
     "metadata": {},
     "output_type": "execute_result"
    }
   ],
   "source": [
    "importances"
   ]
  },
  {
   "cell_type": "code",
   "execution_count": 78,
   "metadata": {},
   "outputs": [],
   "source": [
    "# As it has been already observed with the visualization and statisical analysis, the features that are most determinant\n",
    "# when classifying a track are instrumentalness, danceability, popularity, loudness, and valence. There are other parameters\n",
    "# also classified as important such as acousticness and energy which were not seen as important in the previous analysis."
   ]
  },
  {
   "cell_type": "code",
   "execution_count": 131,
   "metadata": {},
   "outputs": [],
   "source": [
    "from sklearn.externals import joblib"
   ]
  },
  {
   "cell_type": "code",
   "execution_count": 132,
   "metadata": {},
   "outputs": [
    {
     "data": {
      "text/plain": [
       "['final_model.sav']"
      ]
     },
     "execution_count": 132,
     "metadata": {},
     "output_type": "execute_result"
    }
   ],
   "source": [
    "# Save model to disk\n",
    "filename = 'final_model.sav'\n",
    "joblib.dump(rfc, filename)"
   ]
  }
 ],
 "metadata": {
  "kernelspec": {
   "display_name": "Python 3",
   "language": "python",
   "name": "python3"
  },
  "language_info": {
   "codemirror_mode": {
    "name": "ipython",
    "version": 3
   },
   "file_extension": ".py",
   "mimetype": "text/x-python",
   "name": "python",
   "nbconvert_exporter": "python",
   "pygments_lexer": "ipython3",
   "version": "3.7.1"
  }
 },
 "nbformat": 4,
 "nbformat_minor": 2
}
